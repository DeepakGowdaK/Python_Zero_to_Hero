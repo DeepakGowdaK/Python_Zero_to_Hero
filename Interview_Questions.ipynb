{
 "cells": [
  {
   "cell_type": "markdown",
   "source": [
    "### **1. What is unpacking ?**  \r\n",
    "**Ans:** If you have a collection of values in a list, tuple etc. Python allows you extract the values into variables. This is called unpacking.  \r\n",
    "Refer: 1.Python_Variables.ipynb/3.3  \r\n",
    "\r\n",
    "### **2. What is local, global scope and global keyword**  \r\n",
    "### **3. What is ternary operator or conditional expressions**  \r\n",
    "### **4. What is Anonymous function**  \r\n",
    "**Ans** Anonymous function is a function defined without a name.  \r\n",
    "\r\n",
    "### **5. How to pass list as an aurgement in functions ?**  \r\n",
    "**Ans**\r\n",
    "\r\n",
    "### **6. What is Arbitrary Arguments, Keyword Arguments, and Arbitrary Keyword Arguments**  \r\n",
    "**Ans**  \r\n",
    "\r\n",
    "### **7. What is **\r\n",
    "**Ans**  \r\n",
    "\r\n",
    "### **8. What is **  \r\n",
    "**Ans**  \r\n",
    "\r\n",
    "### **9. What is **  \r\n",
    "**Ans**  \r\n",
    "\r\n",
    "### **10. What is **  \r\n",
    "**Ans**  \r\n",
    "\r\n",
    "### **11. What is **  \r\n",
    "**Ans**  \r\n",
    "\r\n",
    "### **12. What is **  \r\n",
    "**Ans**  "
   ],
   "metadata": {}
  },
  {
   "cell_type": "markdown",
   "source": [],
   "metadata": {}
  }
 ],
 "metadata": {
  "orig_nbformat": 4,
  "language_info": {
   "name": "python"
  }
 },
 "nbformat": 4,
 "nbformat_minor": 2
}