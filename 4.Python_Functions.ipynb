{
 "cells": [
  {
   "cell_type": "markdown",
   "source": [
    "# **Functions**  \r\n",
    "Generally in python there are four types of functions as mentioned below.  \r\n",
    "1. The Range() Function.\r\n",
    "2. Lambda Function.\r\n",
    "3. Standard Functions.\r\n",
    "4. Recursion Functions."
   ],
   "metadata": {}
  },
  {
   "cell_type": "markdown",
   "source": [
    "## **1. The Range() Function.**  \r\n",
    "To loop through a set of code a specified number of times, we can use the `range()` function,\r\n",
    "The `range()` function returns a sequence of numbers, ***starting from 0 by default***, and increments by 1 (by default), and ends at a specified number.  \r\n",
    "\r\n",
    "> **Note:** Note that `range(6)` is not the values of 0 to 6, but the values 0 to 5."
   ],
   "metadata": {}
  },
  {
   "cell_type": "code",
   "execution_count": 1,
   "source": [
    "for x in range(6):\r\n",
    "  print(x)"
   ],
   "outputs": [
    {
     "output_type": "stream",
     "name": "stdout",
     "text": [
      "0\n",
      "1\n",
      "2\n",
      "3\n",
      "4\n",
      "5\n"
     ]
    }
   ],
   "metadata": {}
  },
  {
   "cell_type": "markdown",
   "source": [
    "> **Note:** The `range()` function defaults to 0 as a starting value, however it is possible to specify the starting value by adding a parameter: `range(2, 6)`, which means values from 2 to 6 (but not including 6):"
   ],
   "metadata": {}
  },
  {
   "cell_type": "code",
   "execution_count": 2,
   "source": [
    "for x in range(2, 6):\r\n",
    "  print(x)"
   ],
   "outputs": [
    {
     "output_type": "stream",
     "name": "stdout",
     "text": [
      "2\n",
      "3\n",
      "4\n",
      "5\n"
     ]
    }
   ],
   "metadata": {}
  },
  {
   "cell_type": "markdown",
   "source": [
    "> **Note:** The range() function defaults to increment the sequence by 1, however it is possible to specify the increment value by adding a third parameter: range(2, 20, 3):"
   ],
   "metadata": {}
  },
  {
   "cell_type": "code",
   "execution_count": 4,
   "source": [
    "for x in range(2, 20, 3):\r\n",
    "  print(x)"
   ],
   "outputs": [
    {
     "output_type": "stream",
     "name": "stdout",
     "text": [
      "2\n",
      "5\n",
      "8\n",
      "11\n",
      "14\n",
      "17\n"
     ]
    }
   ],
   "metadata": {}
  },
  {
   "cell_type": "markdown",
   "source": [
    "## **2. Lambda Function.**  \r\n",
    "A lambda function is a small anonymous function.  \r\n",
    "A lambda function can take any number of arguments, but can only have one expression.\r\n",
    "\r\n",
    "`Syntax`  \r\n",
    "> lambda arguments : expression  "
   ],
   "metadata": {}
  },
  {
   "cell_type": "code",
   "execution_count": 10,
   "source": [
    "## Lambda function with single argument.\r\n",
    "x = lambda a : a + 10\r\n",
    "print(\"Output of lambda function with single argument\")\r\n",
    "print(x(5))\r\n",
    "\r\n",
    "## Lambda function with double arguments.\r\n",
    "y = lambda h, k : h * k\r\n",
    "print(\"Output of lambda function with double argument\")\r\n",
    "print(y(5, 6))\r\n",
    "\r\n",
    "## Lambda function with multiple arguments.\r\n",
    "z = lambda d, e, f : (d+e)*f\r\n",
    "print(\"Output of lambda function with multiple argument\")\r\n",
    "print(z(5, 6, 2))"
   ],
   "outputs": [
    {
     "output_type": "stream",
     "name": "stdout",
     "text": [
      "Output of lambda function with single argument\n",
      "15\n",
      "Output of lambda function with double argument\n",
      "30\n",
      "Output of lambda function with double argument\n",
      "22\n"
     ]
    }
   ],
   "metadata": {}
  },
  {
   "cell_type": "markdown",
   "source": [
    "### **Why Use Lambda Functions ?**\r\n",
    "The power of lambda is better shown when you use them as an anonymous function inside another function.  \r\n",
    "Say you have a function definition that takes one argument, and that argument will be multiplied with an unknown number:"
   ],
   "metadata": {}
  },
  {
   "cell_type": "code",
   "execution_count": 11,
   "source": [
    "def myfunc(n):\r\n",
    "  return lambda a : a * n\r\n",
    "\r\n",
    "mydoubler = myfunc(2)\r\n",
    "mytripler = myfunc(3)\r\n",
    "\r\n",
    "print(mydoubler(11))\r\n",
    "print(mytripler(11))"
   ],
   "outputs": [
    {
     "output_type": "stream",
     "name": "stdout",
     "text": [
      "22\n",
      "33\n"
     ]
    }
   ],
   "metadata": {}
  },
  {
   "cell_type": "markdown",
   "source": [
    "> ### **Note:** Use lambda functions when an anonymous function is required for a short period of time."
   ],
   "metadata": {}
  },
  {
   "cell_type": "markdown",
   "source": [
    "## **3. Standard Functions.**"
   ],
   "metadata": {}
  },
  {
   "cell_type": "markdown",
   "source": [
    "## **4. Recursion Functions.**"
   ],
   "metadata": {}
  },
  {
   "cell_type": "markdown",
   "source": [],
   "metadata": {}
  }
 ],
 "metadata": {
  "orig_nbformat": 4,
  "language_info": {
   "name": "python",
   "version": "3.9.6",
   "mimetype": "text/x-python",
   "codemirror_mode": {
    "name": "ipython",
    "version": 3
   },
   "pygments_lexer": "ipython3",
   "nbconvert_exporter": "python",
   "file_extension": ".py"
  },
  "kernelspec": {
   "name": "python3",
   "display_name": "Python 3.9.6 64-bit"
  },
  "interpreter": {
   "hash": "08a7378106735304ab00d5da0812f69b231a6927b2b06644e00fd5fac1bfef7e"
  }
 },
 "nbformat": 4,
 "nbformat_minor": 2
}