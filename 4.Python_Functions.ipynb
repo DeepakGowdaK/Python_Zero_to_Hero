{
 "cells": [
  {
   "cell_type": "markdown",
   "source": [
    "# **Functions**  \r\n",
    "Generally in python there are four types of functions as mentioned below.  \r\n",
    "1. The Range() Function.\r\n",
    "2. Lambda Function.\r\n",
    "3. Standard Functions.\r\n",
    "4. Recursion Functions.\r\n",
    "5. Super() function. // This part will be discussed in Python OOPS concepts."
   ],
   "metadata": {}
  },
  {
   "cell_type": "markdown",
   "source": [
    "## **1. The Range() Function.**  \r\n",
    "To loop through a set of code a specified number of times, we can use the `range()` function,\r\n",
    "The `range()` function returns a sequence of numbers, ***starting from 0 by default***, and increments by 1 (by default), and ends at a specified number.  \r\n",
    "\r\n",
    "> **Note:** Note that `range(6)` is not the values of 0 to 6, but the values 0 to 5."
   ],
   "metadata": {}
  },
  {
   "cell_type": "code",
   "execution_count": 1,
   "source": [
    "for x in range(6):\r\n",
    "  print(x)"
   ],
   "outputs": [
    {
     "output_type": "stream",
     "name": "stdout",
     "text": [
      "0\n",
      "1\n",
      "2\n",
      "3\n",
      "4\n",
      "5\n"
     ]
    }
   ],
   "metadata": {}
  },
  {
   "cell_type": "markdown",
   "source": [
    "> **Note:** The `range()` function defaults to 0 as a starting value, however it is possible to specify the starting value by adding a parameter: `range(2, 6)`, which means values from 2 to 6 (but not including 6):"
   ],
   "metadata": {}
  },
  {
   "cell_type": "code",
   "execution_count": 2,
   "source": [
    "for x in range(2, 6):\r\n",
    "  print(x)"
   ],
   "outputs": [
    {
     "output_type": "stream",
     "name": "stdout",
     "text": [
      "2\n",
      "3\n",
      "4\n",
      "5\n"
     ]
    }
   ],
   "metadata": {}
  },
  {
   "cell_type": "markdown",
   "source": [
    "> **Note:** The range() function defaults to increment the sequence by 1, however it is possible to specify the increment value by adding a third parameter: range(2, 20, 3):"
   ],
   "metadata": {}
  },
  {
   "cell_type": "code",
   "execution_count": 4,
   "source": [
    "for x in range(2, 20, 3):\r\n",
    "  print(x)"
   ],
   "outputs": [
    {
     "output_type": "stream",
     "name": "stdout",
     "text": [
      "2\n",
      "5\n",
      "8\n",
      "11\n",
      "14\n",
      "17\n"
     ]
    }
   ],
   "metadata": {}
  },
  {
   "cell_type": "markdown",
   "source": [
    "## **2. Lambda Function.**  \r\n",
    "A lambda function is a small anonymous function.  \r\n",
    "A lambda function can take any number of arguments, but can only have one expression.\r\n",
    "\r\n",
    "`Syntax`  \r\n",
    "> lambda arguments : expression  "
   ],
   "metadata": {}
  },
  {
   "cell_type": "code",
   "execution_count": 10,
   "source": [
    "## Lambda function with single argument.\r\n",
    "x = lambda a : a + 10\r\n",
    "print(\"Output of lambda function with single argument\")\r\n",
    "print(x(5))\r\n",
    "\r\n",
    "## Lambda function with double arguments.\r\n",
    "y = lambda h, k : h * k\r\n",
    "print(\"Output of lambda function with double argument\")\r\n",
    "print(y(5, 6))\r\n",
    "\r\n",
    "## Lambda function with multiple arguments.\r\n",
    "z = lambda d, e, f : (d+e)*f\r\n",
    "print(\"Output of lambda function with multiple argument\")\r\n",
    "print(z(5, 6, 2))"
   ],
   "outputs": [
    {
     "output_type": "stream",
     "name": "stdout",
     "text": [
      "Output of lambda function with single argument\n",
      "15\n",
      "Output of lambda function with double argument\n",
      "30\n",
      "Output of lambda function with double argument\n",
      "22\n"
     ]
    }
   ],
   "metadata": {}
  },
  {
   "cell_type": "markdown",
   "source": [
    "### **Why Use Lambda Functions ?**\r\n",
    "The power of lambda is better shown when you use them as an anonymous function inside another function.  \r\n",
    "Say you have a function definition that takes one argument, and that argument will be multiplied with an unknown number:"
   ],
   "metadata": {}
  },
  {
   "cell_type": "code",
   "execution_count": 11,
   "source": [
    "def myfunc(n):\r\n",
    "  return lambda a : a * n\r\n",
    "\r\n",
    "mydoubler = myfunc(2)\r\n",
    "mytripler = myfunc(3)\r\n",
    "\r\n",
    "print(mydoubler(11))\r\n",
    "print(mytripler(11))"
   ],
   "outputs": [
    {
     "output_type": "stream",
     "name": "stdout",
     "text": [
      "22\n",
      "33\n"
     ]
    }
   ],
   "metadata": {}
  },
  {
   "cell_type": "markdown",
   "source": [
    "> ### **Note:** Use lambda functions when an anonymous function is required for a short period of time."
   ],
   "metadata": {}
  },
  {
   "cell_type": "markdown",
   "source": [
    "## **3. Standard Functions.**  \r\n",
    "- A function is a block of code which only runs when it is called.\r\n",
    "- You can pass data, known as parameters, into a function.\r\n",
    "- A function can return data as a result.  \r\n",
    "- By default, a function must be called with the correct number of arguments. Meaning that if your function expects 2 arguments, you have to call the function with 2 arguments, not more, and not less. If you try to call the function with 1 or 3 arguments, you will get an `error`.  \r\n",
    "- **Default Parameter value**, If we call the function without argument, it uses the default value, check 3.1 for more info.  \r\n",
    "- **Return Values**, To let a function return a value, use the return statement.  \r\n",
    "- **Pass Statement**, function definitions cannot be empty, but if you for some reason have a function definition with no content, put in the pass statement to avoid getting an error.  \r\n",
    "\r\n",
    "\r\n",
    "Notes while creating the functions.\r\n",
    "1. Creating a function.\r\n",
    "    - In Python a function is defined using the `def` keyword.  \r\n",
    "    Usage  \r\n",
    "    > `def` my_function():  \r\n",
    "  print(\"Hello from a function\")\r\n",
    "2. Calling a Function.\r\n",
    "    - To call a function, use the function name followed by parenthesis.  \r\n",
    "    Usage  \r\n",
    "    > `def` my_function():  \r\n",
    "    print(\"Hello from a function\")  \r\n",
    "    `my_function()`  \r\n",
    "3. Return values. \r\n",
    "    - To let a function return a value, use the return statement.  \r\n",
    "    Usage  \r\n",
    "    > def my_function(x):  \r\n",
    "      `return` 5 * x  \r\n",
    "      print(my_function(3))  \r\n",
    "4. Pass statement.  \r\n",
    "    - function definitions cannot be empty, but if you for some reason have a function definition with no content, put in the pass statement to avoid getting an error.  \r\n",
    "    Usage  \r\n",
    "    > def myfunction():  \r\n",
    "      `pass`"
   ],
   "metadata": {}
  },
  {
   "cell_type": "markdown",
   "source": [
    "## **3.1 Default Parameter value**  \r\n",
    "The following example shows how to use a default parameter value.\r\n",
    "\r\n",
    "If we call the function without argument, it uses the default value:  \r\n",
    "> def my_function(country = \"Norway\"):   `//we're passing country = norway as default parameter.`  \r\n",
    "  print(\"I am from \" + country)  \r\n",
    "  my_function(\"Sweden\")  "
   ],
   "metadata": {}
  },
  {
   "cell_type": "code",
   "execution_count": 1,
   "source": [
    "def my_function(country = \"Norway\"):\r\n",
    "  print(\"I am from \" + country)\r\n",
    "\r\n",
    "my_function(\"India\")\r\n",
    "my_function()"
   ],
   "outputs": [
    {
     "output_type": "stream",
     "name": "stdout",
     "text": [
      "I am from India\n",
      "I am from Norway\n"
     ]
    }
   ],
   "metadata": {}
  },
  {
   "cell_type": "markdown",
   "source": [
    "## **3.2 Arguments**  \r\n",
    "Information can be passed into functions as arguments.\r\n",
    "\r\n",
    "Arguments are specified after the function name, inside the parentheses. You can add as many arguments as you want, just separate them with a comma. \r\n",
    "\r\n",
    "Further, Python aruments are classified in to three main classes depending upon the arguments state.  \r\n",
    "3.2.1 Arbitrary Arguments (***args**).  \r\n",
    "3.2.2 Keyword Arguments (**kwargs**).  \r\n",
    "3.2.3 Arbitrary Keyword Arguments (****kwargs**).  \r\n",
    "\r\n",
    "> **Note:** Arbitrary Arguments are often shortened to `*args`,   \r\n",
    "Keyword Arbitrary are often shortened to `**kwargs`, and  \r\n",
    "Arbitrary Keyword Arguments are often shortened to `**kwargs` in Python documentations.  \r\n",
    "\r\n",
    "Usage  \r\n",
    "> def my_function(fname):  \r\n",
    "  print(fname + \" Refsnes\")  \r\n",
    "  my_function(\"john\")     // john is `argument`.  \r\n",
    "\r\n",
    "### **Parameters or Arguments ?**  \r\n",
    "The terms `parameter` and `argument` can be used for the same thing: information that are passed into a function.\r\n",
    "\r\n",
    "From a function's perspective:  \r\n",
    "- A `parameter` is the variable listed inside the parentheses in the function definition.\r\n",
    "- An `argument` is the value that is sent to the function when it is called.  \r\n",
    "\r\n",
    "Usage  \r\n",
    "> def my_function(`This will be Parameter`)):  \r\n",
    "  print(fname + \" Refsnes\")  \r\n",
    "  my_function(`This will be argument`)  "
   ],
   "metadata": {}
  },
  {
   "cell_type": "markdown",
   "source": [
    "### **3.2.1 Arbitrary Arguments** (*args).  \r\n",
    "If you do not know how many arguments that will be passed into your function, add a * before the parameter name in the function definition.\r\n",
    "\r\n",
    "This way the function will receive a tuple of arguments, and can access the items accordingly: "
   ],
   "metadata": {}
  },
  {
   "cell_type": "code",
   "execution_count": 3,
   "source": [
    "def my_function(*kids):\r\n",
    "  print(\"The youngest child is \" + kids[2])\r\n",
    "my_function(\"Emil\", \"Tobias\", \"Linus\")"
   ],
   "outputs": [
    {
     "output_type": "stream",
     "name": "stdout",
     "text": [
      "The youngest child is Linus\n"
     ]
    }
   ],
   "metadata": {}
  },
  {
   "cell_type": "markdown",
   "source": [
    "**3.2.2 Keyword Arguments** (kwargs).  \r\n",
    "You can also send arguments with the key = value syntax.\r\n",
    "\r\n",
    "This way the order of the arguments does not matter."
   ],
   "metadata": {}
  },
  {
   "cell_type": "code",
   "execution_count": 5,
   "source": [
    "def my_function(child3, child2, child1):\r\n",
    "  print(\"The youngest child is \" + child2)\r\n",
    "\r\n",
    "my_function(child1 = \"Emil\", child2 = \"Tobias\", child3 = \"Linus\")"
   ],
   "outputs": [
    {
     "output_type": "stream",
     "name": "stdout",
     "text": [
      "The youngest child is Tobias\n"
     ]
    }
   ],
   "metadata": {}
  },
  {
   "cell_type": "markdown",
   "source": [
    "**3.2.3 Arbitrary Keyword Arguments** (**kwargs).  \r\n",
    "If you do not know how many keyword arguments that will be passed into your function, add two asterisk: `**` before the parameter name in the function definition.\r\n",
    "\r\n",
    "This way the function will receive a dictionary of arguments, and can access the items accordingly:"
   ],
   "metadata": {}
  },
  {
   "cell_type": "code",
   "execution_count": 8,
   "source": [
    "def my_function(**kid):\r\n",
    "  print(\"His last name is \" + kid[\"lname\"])\r\n",
    "\r\n",
    "my_function(fname = \"Tobias\", lname = \"Refsnes\")"
   ],
   "outputs": [
    {
     "output_type": "stream",
     "name": "stdout",
     "text": [
      "His last name is Refsnes\n"
     ]
    }
   ],
   "metadata": {}
  },
  {
   "cell_type": "markdown",
   "source": [
    "## **4. Recursion Functions.**  \r\n",
    "Python also accepts function recursion, which means a defined function can call itself.\r\n",
    "\r\n",
    "Recursion is a common mathematical and programming concept. It means that a function calls itself. This has the benefit of meaning that you can loop through data to reach a result.\r\n",
    "\r\n",
    "The developer should be very careful with recursion as it can be quite easy to slip into writing a function which never terminates, or one that uses excess amounts of memory or processor power. However, when written correctly recursion can be a very efficient and mathematically-elegant approach to programming.\r\n",
    "\r\n",
    "In this example, tri_recursion() is a function that we have defined to call itself (\"recurse\"). We use the k variable as the data, which decrements (-1) every time we recurse. The recursion ends when the condition is not greater than 0 (i.e. when it is 0).\r\n",
    "\r\n",
    "To a new developer it can take some time to work out how exactly this works, best way to find out is by testing and modifying it.  \r\n",
    "\r\n",
    "<img src=\"Python_recursiveFunction.png\" alt=\"Python_recursiveFunction_steps\" style=\"width: 600px;\"/>"
   ],
   "metadata": {}
  },
  {
   "cell_type": "code",
   "execution_count": 10,
   "source": [
    "def tri_recursion(k):\r\n",
    "  if(k > 0):\r\n",
    "    result = k + tri_recursion(k - 1)\r\n",
    "    print(result)\r\n",
    "  else:\r\n",
    "    result = 0\r\n",
    "  return result\r\n",
    "\r\n",
    "print(\"\\n\\nRecursion Example Results\")\r\n",
    "tri_recursion(6)"
   ],
   "outputs": [
    {
     "output_type": "stream",
     "name": "stdout",
     "text": [
      "\n",
      "\n",
      "Recursion Example Results\n",
      "1\n",
      "3\n",
      "6\n",
      "10\n",
      "15\n",
      "21\n"
     ]
    },
    {
     "output_type": "execute_result",
     "data": {
      "text/plain": [
       "21"
      ]
     },
     "metadata": {},
     "execution_count": 10
    }
   ],
   "metadata": {}
  }
 ],
 "metadata": {
  "orig_nbformat": 4,
  "language_info": {
   "name": "python",
   "version": "3.9.6",
   "mimetype": "text/x-python",
   "codemirror_mode": {
    "name": "ipython",
    "version": 3
   },
   "pygments_lexer": "ipython3",
   "nbconvert_exporter": "python",
   "file_extension": ".py"
  },
  "kernelspec": {
   "name": "python3",
   "display_name": "Python 3.9.6 64-bit"
  },
  "interpreter": {
   "hash": "08a7378106735304ab00d5da0812f69b231a6927b2b06644e00fd5fac1bfef7e"
  }
 },
 "nbformat": 4,
 "nbformat_minor": 2
}