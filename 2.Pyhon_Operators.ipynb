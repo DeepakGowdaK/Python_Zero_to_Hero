{
 "cells": [
  {
   "cell_type": "markdown",
   "source": [
    "# **Operators**  \r\n",
    "Operators are used to perform operations on variables and values. below are the types of operatore used in python.  \r\n",
    "1. Arithmetic Operators\r\n",
    "2. Assignment Operators\r\n",
    "3. Comparision Operators\r\n",
    "4. Logical Operators\r\n",
    "5. Identity Operators\r\n",
    "6. Membership Operators\r\n",
    "7. Bitwise Operators"
   ],
   "metadata": {}
  },
  {
   "cell_type": "markdown",
   "source": [
    "## **1. Arithmetic Operators**  \r\n",
    "Where x=7, y=2\r\n",
    "| Operator | Name | Example | Output |\r\n",
    "| --- | --- | --- | --- |\r\n",
    "| + | Addition | x + y | 9 |\r\n",
    "| - | Subtraction | x - y | 5|\r\n",
    "| * | Multiplication | x * y | 14|\r\n",
    "| / | Division | x / y |3.5|\r\n",
    "| % | Modulus | x % y |1| \r\n",
    "| ** | Exponentiation | x ** y |49|\r\n",
    "| // | Floor division | x // y |3|\r\n",
    "\t\t"
   ],
   "metadata": {}
  },
  {
   "cell_type": "markdown",
   "source": [
    "## **2. Assignment Operators**  \r\n",
    "Where x=5  \r\n",
    "|Operator|\tExample|\tSame As|Output|\r\n",
    "|---|---|---|---|\r\n",
    "|=\t|x = 5|\tx = 5|5|\t\r\n",
    "|+=\t|x += 3\t|x = x + 3|8|\t\r\n",
    "|-=\t|x -= 3\t|x = x - 3|2|\r\n",
    "|*=\t|x *= 3\t|x = x * 3|15|\r\n",
    "|/=\t|x /= 3\t|x = x / 3|1.6667|\r\n",
    "|%=\t|x %= 3\t|x = x % 3|2|\r\n",
    "|//=\t|x //= 3\t|x = x // 3|1|\t\r\n",
    "|**=\t|x **= 3\t|x = x ** 3|125|\r\n",
    "|&=\t|x &= 3\t|x = x & 3|1|\r\n",
    "|^=\t|x ^= 3\t|x = x ^ 3|6|\r\n",
    "|>>=\t|x >>= 3\t|x = x >> 3|0|\t\r\n",
    "|<<=\t|x <<= 3\t|x = x << 3|40|\r\n",
    "||\t|Check with pipe=|7|"
   ],
   "metadata": {}
  },
  {
   "cell_type": "markdown",
   "source": [],
   "metadata": {}
  }
 ],
 "metadata": {
  "orig_nbformat": 4,
  "language_info": {
   "name": "python"
  }
 },
 "nbformat": 4,
 "nbformat_minor": 2
}