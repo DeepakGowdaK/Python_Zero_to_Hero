{
 "cells": [
  {
   "cell_type": "markdown",
   "metadata": {},
   "source": [
    "# **Object oriented Programming system in Python**  \n",
    "Python OOPs concepts include   \n",
    "1. Class  \n",
    "2. Object  \n",
    "3. Method  \n",
    "4. Inheritance  \n",
    "5. Polymorphism  \n",
    "6. Data Abstraction  \n",
    "7. Encapsulation\n"
   ]
  },
  {
   "cell_type": "markdown",
   "metadata": {},
   "source": [
    "In programming languages, mainly there are two approaches that are used to write program or code.\n",
    "1. Procedural Programming\n",
    "2. Object-Oriented Programming"
   ]
  },
  {
   "cell_type": "markdown",
   "metadata": {},
   "source": [
    "### **Difference between Object-Oriented and Procedural Oriented Programming**  \n",
    "|Object-Oriented Programming (OOP) | Procedural-Oriented Programming (Pop) |\n",
    "|---|---|\n",
    "|It is a bottom-up approach | It is a top-down approach|\n",
    "|Program is divided into objects | Program is divided into functions|\n",
    "|Makes use of `Access modifiers`  ‘public’, private’, protected’|Doesn’t use Access modifiers|\n",
    "| It is more secure |It is less secure|\n",
    "|Object can move freely within member functions |Data can move freely from function to function within programs|\n",
    "|It supports inheritance |It does not support inheritance|"
   ]
  },
  {
   "cell_type": "markdown",
   "metadata": {},
   "source": [
    "## **Structure of OOPs**  \n",
    "<img src=\"Concepts_of_OOPs_in_python.jpg\" alt='Concepts_of_OOPs_in_python File'>"
   ]
  },
  {
   "cell_type": "markdown",
   "metadata": {},
   "source": [
    "## **1. Classes**  \n",
    "**Definition:** A class is nothing but just a group of `attributes` and `methods`. Classes are user-defined. We can use all the concepts of procedural programming in class.  \n",
    "\n",
    "**Attributes:** We already learned about variables in our previous topics. Same like variables, attributes are represented by variables that are used to store some value or data.  \n",
    "\n",
    "**Methods:** We already learned about functions. Same like functions, methods perform action or tasks when needed. It is very similar to functions.  \n",
    "\n",
    "Syntax  \n",
    "> class class_name(): // class1 is the name of the class  \n",
    "> #body of class    \n",
    "> #attributes    \n",
    "> #Method  \n",
    "  \n",
    "  \n",
    "\n",
    "<img src=\"Classes_consists.jpg\" alt='Classes concept flow diagram'>  \n",
    "\n",
    "**Methods:** Already discussed about class methods above.  \n",
    "**Class variables:** Class variables and attributes are same that we have already learned above.\n"
   ]
  },
  {
   "cell_type": "markdown",
   "metadata": {},
   "source": [
    "## **2. Objects**\n",
    "**Definition** Objects are an instance of a class. `or` An object is nothing but just a variable that refers to a class and its elements. Without making an object of class we cannot revoke the attributes (class variables, class methods) of class. We can create at least one object of a class and more than one objects also based on our requirements. We will see both examples on object creation of a class (one object and two objects) Syntax of creating an object of a class.  \n",
    "\n",
    "Syntax  \n",
    "> obj = class_name()  \n",
    "> #class_attributes (variables ets.,)  \n",
    "> #class_methods (methods etc)   \n",
    "\n",
    "Object creation  \n",
    "object_name = class_name()  \n",
    "object_name.class_attributes  \n",
    "object_name.class_methods  "
   ]
  },
  {
   "cell_type": "markdown",
   "metadata": {},
   "source": [
    "## **3. Methods**  \n",
    "> The method is a function that is associated with an object. In Python, a method is not unique to class instances. Any object type can have methods.   "
   ]
  },
  {
   "cell_type": "markdown",
   "metadata": {},
   "source": [
    "## **Object-Oriented Programming methodologies**  \n",
    "Object-Oriented Programming methodologies deal with the following concepts.  \n",
    "\n",
    "4. Inheritance  \n",
    "5. Polymorphism  \n",
    "6. Abstraction  \n",
    "7. Encapsulation"
   ]
  },
  {
   "cell_type": "markdown",
   "metadata": {},
   "source": [
    "## **4. Inheritance**  \n",
    "\n",
    "Ever heard of this dialogue from relatives “you look exactly like your father/mother” the reason behind this is called ‘inheritance’. From the Programming aspect, It generally means “inheriting or transfer of characteristics from parent to child class without any modification”. The new class is called the derived/child class and the one from which it is derived is called a parent/base class.  \n",
    "\n",
    "Types of Inheritence  \n",
    "4.1.Single Inheritence  \n",
    "4.2 Multilevel Inheritence  \n",
    "4.3 Hierarchical Inheritence  \n",
    "4.4 Multiple Inheritence  \n",
    "4.5 Hybrid Inheritance  \n",
    "\n",
    "<img src='Types_of_Inheritance.jpg' alt='Types_of_Inheritance'>"
   ]
  },
  {
   "cell_type": "markdown",
   "metadata": {},
   "source": [
    "### **4.1.Single Inheritence**  \n",
    "Single level inheritance enables a derived class to inherit characteristics from a single parent class."
   ]
  },
  {
   "cell_type": "code",
   "execution_count": 1,
   "metadata": {},
   "outputs": [
    {
     "ename": "NameError",
     "evalue": "name 'self' is not defined",
     "output_type": "error",
     "traceback": [
      "\u001b[1;31m---------------------------------------------------------------------------\u001b[0m",
      "\u001b[1;31mNameError\u001b[0m                                 Traceback (most recent call last)",
      "\u001b[1;32mC:\\Users\\DEEPAK~1.R\\AppData\\Local\\Temp/ipykernel_20164/4034419861.py\u001b[0m in \u001b[0;36m<module>\u001b[1;34m\u001b[0m\n\u001b[0;32m     38\u001b[0m \u001b[1;33m\u001b[0m\u001b[0m\n\u001b[0;32m     39\u001b[0m \u001b[1;31m#print(employeeOneObject.age)\u001b[0m\u001b[1;33m\u001b[0m\u001b[1;33m\u001b[0m\u001b[1;33m\u001b[0m\u001b[0m\n\u001b[1;32m---> 40\u001b[1;33m \u001b[0mprint\u001b[0m\u001b[1;33m(\u001b[0m\u001b[0memployeeTwoObject\u001b[0m\u001b[1;33m.\u001b[0m\u001b[0mfullname\u001b[0m\u001b[1;33m(\u001b[0m\u001b[1;33m)\u001b[0m\u001b[1;33m)\u001b[0m\u001b[1;33m\u001b[0m\u001b[1;33m\u001b[0m\u001b[0m\n\u001b[0m\u001b[0;32m     41\u001b[0m \u001b[1;31m#print(employeeTwoObject.id)\u001b[0m\u001b[1;33m\u001b[0m\u001b[1;33m\u001b[0m\u001b[1;33m\u001b[0m\u001b[0m\n",
      "\u001b[1;32mC:\\Users\\DEEPAK~1.R\\AppData\\Local\\Temp/ipykernel_20164/4034419861.py\u001b[0m in \u001b[0;36mfullname\u001b[1;34m(slef)\u001b[0m\n\u001b[0;32m      8\u001b[0m \u001b[1;33m\u001b[0m\u001b[0m\n\u001b[0;32m      9\u001b[0m     \u001b[1;32mdef\u001b[0m \u001b[0mfullname\u001b[0m\u001b[1;33m(\u001b[0m\u001b[0mslef\u001b[0m\u001b[1;33m)\u001b[0m\u001b[1;33m:\u001b[0m\u001b[1;33m\u001b[0m\u001b[1;33m\u001b[0m\u001b[0m\n\u001b[1;32m---> 10\u001b[1;33m         \u001b[0mFullName\u001b[0m \u001b[1;33m=\u001b[0m \u001b[0mself\u001b[0m\u001b[1;33m.\u001b[0m\u001b[0mFname\u001b[0m \u001b[1;33m+\u001b[0m \u001b[0mself\u001b[0m\u001b[1;33m.\u001b[0m\u001b[0mLname\u001b[0m\u001b[1;33m\u001b[0m\u001b[1;33m\u001b[0m\u001b[0m\n\u001b[0m\u001b[0;32m     11\u001b[0m         \u001b[1;32mreturn\u001b[0m \u001b[0mFullName\u001b[0m\u001b[1;33m\u001b[0m\u001b[1;33m\u001b[0m\u001b[0m\n\u001b[0;32m     12\u001b[0m \u001b[1;33m\u001b[0m\u001b[0m\n",
      "\u001b[1;31mNameError\u001b[0m: name 'self' is not defined"
     ]
    }
   ],
   "source": [
    "# Single inheritance \n",
    "class Parent_class: # Base class or Parent class\n",
    "    def __init__(self, Fname, Lname, age, salary):  \n",
    "        self.Fname = Fname\n",
    "        self.Lname = Lname\n",
    "        self.age = age\n",
    "        self.salary = salary\n",
    "    \n",
    "    def fullname(self):\n",
    "        FullName = self.Fname + self.Lname\n",
    "        return FullName\n",
    "    \n",
    "    def userID(self):\n",
    "        return f'{self.Fname}.{self.Lname}+@companyName.com'\n",
    "\n",
    "    def designation(self):\n",
    "        if salary > 25000:\n",
    "            return Manager\n",
    "        elif salary > 1000:\n",
    "            return Sr.Engineer\n",
    "        else:\n",
    "            return Developer\n",
    " \n",
    "class child_class(Parent_class): #This is a child class\n",
    "    def __init__(self, Fname, Lname, age, salary,id, dept):\n",
    "        #self.name = name\n",
    "        #self.age = age\n",
    "        #self.salary = salary\n",
    "        self.id = id\n",
    "        self.dept = dept\n",
    "    \n",
    "    def department(self, dept):\n",
    "        return dept\n",
    "\n",
    "\n",
    "#employeeOneObject = parent_class('John', 'doe',22,1000) #calling parent class  \n",
    "employeeTwoObject = child_class('Jack','saw', 28, 23000, 'CID010210', 'Software')\n",
    " \n",
    "#print(employeeOneObject.age)\n",
    "print(employeeTwoObject.fullname())\n",
    "#print(employeeTwoObject.id)"
   ]
  },
  {
   "cell_type": "markdown",
   "metadata": {},
   "source": []
  }
 ],
 "metadata": {
  "interpreter": {
   "hash": "4cda9959e67a3991815d4c3f8f8b89c33aa308d72b1e839cef19e7e841945cd6"
  },
  "kernelspec": {
   "display_name": "Python 3.9.6 64-bit",
   "name": "python3"
  },
  "language_info": {
   "codemirror_mode": {
    "name": "ipython",
    "version": 3
   },
   "file_extension": ".py",
   "mimetype": "text/x-python",
   "name": "python",
   "nbconvert_exporter": "python",
   "pygments_lexer": "ipython3",
   "version": "3.9.6"
  },
  "orig_nbformat": 4
 },
 "nbformat": 4,
 "nbformat_minor": 2
}
