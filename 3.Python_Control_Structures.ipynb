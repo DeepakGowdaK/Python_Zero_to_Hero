{
 "cells": [
  {
   "cell_type": "markdown",
   "metadata": {},
   "source": [
    "# **Control Structures**  \n",
    "1. Sequential Control\n",
    "2. Conditional Control\n",
    "3. Iterative Control"
   ]
  },
  {
   "cell_type": "markdown",
   "metadata": {},
   "source": [
    "## **1. Sequential Control**  \n",
    "Line by line code execution of python programming is referred as sequential control structures."
   ]
  },
  {
   "cell_type": "markdown",
   "metadata": {},
   "source": [
    "## **2. Conditional Control**  \n",
    "Usage:  \n",
    "`if`  \n",
    "`elif`  \n",
    "`else`  \n",
    "and nested `if` and combination of above.  \n",
    "\n",
    "**Example:** `if`  "
   ]
  },
  {
   "cell_type": "code",
   "execution_count": 5,
   "metadata": {},
   "outputs": [
    {
     "name": "stdout",
     "output_type": "stream",
     "text": [
      "b is greater than a\n"
     ]
    }
   ],
   "source": [
    "a = 33\n",
    "b = 200\n",
    "if b > a:\n",
    "  print(\"b is greater than a\")"
   ]
  },
  {
   "cell_type": "markdown",
   "metadata": {},
   "source": [
    "**Example:** `elif`  "
   ]
  },
  {
   "cell_type": "code",
   "execution_count": 2,
   "metadata": {},
   "outputs": [
    {
     "name": "stdout",
     "output_type": "stream",
     "text": [
      "a and b are equal\n"
     ]
    }
   ],
   "source": [
    "a = 33\n",
    "b = 33\n",
    "if b > a:\n",
    "  print(\"b is greater than a\")\n",
    "elif a == b:\n",
    "  print(\"a and b are equal\")"
   ]
  },
  {
   "cell_type": "markdown",
   "metadata": {},
   "source": [
    "**Example:** `else`  "
   ]
  },
  {
   "cell_type": "code",
   "execution_count": 3,
   "metadata": {},
   "outputs": [
    {
     "name": "stdout",
     "output_type": "stream",
     "text": [
      "a is greater than b\n"
     ]
    }
   ],
   "source": [
    "a = 200\n",
    "b = 33\n",
    "if b > a:\n",
    "  print(\"b is greater than a\")\n",
    "elif a == b:\n",
    "  print(\"a and b are equal\")\n",
    "else:\n",
    "  print(\"a is greater than b\")"
   ]
  },
  {
   "cell_type": "markdown",
   "metadata": {},
   "source": [
    "**Ternary if operator**  \n",
    "If you have only one statement to execute, you can put it on the same line as the if statement."
   ]
  },
  {
   "cell_type": "code",
   "execution_count": 9,
   "metadata": {},
   "outputs": [
    {
     "name": "stdout",
     "output_type": "stream",
     "text": [
      "a is greater than b\n"
     ]
    }
   ],
   "source": [
    "a=10 ##trenary if operator or short hand if statement.\n",
    "b=5\n",
    "if a > b: print(\"a is greater than b\")"
   ]
  },
  {
   "cell_type": "markdown",
   "metadata": {},
   "source": [
    "**Ternary If ... Else operator**  \n",
    "If you have only one statement to execute, one for if, and one for else, you can put it all on the same line:"
   ]
  },
  {
   "cell_type": "code",
   "execution_count": 8,
   "metadata": {},
   "outputs": [
    {
     "name": "stdout",
     "output_type": "stream",
     "text": [
      "B\n"
     ]
    }
   ],
   "source": [
    "a = 2\n",
    "b = 330\n",
    "print(\"A\") if a > b else print(\"B\")"
   ]
  },
  {
   "cell_type": "markdown",
   "metadata": {},
   "source": [
    "**Example:** `Nested if`  "
   ]
  },
  {
   "cell_type": "code",
   "execution_count": 4,
   "metadata": {},
   "outputs": [
    {
     "name": "stdout",
     "output_type": "stream",
     "text": [
      "Above ten,\n",
      "and also above 20!\n"
     ]
    }
   ],
   "source": [
    "x = 41\n",
    "\n",
    "if x > 10:\n",
    "  print(\"Above ten,\")\n",
    "  if x > 20:\n",
    "    print(\"and also above 20!\")\n",
    "  else:\n",
    "    print(\"but not above 20.\")"
   ]
  },
  {
   "cell_type": "markdown",
   "metadata": {},
   "source": [
    "## **2.1 The pass Statement**  \n",
    "`if` statements cannot be empty, but if you for some reason have an `if` statement with no content, put in the `pass` statement to avoid getting an error.  \n",
    "\n",
    "a = 33  \n",
    "b = 200  \n",
    "\n",
    "if b > a:  \n",
    "  pass  "
   ]
  },
  {
   "cell_type": "markdown",
   "metadata": {},
   "source": [
    "## **3. Iterative Control**  \n",
    "Python has two primitive loop commands:  \n",
    "- `while` loops\n",
    "- `for` loops"
   ]
  },
  {
   "cell_type": "markdown",
   "metadata": {},
   "source": [
    "## **3.1 for Loops**  \n",
    "A `for` loop is used for iterating over a sequence (that is either a list, a tuple, a dictionary, a set, or a string).\n",
    "\n",
    "This is less like the `for` keyword in other programming languages, and works more like an iterator method as found in other object-orientated programming languages.\n",
    "\n",
    "With the `for` loop we can execute a set of statements, once for each item in a list, tuple, set etc.  \n",
    "\n",
    "Usage  \n",
    "> fruits = [\"apple\", \"banana\", \"cherry\"]  \n",
    "for x in fruits:  \n",
    "  print(x)  "
   ]
  },
  {
   "cell_type": "markdown",
   "metadata": {},
   "source": [
    "## **3.2 while Loop**  \n",
    "With the `while` loop we can execute a set of statements as long as a condition is true.  \n",
    "\n",
    "Usage  \n",
    "> i = 1  \n",
    "while i < 6:  \n",
    "  print(i)  \n",
    "  i += 1  "
   ]
  },
  {
   "cell_type": "markdown",
   "metadata": {},
   "source": [
    "## **The break Statement**  \n",
    "With the `break` statement we can stop the loop before it has looped through all the items:  \n",
    "\n",
    "This is applicable for both `for` and `while`.  \n",
    "\n",
    "Usage  \n",
    "> fruits = [\"apple\", \"banana\", \"cherry\"]  \n",
    "for x in fruits:  \n",
    "  print(x)  \n",
    "  if x == \"banana\":  \n",
    "    break  "
   ]
  },
  {
   "cell_type": "markdown",
   "metadata": {},
   "source": [
    "## **The continue Statement**  \n",
    "With the `continue` statement we can stop the current iteration of the loop, and continue with the next:  \n",
    "\n",
    "This is applicable for both `for` and `while`.  \n",
    "\n",
    "> fruits = [\"apple\", \"banana\", \"cherry\"]  \n",
    "for x in fruits:  \n",
    "  if x == \"banana\":  \n",
    "    continue  \n",
    "  print(x)  "
   ]
  }
 ],
 "metadata": {
  "interpreter": {
   "hash": "08a7378106735304ab00d5da0812f69b231a6927b2b06644e00fd5fac1bfef7e"
  },
  "kernelspec": {
   "display_name": "Python 3.9.6 64-bit",
   "name": "python3"
  },
  "language_info": {
   "codemirror_mode": {
    "name": "ipython",
    "version": 3
   },
   "file_extension": ".py",
   "mimetype": "text/x-python",
   "name": "python",
   "nbconvert_exporter": "python",
   "pygments_lexer": "ipython3",
   "version": "3.9.6"
  },
  "orig_nbformat": 4
 },
 "nbformat": 4,
 "nbformat_minor": 2
}
