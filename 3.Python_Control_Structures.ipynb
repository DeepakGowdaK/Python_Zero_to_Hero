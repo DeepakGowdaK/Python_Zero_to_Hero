{
 "cells": [
  {
   "cell_type": "markdown",
   "source": [
    "# **Control Structures**  \r\n",
    "1. Sequential Control\r\n",
    "2. Conditional Control\r\n",
    "3. Iterative Control"
   ],
   "metadata": {}
  },
  {
   "cell_type": "markdown",
   "source": [
    "## **1. Sequential Control**  \r\n",
    "Line by line code execution of python programming is referred as sequential control structures."
   ],
   "metadata": {}
  },
  {
   "cell_type": "markdown",
   "source": [
    "## **2. Conditional Control**  \r\n",
    "Usage:  \r\n",
    "`if`  \r\n",
    "`elif`  \r\n",
    "`else`  \r\n",
    "and nested `if` and combination of above.  \r\n",
    "\r\n",
    "**Example:** `if`  "
   ],
   "metadata": {}
  },
  {
   "cell_type": "code",
   "execution_count": 5,
   "source": [
    "a = 33\r\n",
    "b = 200\r\n",
    "if b > a:\r\n",
    "  print(\"b is greater than a\")"
   ],
   "outputs": [
    {
     "output_type": "stream",
     "name": "stdout",
     "text": [
      "b is greater than a\n"
     ]
    }
   ],
   "metadata": {}
  },
  {
   "cell_type": "markdown",
   "source": [
    "**Example:** `elif`  "
   ],
   "metadata": {}
  },
  {
   "cell_type": "code",
   "execution_count": 2,
   "source": [
    "a = 33\r\n",
    "b = 33\r\n",
    "if b > a:\r\n",
    "  print(\"b is greater than a\")\r\n",
    "elif a == b:\r\n",
    "  print(\"a and b are equal\")"
   ],
   "outputs": [
    {
     "output_type": "stream",
     "name": "stdout",
     "text": [
      "a and b are equal\n"
     ]
    }
   ],
   "metadata": {}
  },
  {
   "cell_type": "markdown",
   "source": [
    "**Example:** `else`  "
   ],
   "metadata": {}
  },
  {
   "cell_type": "code",
   "execution_count": 3,
   "source": [
    "a = 200\r\n",
    "b = 33\r\n",
    "if b > a:\r\n",
    "  print(\"b is greater than a\")\r\n",
    "elif a == b:\r\n",
    "  print(\"a and b are equal\")\r\n",
    "else:\r\n",
    "  print(\"a is greater than b\")"
   ],
   "outputs": [
    {
     "output_type": "stream",
     "name": "stdout",
     "text": [
      "a is greater than b\n"
     ]
    }
   ],
   "metadata": {}
  },
  {
   "cell_type": "markdown",
   "source": [
    "**Ternary if operator**  \r\n",
    "If you have only one statement to execute, you can put it on the same line as the if statement."
   ],
   "metadata": {}
  },
  {
   "cell_type": "code",
   "execution_count": 9,
   "source": [
    "a=10 ##trenary if operator or short hand if statement.\r\n",
    "b=5\r\n",
    "if a > b: print(\"a is greater than b\")"
   ],
   "outputs": [
    {
     "output_type": "stream",
     "name": "stdout",
     "text": [
      "a is greater than b\n"
     ]
    }
   ],
   "metadata": {}
  },
  {
   "cell_type": "markdown",
   "source": [
    "**Ternary If ... Else operator**  \r\n",
    "If you have only one statement to execute, one for if, and one for else, you can put it all on the same line:"
   ],
   "metadata": {}
  },
  {
   "cell_type": "code",
   "execution_count": 8,
   "source": [
    "a = 2\r\n",
    "b = 330\r\n",
    "print(\"A\") if a > b else print(\"B\")"
   ],
   "outputs": [
    {
     "output_type": "stream",
     "name": "stdout",
     "text": [
      "B\n"
     ]
    }
   ],
   "metadata": {}
  },
  {
   "cell_type": "markdown",
   "source": [
    "**Example:** `Nested if`  "
   ],
   "metadata": {}
  },
  {
   "cell_type": "code",
   "execution_count": 4,
   "source": [
    "x = 41\r\n",
    "\r\n",
    "if x > 10:\r\n",
    "  print(\"Above ten,\")\r\n",
    "  if x > 20:\r\n",
    "    print(\"and also above 20!\")\r\n",
    "  else:\r\n",
    "    print(\"but not above 20.\")"
   ],
   "outputs": [
    {
     "output_type": "stream",
     "name": "stdout",
     "text": [
      "Above ten,\n",
      "and also above 20!\n"
     ]
    }
   ],
   "metadata": {}
  },
  {
   "cell_type": "markdown",
   "source": [
    "## **2.1 The pass Statement**  \r\n",
    "`if` statements cannot be empty, but if you for some reason have an `if` statement with no content, put in the `pass` statement to avoid getting an error.  \r\n",
    "\r\n",
    "a = 33  \r\n",
    "b = 200  \r\n",
    "\r\n",
    "if b > a:  \r\n",
    "  pass  "
   ],
   "metadata": {}
  },
  {
   "cell_type": "markdown",
   "source": [
    "## **3. Iterative Control**  \r\n",
    "Python has two primitive loop commands:  \r\n",
    "- `while` loops\r\n",
    "- `for` loops"
   ],
   "metadata": {}
  },
  {
   "cell_type": "markdown",
   "source": [
    "## **3.1 for Loops**  \r\n",
    "A `for` loop is used for iterating over a sequence (that is either a list, a tuple, a dictionary, a set, or a string).\r\n",
    "\r\n",
    "This is less like the `for` keyword in other programming languages, and works more like an iterator method as found in other object-orientated programming languages.\r\n",
    "\r\n",
    "With the `for` loop we can execute a set of statements, once for each item in a list, tuple, set etc.  \r\n",
    "\r\n",
    "Usage  \r\n",
    "> fruits = [\"apple\", \"banana\", \"cherry\"]  \r\n",
    "for x in fruits:  \r\n",
    "  print(x)  "
   ],
   "metadata": {}
  },
  {
   "cell_type": "markdown",
   "source": [
    "## **3.2 while Loop**  \r\n",
    "With the `while` loop we can execute a set of statements as long as a condition is true.  \r\n",
    "\r\n",
    "Usage  \r\n",
    "> i = 1  \r\n",
    "while i < 6:  \r\n",
    "  print(i)  \r\n",
    "  i += 1  "
   ],
   "metadata": {}
  },
  {
   "cell_type": "markdown",
   "source": [
    "## **The break Statement**  \r\n",
    "With the `break` statement we can stop the loop before it has looped through all the items:  \r\n",
    "\r\n",
    "This is applicable for both `for` and `while`.  \r\n",
    "\r\n",
    "Usage  \r\n",
    "> fruits = [\"apple\", \"banana\", \"cherry\"]  \r\n",
    "for x in fruits:  \r\n",
    "  print(x)  \r\n",
    "  if x == \"banana\":  \r\n",
    "    break  "
   ],
   "metadata": {}
  },
  {
   "cell_type": "markdown",
   "source": [
    "## **The continue Statement**  \r\n",
    "With the `continue` statement we can stop the current iteration of the loop, and continue with the next:  \r\n",
    "\r\n",
    "This is applicable for both `for` and `while`.  \r\n",
    "\r\n",
    "> fruits = [\"apple\", \"banana\", \"cherry\"]  \r\n",
    "for x in fruits:  \r\n",
    "  if x == \"banana\":  \r\n",
    "    continue  \r\n",
    "  print(x)  "
   ],
   "metadata": {}
  },
  {
   "cell_type": "markdown",
   "source": [],
   "metadata": {}
  }
 ],
 "metadata": {
  "orig_nbformat": 4,
  "language_info": {
   "name": "python",
   "version": "3.9.6",
   "mimetype": "text/x-python",
   "codemirror_mode": {
    "name": "ipython",
    "version": 3
   },
   "pygments_lexer": "ipython3",
   "nbconvert_exporter": "python",
   "file_extension": ".py"
  },
  "kernelspec": {
   "name": "python3",
   "display_name": "Python 3.9.6 64-bit"
  },
  "interpreter": {
   "hash": "08a7378106735304ab00d5da0812f69b231a6927b2b06644e00fd5fac1bfef7e"
  }
 },
 "nbformat": 4,
 "nbformat_minor": 2
}