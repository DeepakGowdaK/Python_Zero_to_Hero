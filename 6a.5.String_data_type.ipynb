{
 "cells": [
  {
   "cell_type": "markdown",
   "metadata": {},
   "source": [
    "### **6.5 Text Type** \n",
    "#### **Strings**  \n",
    "Strings in python are surrounded by either single quotation marks, or double quotation marks.\n",
    "\n",
    "'hello' is the same as \"hello\".  \n",
    "\n",
    "You can display a string literal with the print() function:\n"
   ]
  },
  {
   "cell_type": "code",
   "execution_count": 1,
   "metadata": {},
   "outputs": [
    {
     "name": "stdout",
     "output_type": "stream",
     "text": [
      "Hello Deepak\n"
     ]
    }
   ],
   "source": [
    "print('Hello Deepak')"
   ]
  },
  {
   "cell_type": "markdown",
   "metadata": {},
   "source": [
    "##### **1. Assign String to a variable**  \n",
    "Assigning a string to a variable is done with the variable name followed by an equal sign and the string:\n",
    "\n",
    "a = \"String assigning to variable\"  \n",
    "print(a)"
   ]
  },
  {
   "cell_type": "markdown",
   "metadata": {},
   "source": [
    "##### **2. Multiline Strings**  \n",
    "You can assign a multiline string to a variable by using three quotes:\n",
    "\n",
    "> **Note 1 :** If 3 quotes statement is not assigned to the variable then the statement becomes comments and will not be executed during code execution.  \n",
    "  \n",
    "  \n",
    "> **Note 2 :** In the result, the line breaks are inserted at the same position as in the code."
   ]
  },
  {
   "cell_type": "code",
   "execution_count": 2,
   "metadata": {},
   "outputs": [
    {
     "name": "stdout",
     "output_type": "stream",
     "text": [
      "Lorem ipsum dolor sit amet,\n",
      "consectetur adipiscing elit,\n",
      "sed do eiusmod tempor incididunt\n",
      "ut labore et dolore magna aliqua.\n"
     ]
    }
   ],
   "source": [
    "multiLineString = \"\"\"Lorem ipsum dolor sit amet,\n",
    "consectetur adipiscing elit,\n",
    "sed do eiusmod tempor incididunt\n",
    "ut labore et dolore magna aliqua.\"\"\"\n",
    "print(multiLineString)"
   ]
  },
  {
   "cell_type": "markdown",
   "metadata": {},
   "source": [
    "##### **3. Check String**  \n",
    "To check if a certain phrase or character is present in a string, we can use the keyword `in`.  \n",
    "  \n",
    "To check if a certain phrase or character is NOT present in a string, we can use the keyword `not in`.\n"
   ]
  },
  {
   "cell_type": "code",
   "execution_count": 5,
   "metadata": {},
   "outputs": [
    {
     "name": "stdout",
     "output_type": "stream",
     "text": [
      "True\n",
      "Yes, 'free' is present within ifStatementCheckIn.\n",
      "True\n",
      "No, 'expensive' is NOT present within ifStatementCheckNotIn.\n"
     ]
    }
   ],
   "source": [
    "## Check if \"free\" is present in the following text:\n",
    "generalCheckIn = \"The best things in life are free!\"\n",
    "print(\"free\" in generalCheckIn)\n",
    "\n",
    "## Use it in an if statement:\n",
    "ifStatementCheckIn = \"The best things in life are free!\"\n",
    "if \"free\" in ifStatementCheckIn:\n",
    "  print(\"Yes, 'free' is present within ifStatementCheckIn.\")\n",
    "\n",
    "## Check if \"expensive\" is NOT present in the following text:\n",
    "generalCheckIsNot = \"The best things in life are free!\"\n",
    "print(\"expensive\" not in generalCheckIsNot)\n",
    "\n",
    "## Use it in an if statement:\n",
    "## print only if \"expensive\" is NOT present:\n",
    "ifStatementCheckNotIn = \"The best things in life are free!\"\n",
    "if \"expensive\" not in ifStatementCheckNotIn:\n",
    "  print(\"No, 'expensive' is NOT present within ifStatementCheckNotIn.\")\n",
    "\n"
   ]
  },
  {
   "cell_type": "markdown",
   "metadata": {},
   "source": [
    "##### **4. String Concatenation**  \n",
    " To concatenate, or combine, two strings you can use the + operator."
   ]
  },
  {
   "cell_type": "code",
   "execution_count": 6,
   "metadata": {},
   "outputs": [
    {
     "name": "stdout",
     "output_type": "stream",
     "text": [
      "HelloWorld\n",
      "Hello World\n"
     ]
    }
   ],
   "source": [
    "outPutOne = \"Hello\"\n",
    "outPutTwo = \"World\"\n",
    "noSpaceOutPut = outPutOne + outPutTwo\n",
    "withSpaceOutPut = outPutOne +' '+ outPutTwo\n",
    "\n",
    "print(noSpaceOutPut)\n",
    "print(withSpaceOutPut)"
   ]
  },
  {
   "cell_type": "markdown",
   "metadata": {},
   "source": [
    "##### **5. String Format**  \n",
    "As we learned in the Python Variables chapter, we cannot combine strings and numbers like this:"
   ]
  },
  {
   "cell_type": "code",
   "execution_count": 7,
   "metadata": {},
   "outputs": [
    {
     "ename": "TypeError",
     "evalue": "can only concatenate str (not \"int\") to str",
     "output_type": "error",
     "traceback": [
      "\u001b[1;31m---------------------------------------------------------------------------\u001b[0m",
      "\u001b[1;31mTypeError\u001b[0m                                 Traceback (most recent call last)",
      "\u001b[1;32mC:\\Users\\DEEPAK~1.R\\AppData\\Local\\Temp/ipykernel_11364/2533872560.py\u001b[0m in \u001b[0;36m<module>\u001b[1;34m\u001b[0m\n\u001b[0;32m      1\u001b[0m \u001b[0mage\u001b[0m \u001b[1;33m=\u001b[0m \u001b[1;36m36\u001b[0m\u001b[1;33m\u001b[0m\u001b[1;33m\u001b[0m\u001b[0m\n\u001b[1;32m----> 2\u001b[1;33m \u001b[0mselfDeclaration\u001b[0m \u001b[1;33m=\u001b[0m \u001b[1;34m\"My name is John, I am \"\u001b[0m \u001b[1;33m+\u001b[0m \u001b[0mage\u001b[0m\u001b[1;33m\u001b[0m\u001b[1;33m\u001b[0m\u001b[0m\n\u001b[0m\u001b[0;32m      3\u001b[0m \u001b[0mprint\u001b[0m\u001b[1;33m(\u001b[0m\u001b[0mselfDeclaration\u001b[0m\u001b[1;33m)\u001b[0m\u001b[1;33m\u001b[0m\u001b[1;33m\u001b[0m\u001b[0m\n",
      "\u001b[1;31mTypeError\u001b[0m: can only concatenate str (not \"int\") to str"
     ]
    }
   ],
   "source": [
    "age = 36\n",
    "selfDeclaration = \"My name is John, I am \" + age\n",
    "print(selfDeclaration)"
   ]
  },
  {
   "cell_type": "markdown",
   "metadata": {},
   "source": [
    "But, We can combine strings and numbers by using one of the below mentioned approaches?\n",
    "1. “Old Style” String Formatting (% Operator)\n",
    "2. “New Style” String Formatting (str.format)\n",
    "3. String Interpolation / f-Strings (Python 3.6+)\n",
    "4. Template Strings (Standard Library)  \n",
    "  \n",
    "I totally get that having so much choice for how to format your strings in Python can feel very confusing. This is an excellent cue to bust out this handy flowchart infographic.  \n",
    "This flowchart is based on the rule of thumb that I apply when I’m writing Python:\n",
    "\n",
    "<img src='String_formatting_selection_flowchart.png'>\n"
   ]
  },
  {
   "cell_type": "markdown",
   "metadata": {},
   "source": [
    "**5.1 “Old Style” String Formatting (% Operator)**  \n",
    "It is the oldest method of string formatting. Here we use the modulo % operator. The modulo % is also known as the “string-formatting operator”.  \n",
    "\n",
    "‘%s’ is used to inject strings similarly ‘%d’ for integers, ‘%f’ for floating-point values, ‘%b’ for binary format. For all formats, conversion methods visit the official documentation.  \n",
    "\n",
    "Float precision with the placeholder method:  \n",
    "Floating-point numbers use the format %a.bf. Here, a would be the minimum number of digits to be present in the string; these might be padded with white space if the whole number doesn’t have this many digits. Close to this, bf represents how many digits are to be displayed after the decimal point. "
   ]
  },
  {
   "cell_type": "code",
   "execution_count": 25,
   "metadata": {},
   "outputs": [
    {
     "name": "stdout",
     "output_type": "stream",
     "text": [
      "The mangy, scrawny stray dog hurriedly gobbled down\n",
      "**********************\n",
      "Misha walked and looked around\n",
      "Joe stood up and spoke to the crowd.\n",
      "There are 4 dogs.\n",
      "**********************\n",
      "The value of pi is: 3.1416\n",
      "Floating point numbers: 13\n",
      "**********************\n",
      "Variable as integer = 12 \n",
      "Variable as float = 12.000000\n"
     ]
    }
   ],
   "source": [
    "## Example: Formatting string using % operator.\n",
    "print(\"The mangy, scrawny stray dog %s gobbled down\" %'hurriedly')\n",
    "print('**********************')\n",
    "\n",
    "## Example: Injecting multiple strings using % operator\n",
    "x = 'looked'\n",
    "print(\"Misha %s and %s around\"%('walked',x))\n",
    "\n",
    "print('Joe stood up and %s to the crowd.' %'spoke')\n",
    "print('There are %d dogs.' %4)\n",
    "print('**********************')\n",
    "\n",
    "##Example 1: Float point precision using % operator\n",
    "print('The value of pi is: %5.4f' %(3.141592))\n",
    "##Example 2:\n",
    "print('Floating point numbers: %1.0f' %(13.144))\n",
    "print('**********************')\n",
    "\n",
    "## Example 3: You can use multiple format conversion types in a single print statement\n",
    "variable = 12\n",
    "string = \"Variable as integer = %d \\nVariable as float = %f\" %(variable, variable)\n",
    " \n",
    "print (string)"
   ]
  },
  {
   "cell_type": "markdown",
   "metadata": {},
   "source": [
    "**5.2 “New Style” String Formatting (str.format)**  \n",
    "`Format() method` was introduced with Python3 for handling complex string formatting more efficiently. Formatters work by putting in one or more replacement fields and placeholders defined by a pair of curly braces { } into a string and calling the str.format(). The value we wish to put into the placeholders and concatenate with the string passed as parameters into the format function.  \n",
    "\n",
    "**Syntax:** ‘String here {} then also {}’.format(‘something1′,’something2’)"
   ]
  },
  {
   "cell_type": "code",
   "execution_count": 26,
   "metadata": {},
   "outputs": [
    {
     "name": "stdout",
     "output_type": "stream",
     "text": [
      "We all are equal.\n"
     ]
    }
   ],
   "source": [
    "## Example: Formatting string using format() method.\n",
    "print('We all are {}.'.format('equal'))"
   ]
  },
  {
   "cell_type": "markdown",
   "metadata": {},
   "source": [
    "The.format() method has many advantages over the placeholder method:\n",
    "\n",
    "We can insert object by using index-based position:"
   ]
  },
  {
   "cell_type": "code",
   "execution_count": 1,
   "metadata": {},
   "outputs": [
    {
     "name": "stdout",
     "output_type": "stream",
     "text": [
      "Read the directions\n"
     ]
    }
   ],
   "source": [
    "\n",
    "print('{2} {1} {0}'.format('directions', 'the', 'Read'))"
   ]
  },
  {
   "cell_type": "markdown",
   "metadata": {},
   "source": [
    "We can insert objects by using assigned keywords:"
   ]
  },
  {
   "cell_type": "code",
   "execution_count": 2,
   "metadata": {},
   "outputs": [
    {
     "name": "stdout",
     "output_type": "stream",
     "text": [
      "a: 1, b: Two, c: 12.3\n"
     ]
    }
   ],
   "source": [
    "\n",
    "print('a: {a}, b: {b}, c: {c}'.format(a = 1, b = 'Two', c = 12.3))"
   ]
  },
  {
   "cell_type": "markdown",
   "metadata": {},
   "source": [
    "We can reuse the inserted objects to avoid duplication:"
   ]
  },
  {
   "cell_type": "code",
   "execution_count": 3,
   "metadata": {},
   "outputs": [
    {
     "name": "stdout",
     "output_type": "stream",
     "text": [
      "The first second was alright, but the second second was tough.\n"
     ]
    }
   ],
   "source": [
    "\n",
    "print('The first {p} was alright, but the {p} {p} was tough.'.format(p = 'second'))"
   ]
  },
  {
   "cell_type": "markdown",
   "metadata": {},
   "source": [
    "Float precision with the.format() method:\n",
    "\n",
    "> Syntax: {[index]:[width][.precision][type]}\n",
    "\n",
    "The type can be used with format codes:\n",
    "\n",
    "‘d’ for integers\n",
    "‘f’ for floating-point numbers\n",
    "‘b’ for binary numbers\n",
    "‘o’ for octal numbers\n",
    "‘x’ for octal hexadecimal numbers\n",
    "‘s’ for string\n",
    "‘e’ for floating-point in an exponent format"
   ]
  },
  {
   "cell_type": "code",
   "execution_count": 4,
   "metadata": {},
   "outputs": [
    {
     "name": "stdout",
     "output_type": "stream",
     "text": [
      "The valueof pi is: 3.14159\n",
      "The valueof pi is: 3.14159\n"
     ]
    }
   ],
   "source": [
    "\n",
    "print('The valueof pi is: %1.5f' %3.141592)\n",
    " \n",
    "# vs.\n",
    " \n",
    "print('The valueof pi is: {0:1.5f}'.format(3.141592))"
   ]
  },
  {
   "cell_type": "markdown",
   "metadata": {},
   "source": [
    "**5.3 String Interpolation / f-Strings (Python 3.6+)**  \n",
    "PEP 498 introduced a new string formatting mechanism known as Literal String Interpolation or more commonly as F-strings (because of the leading f character preceding the string literal). The idea behind f-strings is to make string interpolation simpler.\n",
    "\n",
    "To create an f-string, prefix the string with the letter “ f ”. The string itself can be formatted in much the same way that you would with str.format(). F-strings provide a concise and convenient way to embed python expressions inside string literals for formatting.\n",
    "\n",
    "Example: Formatting string with F-Strings"
   ]
  },
  {
   "cell_type": "code",
   "execution_count": 6,
   "metadata": {},
   "outputs": [
    {
     "name": "stdout",
     "output_type": "stream",
     "text": [
      "My name is Ele.\n",
      "-----------------------------\n"
     ]
    }
   ],
   "source": [
    "## Example: Formatting string with F-Strings\n",
    "name = 'Ele'\n",
    " \n",
    "print(f\"My name is {name}.\")\n",
    "print('-----------------------------')"
   ]
  },
  {
   "cell_type": "markdown",
   "metadata": {},
   "source": [
    "This new formatting syntax is very powerful and easy. You can also insert arbitrary Python expressions and you can even do arithmetic operations in it."
   ]
  },
  {
   "cell_type": "code",
   "execution_count": 7,
   "metadata": {},
   "outputs": [
    {
     "name": "stdout",
     "output_type": "stream",
     "text": [
      "He said his age is 30.\n"
     ]
    }
   ],
   "source": [
    "## Example: Arithmetic operations using F-strings\n",
    "\n",
    "a = 5\n",
    "b = 10\n",
    "print(f\"He said his age is {2 * (a + b)}.\")"
   ]
  },
  {
   "cell_type": "markdown",
   "metadata": {},
   "source": [
    "We can also use lambda expressions in f-string formatting."
   ]
  },
  {
   "cell_type": "code",
   "execution_count": 8,
   "metadata": {},
   "outputs": [
    {
     "name": "stdout",
     "output_type": "stream",
     "text": [
      "He said his age is 6\n"
     ]
    }
   ],
   "source": [
    "## Example: Lambda Expressions using F-strings\n",
    "\n",
    "print(f\"He said his age is {(lambda x: x*2)(3)}\")"
   ]
  },
  {
   "cell_type": "markdown",
   "metadata": {},
   "source": [
    "Float precision in the f-String method:\n",
    "\n",
    "> Syntax: {value:{width}.{precision}}"
   ]
  },
  {
   "cell_type": "code",
   "execution_count": 9,
   "metadata": {},
   "outputs": [
    {
     "name": "stdout",
     "output_type": "stream",
     "text": [
      "The valueof pi is: 3.1416\n"
     ]
    }
   ],
   "source": [
    "## Example: Float Precision using F-strings\n",
    "num = 3.14159\n",
    " \n",
    "print(f\"The valueof pi is: {num:{1}.{5}}\")"
   ]
  },
  {
   "cell_type": "markdown",
   "metadata": {},
   "source": [
    "**5.4 Template Strings (Standard Library)**  \n",
    "In the String module, Template Class allows us to create simplified syntax for output specification. The format uses placeholder names formed by $ with valid Python identifiers (alphanumeric characters and underscores). Surrounding the placeholder with braces allows it to be followed by more alphanumeric letters with no intervening spaces. Writing $$ creates a single escaped $:  "
   ]
  },
  {
   "cell_type": "code",
   "execution_count": 10,
   "metadata": {},
   "outputs": [
    {
     "name": "stdout",
     "output_type": "stream",
     "text": [
      "Hello ! This is GeeksforGeeks.\n"
     ]
    }
   ],
   "source": [
    "## Example: Formatting string using Template Class\n",
    "\n",
    "# Python program to demonstrate\n",
    "# string interpolation\n",
    " \n",
    " \n",
    "from string import Template\n",
    " \n",
    "n1 = 'Hello'\n",
    "n2 = 'GeeksforGeeks'\n",
    " \n",
    "# made a template which we used to\n",
    "# pass two variable so n3 and n4\n",
    "# formal and n1 and n2 actual\n",
    "n = Template('$n3 ! This is $n4.')\n",
    " \n",
    "# and pass the parameters into the\n",
    "# template string.\n",
    "print(n.substitute(n3=n1, n4=n2))"
   ]
  },
  {
   "cell_type": "markdown",
   "metadata": {},
   "source": [
    "#### **5. 5 Which string formatting method is the best?**  \n",
    "f-strings are faster and better than both %-formatting and str.format(). f-strings expressions are evaluated are at runtime, and we can also embed expressions inside f-string, using a very simple and easy syntax. The expressions inside the braces are evaluated in runtime and then put together with the string part of the f-string and then the final string is returned.\n",
    "\n",
    "Note: Use f-Strings if you are on Python 3.6+, and.format() method if you are not."
   ]
  },
  {
   "cell_type": "markdown",
   "metadata": {},
   "source": [
    "##### **6. Escape Characters**  \n",
    "To insert characters that are illegal in a string, use an escape character.\n",
    "\n",
    "An escape character is a backslash '\\' followed by the character you want to insert.\n",
    "\n",
    "An example of an illegal character is a double quote inside a string that is surrounded by double quotes:"
   ]
  },
  {
   "cell_type": "code",
   "execution_count": 11,
   "metadata": {},
   "outputs": [
    {
     "ename": "SyntaxError",
     "evalue": "invalid syntax (Temp/ipykernel_18660/3374746160.py, line 2)",
     "output_type": "error",
     "traceback": [
      "\u001b[1;36m  File \u001b[1;32m\"C:\\Users\\DEEPAK~1.R\\AppData\\Local\\Temp/ipykernel_18660/3374746160.py\"\u001b[1;36m, line \u001b[1;32m2\u001b[0m\n\u001b[1;33m    txt = \"We are the so-called \"Vikings\" from the north.\"\u001b[0m\n\u001b[1;37m                                 ^\u001b[0m\n\u001b[1;31mSyntaxError\u001b[0m\u001b[1;31m:\u001b[0m invalid syntax\n"
     ]
    }
   ],
   "source": [
    "## Example 1: You will get an error if you use double quotes inside a string that is surrounded by double quotes:\n",
    "txt = \"We are the so-called \"Vikings\" from the north.\""
   ]
  },
  {
   "cell_type": "markdown",
   "metadata": {},
   "source": [
    "To fix this problem, use the escape character \\\":"
   ]
  },
  {
   "cell_type": "code",
   "execution_count": 12,
   "metadata": {},
   "outputs": [],
   "source": [
    "## Example 1: The escape character allows you to use double quotes when you normally would not be allowed:\n",
    "txt = \"We are the so-called \\\"Vikings\\\" from the north.\"\n"
   ]
  },
  {
   "cell_type": "markdown",
   "metadata": {},
   "source": [
    "##### **6.1 Escape Characters**  \n",
    "Other escape characters used in Python:  \n",
    "|Code\t|Result|\n",
    "|---|---|\n",
    "|\\'\t|Single Quote\t|\n",
    "|\\\\\t|Backslash\t|\n",
    "|\\n\t|New Line\t|\n",
    "|\\r\t|Carriage Return\t|\n",
    "|\\t\t|Tab\t|\n",
    "|\\b\t|Backspace|\t\n",
    "|\\f\t|Form Feed|\t\n",
    "|\\ooo|\tOctal value\t|\n",
    "|\\xhh|\tHex value|"
   ]
  },
  {
   "cell_type": "code",
   "execution_count": 26,
   "metadata": {},
   "outputs": [
    {
     "name": "stdout",
     "output_type": "stream",
     "text": [
      "singleQuote : It's alright.\n",
      "--------------\n",
      "Backslash : This will insert one \\ (backslash).\n",
      "--------------\n",
      "newLine : Hello\n",
      "World!\n",
      "--------------\n",
      "World!geReturn : Hello\n",
      "--------------\n",
      "Tab : Hello\tWorld!\n",
      "--------------\n",
      "Backspace : HelloWorld!\n",
      "--------------\n",
      "octalValue : Hello\n",
      "--------------\n",
      "hexValue : Hello\n",
      "--------------\n"
     ]
    }
   ],
   "source": [
    "singleQuote = 'It\\'s alright.'\n",
    "print(f'singleQuote : {singleQuote}') \n",
    "print('--------------')\n",
    "\n",
    "Backslash = \"This will insert one \\\\ (backslash).\"\n",
    "print(f'Backslash : {Backslash}') \n",
    "print('--------------')\n",
    "\n",
    "newLine = \"Hello\\nWorld!\"\n",
    "print(f'newLine : {newLine}') \n",
    "print('--------------') \n",
    "\n",
    "carriageReturn = \"Hello\\rWorld!\"\n",
    "print(f'carriageReturn : {carriageReturn}') \n",
    "print('--------------') \n",
    "\n",
    "Tab = \"Hello\\tWorld!\"\n",
    "print(f'Tab : {Tab}') \n",
    "print('--------------') \n",
    "\n",
    "#This example erases one character (backspace):\n",
    "Backspace = \"Hello \\bWorld!\"\n",
    "print(f'Backspace : {Backspace}') \n",
    "print('--------------')\n",
    "\n",
    "#A backslash followed by three integers will result in a octal value:\n",
    "octalValue = \"\\110\\145\\154\\154\\157\"\n",
    "print(f'octalValue : {octalValue}') \n",
    "print('--------------') \n",
    "\n",
    "#A backslash followed by an 'x' and a hex number represents a hex value:\n",
    "hexValue = \"\\x48\\x65\\x6c\\x6c\\x6f\"\n",
    "print(f'hexValue : {hexValue}') \n",
    "print('--------------')"
   ]
  },
  {
   "cell_type": "markdown",
   "metadata": {},
   "source": [
    "##### **7. Strings are Arrays**  \n",
    "Like many other popular programming languages, strings in Python are arrays of bytes representing unicode characters.\n",
    "\n",
    "However, Python does not have a character data type, a single character is simply a string with a length of 1.\n",
    "\n",
    "Square brackets can be used to access elements of the string."
   ]
  },
  {
   "cell_type": "code",
   "execution_count": 14,
   "metadata": {},
   "outputs": [
    {
     "name": "stdout",
     "output_type": "stream",
     "text": [
      "e\n"
     ]
    }
   ],
   "source": [
    "## Example 1: Get the character at position 1 (remember that the first character has the position 0):\n",
    "a = \"Hello, World!\"\n",
    "print(a[1])"
   ]
  },
  {
   "cell_type": "markdown",
   "metadata": {},
   "source": [
    "##### **7.1 Looping Through a String**  \n",
    "Since strings are arrays, we can loop through the characters in a string, with a for loop."
   ]
  },
  {
   "cell_type": "code",
   "execution_count": 15,
   "metadata": {},
   "outputs": [
    {
     "name": "stdout",
     "output_type": "stream",
     "text": [
      "b\n",
      "a\n",
      "n\n",
      "a\n",
      "n\n",
      "a\n"
     ]
    }
   ],
   "source": [
    "## Example : Loop through the letters in the word \"banana\":\n",
    "for x in \"banana\":\n",
    "  print(x)"
   ]
  },
  {
   "cell_type": "markdown",
   "metadata": {},
   "source": [
    "##### **7.2 String Length**  \n",
    "To get the length of a string, use the len() function.  "
   ]
  },
  {
   "cell_type": "code",
   "execution_count": 17,
   "metadata": {},
   "outputs": [
    {
     "name": "stdout",
     "output_type": "stream",
     "text": [
      "13\n"
     ]
    }
   ],
   "source": [
    "## Example: The len() function returns the length of a string:\n",
    "stringLength = \"Hello, World!\"\n",
    "print(len(stringLength))"
   ]
  },
  {
   "cell_type": "markdown",
   "metadata": {},
   "source": [
    "##### **7.3 Check String**  \n",
    "To check if a certain phrase or character is present in a string, we can use the keyword `in`.  "
   ]
  },
  {
   "cell_type": "code",
   "execution_count": 18,
   "metadata": {},
   "outputs": [
    {
     "name": "stdout",
     "output_type": "stream",
     "text": [
      "True\n"
     ]
    }
   ],
   "source": [
    "## Example: Check if \"free\" is present in the following text:\n",
    "\n",
    "checkString = \"The best things in life are free!\"\n",
    "print(\"free\" in checkString)"
   ]
  },
  {
   "cell_type": "markdown",
   "metadata": {},
   "source": [
    "Use it in an if statement:"
   ]
  },
  {
   "cell_type": "code",
   "execution_count": 19,
   "metadata": {},
   "outputs": [
    {
     "name": "stdout",
     "output_type": "stream",
     "text": [
      "Yes, 'free' is present.\n"
     ]
    }
   ],
   "source": [
    "## Example: Print only if \"free\" is present:\n",
    "\n",
    "checkStringInIf = \"The best things in life are free!\"\n",
    "if \"free\" in checkStringInIf:\n",
    "  print(\"Yes, 'free' is present.\")"
   ]
  },
  {
   "cell_type": "markdown",
   "metadata": {},
   "source": [
    "##### **7.4 Check if NOT**  \n",
    "To check if a certain phrase or character is NOT present in a string, we can use the keyword `not in`.  "
   ]
  },
  {
   "cell_type": "code",
   "execution_count": 20,
   "metadata": {},
   "outputs": [
    {
     "name": "stdout",
     "output_type": "stream",
     "text": [
      "True\n",
      "No, 'expensive' is NOT present.\n"
     ]
    }
   ],
   "source": [
    "## Example 1: Check if \"expensive\" is NOT present in the following text:\n",
    "\n",
    "checkStringIfNOt = \"The best things in life are free!\"\n",
    "print(\"expensive\" not in checkStringIfNOt)\n",
    "\n",
    "## Use it in an if statement:\n",
    "\n",
    "## Example 2: print only if \"expensive\" is NOT present:\n",
    "\n",
    "checkStringIfNOtInIf = \"The best things in life are free!\"\n",
    "if \"expensive\" not in checkStringIfNOtInIf:\n",
    "  print(\"No, 'expensive' is NOT present.\")"
   ]
  },
  {
   "cell_type": "markdown",
   "metadata": {},
   "source": [
    "##### **7.5 Slicing Strings**  \n",
    "You can return a range of characters by using the slice syntax.\n",
    "\n",
    "Specify the start index and the end index, separated by a colon, to return a part of the string. \n",
    "\n",
    "**NOTE** - The first character has index 0."
   ]
  },
  {
   "cell_type": "code",
   "execution_count": 37,
   "metadata": {},
   "outputs": [
    {
     "name": "stdout",
     "output_type": "stream",
     "text": [
      "slicingString : llo\n",
      "slicingStringFromStart : Hello\n",
      "slicingStringFromEnd : llo, World!\n",
      "slicingStringFromNegativeIndexing : orl\n"
     ]
    }
   ],
   "source": [
    "## Example 1: Get the characters from position 2 to position 5 (not included):\n",
    "slicingString = \"Hello, World!\"\n",
    "print(f'slicingString : {slicingString[2:5]}')\n",
    "\n",
    "'''Slice From the Start\n",
    "By leaving out the start index, the range will start at the first character:\n",
    "\n",
    "Example 2: Get the characters from the start to position 5 (not included):\n",
    "'''\n",
    "\n",
    "slicingStringFromStart = \"Hello, World!\"\n",
    "print(f'slicingStringFromStart : {slicingStringFromStart[:5]}')\n",
    "\n",
    "'''Slice To the End\n",
    "By leaving out the end index, the range will go to the end:\n",
    "\n",
    "Example 3: Get the characters from position 2, and all the way to the end:\n",
    "'''\n",
    "slicingStringFromEnd = \"Hello, World!\"\n",
    "print(f'slicingStringFromEnd : {slicingStringFromEnd[2:]}')\n",
    "\n",
    "'''\n",
    "Negative Indexing\n",
    "Use negative indexes to start the slice from the end of the string:\n",
    "Example 3: Get the characters:\n",
    "From: \"o\" in \"World!\" (position -5)\n",
    "To, but not included: \"d\" in \"World!\" (position -2):'''\n",
    "\n",
    "slicingStringFromNegativeIndexing = \"Hello, World!\"\n",
    "print(f'slicingStringFromNegativeIndexing : {slicingStringFromNegativeIndexing[-5:-2]}')\n"
   ]
  },
  {
   "cell_type": "markdown",
   "metadata": {},
   "source": [
    "##### **7.6 String Methods**  \n",
    "Python has a set of built-in methods that you can use on strings.\n",
    "\n",
    "> **Note:** All string methods returns new values. They do not change the original string.  \n",
    "  \n",
    "|Sl. No| Method|\tDescription|\n",
    "|---|---|---|\n",
    "|1.|capitalize()|\tConverts the first character to upper case|\n",
    "|2.|casefold()|\tConverts string into lower case|\n",
    "|3.|center()\t|Returns a centered string|\n",
    "|4.|count()\t|Returns the number of times a specified value occurs in a string|\n",
    "|5.|encode()|\tReturns an encoded version of the string|\n",
    "|6.|endswith()|\tReturns true if the string ends with the specified value|\n",
    "|7.|expandtabs()|\tSets the tab size of the string|\n",
    "|8.|find()\t|Searches the string for a specified value and returns the position of where it was found|\n",
    "|9.|format()|\tFormats specified values in a string|\n",
    "|10.|format_map()|\tFormats specified values in a string|\n",
    "|11.|index()\t|Searches the string for a specified value and returns the position of where it was found|\n",
    "|12.|isalnum()|\tReturns True if all characters in the string are alphanumeric|\n",
    "|13.|isalpha()|\tReturns True if all characters in the string are in the alphabet|\n",
    "|14.|isdecimal()|\tReturns True if all characters in the string are decimals|\n",
    "|15.|isdigit()|\tReturns True if all characters in the string are digits|\n",
    "|16.|isidentifier()|\tReturns True if the string is an identifier|\n",
    "|17.|islower()\t|Returns True if all characters in the string are lower case|\n",
    "|18.|isnumeric()\t|Returns True if all characters in the string are numeric|\n",
    "|19.|isprintable()|\tReturns True if all characters in the string are printable|\n",
    "|20.|isspace()\t|Returns True if all characters in the string are whitespaces|\n",
    "|21.|istitle()\t|Returns True if the string follows the rules of a title|\n",
    "|22.|isupper()\t|Returns True if all characters in the string are upper case|\n",
    "|23.|join()\t|Joins the elements of an iterable to the end of the string|\n",
    "|24.|ljust()\t|Returns a left justified version of the string|\n",
    "|25.|lower()\t|Converts a string into lower case|\n",
    "|26.|lstrip()|\tReturns a left trim version of the string|\n",
    "|27.|maketrans()|\tReturns a translation table to be used in translations|\n",
    "|28.|partition()\t|Returns a tuple where the string is parted into three parts|\n",
    "|29.|replace()\t|Returns a string where a specified value is replaced with a specified value|\n",
    "|30.|rfind()\t|Searches the string for a specified value and returns the last position of where it was found|\n",
    "|31.|rindex()|\tSearches the string for a specified value and returns the last position of where it was found|\n",
    "|32.|rjust()\t|Returns a right justified version of the string|\n",
    "|33.|rpartition()|\tReturns a tuple where the string is parted into three parts|\n",
    "|34.|rsplit()\t|Splits the string at the specified separator, and returns a list|\n",
    "|35.|rstrip()\t|Returns a right trim version of the string|\n",
    "|36.|split()\t|Splits the string at the specified separator, and returns a list|\n",
    "|37.|splitlines()|\tSplits the string at line breaks and returns a list|\n",
    "|38.|startswith()|\tReturns true if the string starts with the specified value|\n",
    "|39.|strip()\t|Returns a trimmed version of the string|\n",
    "|40.|swapcase()|\tSwaps cases, lower case becomes upper case and vice versa|\n",
    "|41.|title()|\tConverts the first character of each word to upper case|\n",
    "|42.|translate()|\tReturns a translated string|\n",
    "|43.|upper()\t|Converts a string into upper case|\n",
    "|44.|zfill()\t|Fills the string with a specified number of 0 values at the beginning|"
   ]
  },
  {
   "cell_type": "code",
   "execution_count": 45,
   "metadata": {},
   "outputs": [
    {
     "name": "stdout",
     "output_type": "stream",
     "text": [
      "capitalize() :python is FUN!\n",
      " Python is fun!\n",
      "____________________________________________\n",
      "casefold() :Hello, And Welcome To My World!\n",
      " hello, and welcome to my world!\n",
      "____________________________________________\n",
      "center() :banana\n",
      "        banana       \n",
      "____________________________________________\n",
      "count() :I love apples, apple are my favorite fruit\n",
      " 1\n",
      "____________________________________________\n",
      "encode() :My name is Ståle\n",
      " b'My name is St\\xc3\\xa5le'\n",
      "____________________________________________\n",
      "endswith() :Hello, welcome to my world.\n",
      " True\n",
      "____________________________________________\n",
      "expandtabs() :H\te\tl\tl\to\n",
      " H e l l o\n",
      "____________________________________________\n",
      "find() :Hello, welcome to my world.\n",
      " 7\n",
      "____________________________________________\n",
      "format() :For only {price:.2f} dollars!\n",
      " For only 49.00 dollars!\n",
      "____________________________________________\n",
      "format_map() :\n",
      " {\"{x}'s last name is {y}\".format_map(format_mapString)}\n",
      "____________________________________________\n",
      "index() :Hello, welcome to my world.\n",
      " 21\n",
      "____________________________________________\n",
      "isalnum() :Company12\n",
      " True\n",
      "____________________________________________\n",
      "isalpha() :CompanyX\n",
      " True\n",
      "____________________________________________\n",
      "isdecimal() :3\n",
      " True\n",
      "____________________________________________\n",
      "isdigit() :50800\n",
      " True\n",
      "____________________________________________\n",
      "isidentifier() :Demo\n",
      " True\n",
      "____________________________________________\n",
      "islower() :hello world!\n",
      " True\n",
      "____________________________________________\n",
      "isnumeric() :565543\n",
      " True\n",
      "____________________________________________\n",
      "isprintable() :Hello! Are you #1?\n",
      " True\n",
      "____________________________________________\n",
      "isspace() :    \n",
      " True\n",
      "____________________________________________\n",
      "istitle() :Hello, And Welcome To My World!\n",
      " True\n",
      "____________________________________________\n",
      "isupper() :THIS IS NOW!\n",
      " True\n",
      "____________________________________________\n"
     ]
    },
    {
     "ename": "TypeError",
     "evalue": "can only concatenate str (not \"tuple\") to str",
     "output_type": "error",
     "traceback": [
      "\u001b[1;31m---------------------------------------------------------------------------\u001b[0m",
      "\u001b[1;31mTypeError\u001b[0m                                 Traceback (most recent call last)",
      "\u001b[1;32mC:\\Users\\DEEPAK~1.R\\AppData\\Local\\Temp/ipykernel_18660/4115598152.py\u001b[0m in \u001b[0;36m<module>\u001b[1;34m\u001b[0m\n\u001b[0;32m    112\u001b[0m \u001b[0mjoinTuple\u001b[0m \u001b[1;33m=\u001b[0m \u001b[1;33m(\u001b[0m\u001b[1;34m\"John\"\u001b[0m\u001b[1;33m,\u001b[0m \u001b[1;34m\"Peter\"\u001b[0m\u001b[1;33m,\u001b[0m \u001b[1;34m\"Vicky\"\u001b[0m\u001b[1;33m)\u001b[0m\u001b[1;33m\u001b[0m\u001b[1;33m\u001b[0m\u001b[0m\n\u001b[0;32m    113\u001b[0m \u001b[0mjoinTupleString\u001b[0m \u001b[1;33m=\u001b[0m \u001b[1;34m'#'\u001b[0m\u001b[1;33m.\u001b[0m\u001b[0mjoin\u001b[0m\u001b[1;33m(\u001b[0m\u001b[0mjoinTuple\u001b[0m\u001b[1;33m)\u001b[0m\u001b[1;33m\u001b[0m\u001b[1;33m\u001b[0m\u001b[0m\n\u001b[1;32m--> 114\u001b[1;33m \u001b[0mprint\u001b[0m \u001b[1;33m(\u001b[0m\u001b[1;34m'join() :'\u001b[0m \u001b[1;33m+\u001b[0m \u001b[0mjoinTuple\u001b[0m \u001b[1;33m+\u001b[0m \u001b[1;34mf'\\n {joinTupleString}'\u001b[0m\u001b[1;33m)\u001b[0m\u001b[1;33m\u001b[0m\u001b[1;33m\u001b[0m\u001b[0m\n\u001b[0m\u001b[0;32m    115\u001b[0m \u001b[0mprint\u001b[0m\u001b[1;33m(\u001b[0m\u001b[1;34m'____________________________________________'\u001b[0m\u001b[1;33m)\u001b[0m\u001b[1;33m\u001b[0m\u001b[1;33m\u001b[0m\u001b[0m\n\u001b[0;32m    116\u001b[0m \u001b[1;33m\u001b[0m\u001b[0m\n",
      "\u001b[1;31mTypeError\u001b[0m: can only concatenate str (not \"tuple\") to str"
     ]
    }
   ],
   "source": [
    "## Example 1: capitalize()\tConverts the first character to upper case\n",
    "capitalizeString = \"python is FUN!\"\n",
    "print ('capitalize() :' + capitalizeString + f'\\n {capitalizeString.capitalize()}')\n",
    "print('____________________________________________')\n",
    "\n",
    "## Example 2: casefold()\tConverts string into lower case\n",
    "casefoldString = \"Hello, And Welcome To My World!\"\n",
    "print ('casefold() :' + casefoldString + f'\\n {casefoldString.casefold()}')\n",
    "print('____________________________________________')\n",
    "\n",
    "## Example : center()\tReturns a centered string\n",
    "centerString = 'banana'\n",
    "print ('center() :' + centerString + f'\\n {centerString.center(20)}')\n",
    "print('____________________________________________')\n",
    "\n",
    "## Example : count()\tReturns the number of times a specified value occurs in a string\n",
    "countString = \"I love apples, apple are my favorite fruit\"\n",
    "print ('count() :' + countString + f'\\n {countString.count(\"apples\")}')\n",
    "print('____________________________________________')\n",
    "\n",
    "## Example : encode()\tReturns an encoded version of the string\n",
    "encodeString = 'My name is Ståle'\n",
    "print ('encode() :' +encodeString  + f'\\n {encodeString.encode()}')\n",
    "print('____________________________________________')\n",
    "\n",
    "## Example : endswith()\tReturns true if the string ends with the specified value\n",
    "endswithString = 'Hello, welcome to my world.'\n",
    "print ('endswith() :' + endswithString + f'\\n {endswithString.endswith(\".\")}')\n",
    "print('____________________________________________')\n",
    "\n",
    "## Example : expandtabs()\tSets the tab size of the string\n",
    "expandtabsString = 'H\\te\\tl\\tl\\to'\n",
    "print ('expandtabs() :' +  expandtabsString+ f'\\n {expandtabsString.expandtabs(2)}')\n",
    "print('____________________________________________')\n",
    "\n",
    "## Example : find()\tSearches the string for a specified value and returns the position of where it was found\n",
    "findString = 'Hello, welcome to my world.'\n",
    "print ('find() :' + findString + f'\\n {findString.find(\"welcome\")}')\n",
    "print('____________________________________________')\n",
    "\n",
    "## Example : format()\tFormats specified values in a string\n",
    "formatString = 'For only {price:.2f} dollars!'\n",
    "print ('format() :' + formatString + f'\\n {formatString.format(price = 49)}')\n",
    "print('____________________________________________')\n",
    "\n",
    "## Example : format_map()\tFormats specified values in a string\n",
    "format_mapString = {'x':'John', 'y':'Wick'}\n",
    "print ('format_map() :' + '\\n {\"{x}\\'s last name is {y}\".format_map(format_mapString)}')\n",
    "print('____________________________________________')\n",
    "\n",
    "## Example : index()\tSearches the string for a specified value and returns the position of where it was found\n",
    "indexString = 'Hello, welcome to my world.'\n",
    "print ('index() :' + indexString + f'\\n {indexString.index(\"world\")}')\n",
    "print('____________________________________________')\n",
    "\n",
    "## Example : isalnum()\tReturns True if all characters in the string are alphanumeric\n",
    "isalnumString = 'Company12'\n",
    "print ('isalnum() :' + isalnumString + f'\\n {isalnumString.isalnum()}')\n",
    "print('____________________________________________')\n",
    "\n",
    "## Example : isalpha()\tReturns True if all characters in the string are in the alphabet\n",
    "isalphaString = 'CompanyX'\n",
    "print ('isalpha() :' + isalphaString + f'\\n {isalphaString.isalpha()}')\n",
    "print('____________________________________________')\n",
    "\n",
    "## Example : isdecimal()\tReturns True if all characters in the string are decimals\n",
    "isdecimalString = \"\\u0033\" #unicode for 3\n",
    "print ('isdecimal() :' + isdecimalString + f'\\n {isdecimalString.isdecimal()}')\n",
    "print('____________________________________________')\n",
    "\n",
    "## Example : isdigit()\tReturns True if all characters in the string are digits\n",
    "isdigitString = '50800'\n",
    "print ('isdigit() :' + isdigitString + f'\\n {isdigitString.isdigit()}')\n",
    "print('____________________________________________')\n",
    "\n",
    "## Example : isidentifier()\tReturns True if the string is an identifier\n",
    "isidentifierString = 'Demo'\n",
    "print ('isidentifier() :' + isidentifierString + f'\\n {isidentifierString.isidentifier()}')\n",
    "print('____________________________________________')\n",
    "\n",
    "## Example : islower()\tReturns True if all characters in the string are lower case\n",
    "islowerString = 'hello world!'\n",
    "print ('islower() :' + islowerString + f'\\n {islowerString.islower()}')\n",
    "print('____________________________________________')\n",
    "\n",
    "## Example : isnumeric()\tReturns True if all characters in the string are numericprint ('() :' +  + f'\\n {.()}')\n",
    "isnumericString = '565543'\n",
    "print ('isnumeric() :' + isnumericString + f'\\n {isnumericString.isnumeric()}')\n",
    "print('____________________________________________')\n",
    "\n",
    "## Example : isprintable()\tReturns True if all characters in the string are printable\n",
    "isprintableString = 'Hello! Are you #1?'\n",
    "print ('isprintable() :' +  isprintableString+ f'\\n {isprintableString.isprintable()}')\n",
    "print('____________________________________________')\n",
    "\n",
    "## Example : isspace()\tReturns True if all characters in the string are whitespaces\n",
    "isspaceString = '    '\n",
    "print ('isspace() :' + isspaceString + f'\\n {isspaceString.isspace()}')\n",
    "print('____________________________________________')\n",
    "\n",
    "## Example : istitle()\tReturns True if the string follows the rules of a title\n",
    "istitleString = 'Hello, And Welcome To My World!'\n",
    "print ('istitle() :' + istitleString + f'\\n {istitleString.istitle()}')\n",
    "print('____________________________________________')\n",
    "\n",
    "## Example : isupper()\tReturns True if all characters in the string are upper case\n",
    "isupperString = 'THIS IS NOW!'\n",
    "print ('isupper() :' +isupperString  + f'\\n {isupperString.isupper()}')\n",
    "print('____________________________________________')\n",
    "\n",
    "## Example : join()\tJoins the elements of an iterable to the end of the string\n",
    "joinTuple = (\"John\", \"Peter\", \"Vicky\")\n",
    "joinTupleString = '#'.join(joinTuple)\n",
    "print ('join() :' + joinTuple + f'\\n {joinTupleString}')\n",
    "print('____________________________________________')\n",
    "\n",
    "joinDict = {\"name\": \"John\", \"country\": \"Norway\"}\n",
    "mySeparator = \"TEST\"\n",
    "joinDictString = mySeparator.join(joinDict)\n",
    "print ('join() :' + joinDict + f'\\n {joinDictString}')\n",
    "print('Note: When using a dictionary as an iterable, the returned values are the keys, not the values.')\n",
    "print('____________________________________________')\n",
    "\n",
    "## Example : ljust()\tReturns a left justified version of the string\n",
    "ljustSttring = ''\n",
    "print ('ljust() :' +  + f'\\n {ljustSttring.ljust()}')\n",
    "print('____________________________________________')\n",
    "\n",
    "## Example : lower()\tConverts a string into lower case\n",
    "lowerString = 'Hello my FRIENDS'\n",
    "print ('lower() :' + lowerString + f'\\n {lowerString.lower()}')\n",
    "print('____________________________________________')\n",
    "\n",
    "## Example : lstrip()\tReturns a left trim version of the string\n",
    "lstripString = 'ljustSttring'\n",
    "print ('lstrip() :' +  lstripString+ f'\\n {lstripString.lstrip()}')\n",
    "print('____________________________________________')\n",
    "\n",
    "## Example : maketrans()\tReturns a translation table to be used in translations\n",
    "maketransString = ''\n",
    "print ('maketrans() :' +  maketransString+ f'\\n {maketransString.maketrans()}')\n",
    "print('____________________________________________')\n",
    "\n",
    "## Example : partition()\tReturns a tuple where the string is parted into three parts\n",
    "partitionString = ''\n",
    "print ('partition() :' + partitionString + f'\\n {partitionString.partition()}')\n",
    "print('____________________________________________')\n",
    "\n",
    "## Example : replace()\tReturns a string where a specified value is replaced with a specified value\n",
    "replaceString = ''\n",
    "print ('replace() :' +  replaceString+ f'\\n {replaceString.replace()}')\n",
    "print('____________________________________________')\n",
    "\n",
    "## Example : rfind()\tSearches the string for a specified value and returns the last position of where it was found\n",
    "rfindString = ''\n",
    "print ('rfind() :' + rfindString + f'\\n {rfindString.rfind()}')\n",
    "print('____________________________________________')\n",
    "\n",
    "## Example : rindex()\tSearches the string for a specified value and returns the last position of where it was found\n",
    "rindexString = ''\n",
    "print ('rindex() :' +rindexString  + f'\\n {rindexString.rindex()}')\n",
    "print('____________________________________________')\n",
    "\n",
    "## Example : rjust()\tReturns a right justified version of the string\n",
    "rjustString = ''\n",
    "print ('rjust() :' + rjustString + f'\\n {rjustString.rjust()}')\n",
    "print('____________________________________________')\n",
    "\n",
    "## Example : rpartition()\tReturns a tuple where the string is parted into three parts\n",
    "rpartitionString = ''\n",
    "print ('rpartition() :' +rpartitionString  + f'\\n {rpartitionString.rpartition()}')\n",
    "print('____________________________________________')\n",
    "\n",
    "## Example : rsplit()\tSplits the string at the specified separator, and returns a list\n",
    "rsplitString = ''\n",
    "print ('rsplit() :' +rsplitString  + f'\\n {rsplitString.rsplit()}')\n",
    "print('____________________________________________')\n",
    "\n",
    "## Example : rstrip()\tReturns a right trim version of the string\n",
    "rstripString = ''\n",
    "print ('rstrip() :' +rstripString  + f'\\n {rstripString.rstrip()}')\n",
    "print('____________________________________________')\n",
    "\n",
    "## Example : split()\tSplits the string at the specified separator, and returns a list\n",
    "splitString = ''\n",
    "print ('split() :' +  splitString+ f'\\n {splitString.split()}')\n",
    "print('____________________________________________')\n",
    "\n",
    "## Example : splitlines()\tSplits the string at line breaks and returns a list\n",
    "splitlinesString = ''\n",
    "print ('splitlines() :' + splitlinesString + f'\\n {splitlinesString.splitlines()}')\n",
    "print('____________________________________________')\n",
    "\n",
    "## Example : startswith()\tReturns true if the string starts with the specified value\n",
    "startswithString = ''\n",
    "print ('startswith() :' +  startswithString+ f'\\n {startswithString.startswith()}')\n",
    "print('____________________________________________')\n",
    "\n",
    "## Example : strip()\tReturns a trimmed version of the string\n",
    "stripString = ''\n",
    "print ('strip() :' + stripString + f'\\n {stripString.strip()}')\n",
    "print('____________________________________________')\n",
    "\n",
    "## Example : swapcase()\tSwaps cases, lower case becomes upper case and vice versa\n",
    "swapcaseString = ''\n",
    "print ('swapcase() :' +swapcaseString  + f'\\n {swapcaseString.swapcase()}')\n",
    "print('____________________________________________')\n",
    "\n",
    "## Example : title()\tConverts the first character of each word to upper case\n",
    "titleString = ''\n",
    "print ('title() :' +titleString  + f'\\n {titleString.title()}')\n",
    "print('____________________________________________')\n",
    "\n",
    "## Example : translate()\tReturns a translated string\n",
    "translateString = ''\n",
    "print ('translate() :' +  translateString+ f'\\n {translateString.translate()}')\n",
    "print('____________________________________________')\n",
    "\n",
    "## Example : upper()\tConverts a string into upper case\n",
    "upperString = ''\n",
    "print ('upper() :' + upperString + f'\\n {upperString.upper()}')\n",
    "print('____________________________________________')\n",
    "\n",
    "## Example : zfill()    Fills the string with a specified number of 0 values at the beginning\n",
    "zfillString =''\n",
    "print ('zfill() :' +zfillString  + f'\\n {zfillString.zfill()}')\n",
    "print('____________________________________________')"
   ]
  },
  {
   "cell_type": "markdown",
   "metadata": {},
   "source": [
    "####"
   ]
  }
 ],
 "metadata": {
  "interpreter": {
   "hash": "4cda9959e67a3991815d4c3f8f8b89c33aa308d72b1e839cef19e7e841945cd6"
  },
  "kernelspec": {
   "display_name": "Python 3.9.6 64-bit",
   "language": "python",
   "name": "python3"
  },
  "language_info": {
   "codemirror_mode": {
    "name": "ipython",
    "version": 3
   },
   "file_extension": ".py",
   "mimetype": "text/x-python",
   "name": "python",
   "nbconvert_exporter": "python",
   "pygments_lexer": "ipython3",
   "version": "3.9.6"
  },
  "orig_nbformat": 4
 },
 "nbformat": 4,
 "nbformat_minor": 2
}
