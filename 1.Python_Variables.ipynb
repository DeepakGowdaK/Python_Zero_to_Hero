{
 "cells": [
  {
   "cell_type": "markdown",
   "source": [
    "# **Variables**"
   ],
   "metadata": {}
  },
  {
   "cell_type": "markdown",
   "source": [
    "## **1. Creating Variables**\r\n",
    "- variables are containers for storing data values. Unlike other programming languages, Python has no command for declaring a variable.\r\n",
    "- A variable is created the moment you first assign a value to it."
   ],
   "metadata": {}
  },
  {
   "cell_type": "markdown",
   "source": [
    "## **2. Variable Names**\r\n",
    "- A variable can have a short name (like x and y) or a more descriptive name (age, carname, total_volume). Rules for Python variables:\r\n",
    "- A variable name must start with a letter or the underscore character\r\n",
    "- A variable name cannot start with a number\r\n",
    "- A variable name can only contain alpha-numeric characters and underscores (A-z, 0-9, and _ )\r\n",
    "Variable names are case-sensitive (age, Age and AGE are three different variables) \r\n",
    "\r\n",
    "Examples:  \r\n",
    "myvar   \r\n",
    "my_var   \r\n",
    "_my_var  \r\n",
    "myVar  \r\n",
    "MYVAR  \r\n",
    "myvar2  "
   ],
   "metadata": {}
  },
  {
   "cell_type": "markdown",
   "source": [
    "## **3. Assigning Multiple variables**\r\n",
    "\r\n",
    "**3.1 Many Values to Multiple Variables**  \r\n",
    "Python allows you to assign values to multiple variables in one line:  \r\n",
    "`x, y, z = \"Orange\", \"Banana\", \"Cherry\"`  \r\n",
    "\r\n",
    "> **Note:** Make sure the number of variables matches the number of values, or else you will get an error.  \r\n",
    "\r\n",
    "**3.2 One Value to Multiple Variables**  \r\n",
    "And you can assign the same value to multiple variables in one line:  \r\n",
    "`x = y = z = \"Orange\"`  \r\n",
    "\r\n",
    "**3.3 Unpack a Collection**  \r\n",
    "If you have a collection of values in a list, tuple etc. Python allows you extract the values into variables. This is called unpacking.  \r\n",
    "`fruits = [\"apple\", \"banana\", \"cherry\"]`  \r\n",
    "`x, y, z = fruits`"
   ],
   "metadata": {}
  },
  {
   "cell_type": "markdown",
   "source": [
    "## **4. Output variables**  \r\n",
    "The Python print statement is often used to output variables.\r\n",
    "\r\n",
    "**4.1 To combine both text and a variable, Python uses the + character:**  \r\n",
    "`x = \"awesome\"`  \r\n",
    "`print(\"Python is \" + x)`  \r\n",
    "\r\n",
    "**4.2 You can also use the + character to add a variable to another variable:**  \r\n",
    "`x = \"Python is \"`  \r\n",
    "`y = \"awesome\"`  \r\n",
    "`z = x + y`  \r\n",
    "\r\n",
    "**4.3 For numbers, the + character works as a mathematical operator:**\r\n",
    "`x = 5`  \r\n",
    "`y = 10`  \r\n",
    "`print(x + y)`  \r\n",
    "\r\n",
    "> **Note:** If you try to combine a string and a number, Python will give you an error:  \r\n",
    "`x = 5`  \r\n",
    "`y = \"John\"`  \r\n",
    "`print(x + y)`           //error"
   ],
   "metadata": {}
  },
  {
   "cell_type": "markdown",
   "source": [
    "## **5. Input variables**  \r\n",
    "Usage use of input() keyword.   \r\n",
    "`input('Please enter your name:')` "
   ],
   "metadata": {}
  },
  {
   "cell_type": "markdown",
   "source": [
    "## **6. Variables Scope**  \r\n",
    "\r\n",
    "**6.1 Global scope**  \r\n",
    "Variables that are created outside of a function (as in all of the examples above) are known as global variables.  \r\n",
    "- Global variables can be used by everyone, both inside of functions and outside.\r\n",
    "\r\n",
    "**6.2 Local scope**  \r\n",
    "A variable created inside a function belongs to the local scope of that function, and can be only be used inside that function.\r\n",
    "\r\n",
    "> **Note:** If you create a variable with the same name inside a function, this variable will be local, and can only be used inside the function. The global variable with the same name will remain as it was, global and with the original value.\r\n",
    "\r\n",
    "**6.2 Global Keyword**  \r\n",
    "Normally, when you create a variable inside a function, that variable is local, and can only be used inside that function.  To create a global variable inside a function, you can use the `global` keyword.  \r\n",
    "\r\n",
    "Usage  \r\n",
    "`x = \"awesome\"`  //Global variable\r\n",
    "\r\n",
    "`def myfunc():`  \r\n",
    "    `global x`  // using global keyword to make loacl variable to global variable   \r\n",
    "    `x = \"fantastic\"`  // Local variable\r\n",
    "\r\n",
    "`myfunc()`"
   ],
   "metadata": {}
  }
 ],
 "metadata": {
  "orig_nbformat": 4,
  "language_info": {
   "name": "python",
   "version": "3.9.6",
   "mimetype": "text/x-python",
   "codemirror_mode": {
    "name": "ipython",
    "version": 3
   },
   "pygments_lexer": "ipython3",
   "nbconvert_exporter": "python",
   "file_extension": ".py"
  },
  "kernelspec": {
   "name": "python3",
   "display_name": "Python 3.9.6 64-bit"
  },
  "interpreter": {
   "hash": "08a7378106735304ab00d5da0812f69b231a6927b2b06644e00fd5fac1bfef7e"
  }
 },
 "nbformat": 4,
 "nbformat_minor": 2
}