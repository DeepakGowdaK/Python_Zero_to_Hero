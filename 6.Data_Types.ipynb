{
 "cells": [
  {
   "cell_type": "markdown",
   "metadata": {},
   "source": [
    "# **Data Types**  \n",
    "  \n",
    "### **6. Built-in Data Types**  \n",
    "In programming, data type is an important concept.  \n",
    "  \n",
    "Variables can store data of different types, and different types can do different things.  \n",
    "  \n",
    "Python has the following data types built-in by default, in these categories:  \n",
    "  \n",
    "|Sl.No.|Data|Type|\n",
    "|---|---|---|  \n",
    "|1. |Binary Types:|\tbytes, bytearray, memoryview|\n",
    "|2.|None|None|\n",
    "|3. |Boolean Type:|\tbool|\n",
    "|4. |Numeric Types:| int, float, complex|\n",
    "|5. |Text Type:|str|\n",
    "|6. |Sequence Types:|\tlist, tuple, range|\n",
    "|7. |Set Types:|\tset, frozenset|\n",
    "|8. |Mapping Type:|\tdict|  \n",
    "\n",
    "**Getting the Data Type**  \n",
    "You can get the data type of any object by using the `type()` function:  \n",
    "Syntax  \n",
    ">  type(object)\n"
   ]
  },
  {
   "cell_type": "code",
   "execution_count": 7,
   "metadata": {},
   "outputs": [
    {
     "name": "stdout",
     "output_type": "stream",
     "text": [
      "<class 'int'>\n"
     ]
    }
   ],
   "source": [
    "x = 5\n",
    "print(type(x))"
   ]
  },
  {
   "cell_type": "markdown",
   "metadata": {},
   "source": [
    "**Setting the Data Type**  \n",
    "In Python, the data type is set when you assign a value to a variable:\n",
    "\n",
    "|Example\t|Data Type|\tOut put|\n",
    "|---|---|---|\n",
    "|x = \"Hello World\"|\tstr\t| <class 'str'> |\n",
    "|x = 20\t|int\t| <class 'int'>|\n",
    "|x = 20.5|\tfloat\t|<class 'float'>|\n",
    "|x = 1j\t|complex|<class 'complex'>\t|\n",
    "|x = [\"apple\", \"banana\", \"cherry\"]\t|list\t| <class 'list'>|\n",
    "|x = (\"apple\", \"banana\", \"cherry\")|\ttuple\t|<class 'tuple'> |\n",
    "|x = range(6)\t|range|<class 'range'> |\t\n",
    "|x = {\"name\" : \"John\", \"age\" : 36}|\tdict|<class 'dict'> |\t\n",
    "|x = {\"apple\", \"banana\", \"cherry\"}|\tset\t|<class 'set'> |\n",
    "|x = frozenset({\"apple\", \"banana\", \"cherry\"})|\tfrozenset|<class 'frozenset'> |\t\n",
    "|x = True|\tbool|<class 'bool'> |\t\n",
    "|x = b\"Hello\"|\tbytes|<class 'bytes'> |\t\n",
    "|x = bytearray(5)|\tbytearray|bytearray(b'\\x00\\x00\\x00\\x00\\x00'<class 'bytearray'> |\t\n",
    "|x = memoryview(bytes(5))|\tmemoryview| <memory at 0x00B08FA0><class 'memoryview'>|\t  \n",
    "  \n",
    "**Setting the Specific Data Type**  \n",
    "If you want to specify the data type, you can use the following constructor functions:\n",
    "\n",
    "|Example|\tData Type|\n",
    "|---|---|\n",
    "|x = str(\"Hello World\")|\tstr\t|\n",
    "|x = int(20)|\tint\t|\n",
    "|x = float(20.5)|\tfloat\t\n",
    "|x = complex(1j)|\tcomplex\t\n",
    "|x = list((\"apple\", \"banana\", \"cherry\"))|\tlist\t|\n",
    "|x = tuple((\"apple\", \"banana\", \"cherry\"))|\ttuple\t|\n",
    "|x = range(6)\t|range\t|\n",
    "|x = dict(name=\"John\", age=36)|\tdict\t|\n",
    "|x = set((\"apple\", \"banana\", \"cherry\"))|\tset|\t\n",
    "|x = frozenset((\"apple\", \"banana\", \"cherry\"))|\tfrozenset\t|\n",
    "|x = bool(5)\t|bool\t|\n",
    "|x = bytes(5)\t|bytes\t|\n",
    "|x = bytearray(5)\t|bytearray\t|\n",
    "|x = memoryview(bytes(5))\t|memoryview\t|\n",
    "\n"
   ]
  },
  {
   "cell_type": "markdown",
   "metadata": {},
   "source": [
    "### **6.1 Binary Types**  \n",
    "- bytes\n",
    "- bytearray\n",
    "- memoryview  \n",
    "\n",
    "No much data available currently."
   ]
  },
  {
   "cell_type": "markdown",
   "metadata": {},
   "source": [
    "### **6.2 None Types**  \n",
    "  This is special data type with single value. It is used to signify the absence of value/false in a situation. It is represented by None"
   ]
  },
  {
   "cell_type": "markdown",
   "metadata": {},
   "source": [
    "### **6.3 Boolean Type**  \n",
    "- Booleans represent one of two values: `True` or `False`.  \n",
    "- In programming you often need to know if an expression is `True` or `False`.  \n",
    "- You can evaluate any expression in Python, and get one of two answers, `True` or `False`.  \n",
    "- When you run a `condition` in an `if statement`, Python returns `True` or `False`.  \n",
    "- Evaluate Values and Variables\n",
    "    - Almost any value is evaluated to **True** if it has some sort of content.\n",
    "    - Any string is True, except empty strings.\n",
    "    - Any number is True, except 0.\n",
    "    - Any list, tuple, set, and dictionary are True, except empty ones.\n",
    "- Some Values are False\n",
    "    - In fact, there are not many values that evaluate to `False`, except empty values, such as `()`, `[]`, `{}`, `\"\"`, the number `0`, and the value `None`. And of course the value `False` evaluates to `False`."
   ]
  },
  {
   "cell_type": "code",
   "execution_count": 8,
   "metadata": {},
   "outputs": [
    {
     "name": "stdout",
     "output_type": "stream",
     "text": [
      "False\n",
      "False\n",
      "False\n",
      "False\n",
      "False\n",
      "False\n",
      "False\n"
     ]
    }
   ],
   "source": [
    "print(bool(False))\n",
    "print(bool(None))\n",
    "print(bool(0))\n",
    "print(bool(\"\"))\n",
    "print(bool(()))\n",
    "print(bool([]))\n",
    "print(bool({}))"
   ]
  },
  {
   "cell_type": "markdown",
   "metadata": {},
   "source": [
    "One more value, or object in this case, evaluates to `False`, and that is if you have an object that is made from a class with a `__len __` function that returns `0` or `False`."
   ]
  },
  {
   "cell_type": "code",
   "execution_count": 9,
   "metadata": {},
   "outputs": [
    {
     "name": "stdout",
     "output_type": "stream",
     "text": [
      "False\n"
     ]
    }
   ],
   "source": [
    "class myclass():\n",
    "  def __len__(self):\n",
    "    return 0\n",
    "\n",
    "myobj = myclass()\n",
    "print(bool(myobj))"
   ]
  },
  {
   "cell_type": "markdown",
   "metadata": {},
   "source": [
    "- Functions can Return a Boolean\n",
    "    - You can create functions that returns a Boolean Value.\n",
    "    - You can execute code based on the Boolean answer of a function.\n"
   ]
  },
  {
   "cell_type": "code",
   "execution_count": 10,
   "metadata": {},
   "outputs": [
    {
     "name": "stdout",
     "output_type": "stream",
     "text": [
      "YES!\n"
     ]
    }
   ],
   "source": [
    "def myFunction() :\n",
    "  return True\n",
    "\n",
    "if myFunction():\n",
    "  print(\"YES!\")\n",
    "else:\n",
    "  print(\"NO!\")"
   ]
  },
  {
   "cell_type": "markdown",
   "metadata": {},
   "source": [
    "- Python also has many built-in functions that return a boolean value, like the `isinstance()` function, which can be used to determine if an object is of a certain data type."
   ]
  },
  {
   "cell_type": "code",
   "execution_count": 11,
   "metadata": {},
   "outputs": [
    {
     "name": "stdout",
     "output_type": "stream",
     "text": [
      "True\n"
     ]
    }
   ],
   "source": [
    "x = 200\n",
    "print(isinstance(x, int))"
   ]
  },
  {
   "cell_type": "markdown",
   "metadata": {},
   "source": [
    "### **6.4 Number / Numeric Type**  \n",
    "There are three numeric types in Python:  \n",
    "6.4.1 int  \n",
    "6.4.2 float  \n",
    "6.4.3 complex   \n",
    " \n",
    "- Variables of numeric types are created when you assign a value to them.\n",
    "- To verify the type of any object in Python, use the type() function.  \n",
    "\n",
    "#### **6.4.1 Int**  \n",
    "Int, or integer, is a whole number, positive or negative, without decimals, of unlimited length.  \n",
    "\n",
    "#### **6.4.2 Float**  \n",
    "- Float, or \"floating point number\" is a number, positive or negative, containing one or more decimals.\n",
    "- Float can also be scientific numbers with an \"e\" to indicate the power of 10.  \n",
    "\n",
    "#### **6.4.3 Complex** \n",
    "Complex numbers are written with a \"j\" as the imaginary part.  \n",
    "\n",
    "#### **Type Conversion**  \n",
    "You can convert from one type to another with the `int()`, `float()`, and `complex()` methods.  \n",
    "\n",
    "**Note:** You cannot convert complex numbers into another number type."
   ]
  },
  {
   "cell_type": "code",
   "execution_count": 12,
   "metadata": {},
   "outputs": [
    {
     "name": "stdout",
     "output_type": "stream",
     "text": [
      "1.0\n",
      "2\n",
      "(1+0j)\n",
      "<class 'float'>\n",
      "<class 'int'>\n",
      "<class 'complex'>\n"
     ]
    }
   ],
   "source": [
    "#convert from int to float:\n",
    "x = float(1)\n",
    "\n",
    "#convert from float to int:\n",
    "y = int(2.8)\n",
    "\n",
    "#convert from int to complex:\n",
    "z = complex(x)\n",
    "\n",
    "print(x)\n",
    "print(y)\n",
    "print(z)\n",
    "\n",
    "print(type(x))\n",
    "print(type(y))\n",
    "print(type(z))\n"
   ]
  }
 ],
 "metadata": {
  "interpreter": {
   "hash": "4dc1cc02c367ca7ad0b1fc5e376b41e09845a28f3f36f373698abec275ce0fd0"
  },
  "kernelspec": {
   "display_name": "Python 3.8.8 64-bit ('base': conda)",
   "language": "python",
   "name": "python3"
  },
  "language_info": {
   "codemirror_mode": {
    "name": "ipython",
    "version": 3
   },
   "file_extension": ".py",
   "mimetype": "text/x-python",
   "name": "python",
   "nbconvert_exporter": "python",
   "pygments_lexer": "ipython3",
   "version": "3.8.8"
  },
  "orig_nbformat": 4
 },
 "nbformat": 4,
 "nbformat_minor": 2
}
