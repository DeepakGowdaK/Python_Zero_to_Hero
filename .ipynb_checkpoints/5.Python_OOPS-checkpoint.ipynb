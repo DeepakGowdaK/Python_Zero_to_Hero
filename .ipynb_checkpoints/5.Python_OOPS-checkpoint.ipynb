{
 "cells": [
  {
   "cell_type": "markdown",
   "metadata": {},
   "source": [
    "# **Object oriented Programming system in Python**  \n",
    "Python OOPs concepts include   \n",
    "1. Class  \n",
    "2. Object  \n",
    "3. Method  \n",
    "4. Inheritance  \n",
    "5. Polymorphism  \n",
    "6. Data Abstraction  \n",
    "7. Encapsulation\n"
   ]
  },
  {
   "cell_type": "markdown",
   "metadata": {},
   "source": [
    "In programming languages, mainly there are two approaches that are used to write program or code.\n",
    "1. Procedural Programming\n",
    "2. Object-Oriented Programming"
   ]
  },
  {
   "cell_type": "markdown",
   "metadata": {},
   "source": [
    "### **Difference between Object-Oriented and Procedural Oriented Programming**  \n",
    "|Object-Oriented Programming (OOP) | Procedural-Oriented Programming (Pop) |\n",
    "|---|---|\n",
    "|It is a bottom-up approach | It is a top-down approach|\n",
    "|Program is divided into objects | Program is divided into functions|\n",
    "|Makes use of `Access modifiers`  ‘public’, private’, protected’|Doesn’t use Access modifiers|\n",
    "| It is more secure |It is less secure|\n",
    "|Object can move freely within member functions |Data can move freely from function to function within programs|\n",
    "|It supports inheritance |It does not support inheritance|"
   ]
  },
  {
   "cell_type": "markdown",
   "metadata": {},
   "source": [
    "## **Structure of OOPs**  \n",
    "<img src=\"Concepts_of_OOPs_in_python.jpg\" alt='Concepts_of_OOPs_in_python File'>"
   ]
  },
  {
   "cell_type": "markdown",
   "metadata": {},
   "source": [
    "## **1. Classes**  \n",
    "**Definition:** A class is nothing but just a group of `attributes` and `methods`. Classes are user-defined. We can use all the concepts of procedural programming in class.  \n",
    "\n",
    "**Attributes:** We already learned about variables in our previous topics. Same like variables, attributes are represented by variables that are used to store some value or data.  \n",
    "\n",
    "**Methods:** We already learned about functions. Same like functions, methods perform action or tasks when needed. It is very similar to functions.  \n",
    "\n",
    "Syntax  \n",
    "> class class_name(): // class1 is the name of the class  \n",
    "> #body of class    \n",
    "> #attributes    \n",
    "> #Method  \n",
    "  \n",
    "  \n",
    "\n",
    "<img src=\"Classes_consists.jpg\" alt='Classes concept flow diagram'>  \n",
    "\n",
    "**Methods:** Already discussed about class methods above.  \n",
    "**Class variables:** Class variables and attributes are same that we have already learned above.\n"
   ]
  },
  {
   "cell_type": "markdown",
   "metadata": {},
   "source": [
    "## **2. Objects**\n",
    "**Definition** Objects are an instance of a class. `or` An object is nothing but just a variable that refers to a class and its elements. Without making an object of class we cannot revoke the attributes (class variables, class methods) of class. We can create at least one object of a class and more than one objects also based on our requirements. We will see both examples on object creation of a class (one object and two objects) Syntax of creating an object of a class.  \n",
    "\n",
    "Syntax  \n",
    "> obj = class_name()  \n",
    "> #class_attributes (variables ets.,)  \n",
    "> #class_methods (methods etc)   \n",
    "\n",
    "Object creation  \n",
    "object_name = class_name()  \n",
    "object_name.class_attributes  \n",
    "object_name.class_methods  "
   ]
  },
  {
   "cell_type": "markdown",
   "metadata": {},
   "source": [
    "## **3. Methods**  \n",
    "> The method is a function that is associated with an object. In Python, a method is not unique to class instances. Any object type can have methods.   "
   ]
  },
  {
   "cell_type": "markdown",
   "metadata": {},
   "source": [
    "### **3.1 Python Class Method vs. Static Method vs. Instance Method**  \n",
    "\n",
    "In `Object-oriented programming`, when we design a class, we use the following three methods\n",
    "- `Instance method` performs a set of actions on the data/value provided by the instance variables. If we use instance variables inside a method, such methods are called instance methods.\n",
    "- `Class method` is method that is called on the class itself, not on a specific object instance. Therefore, it belongs to a class level, and all class instances share a class method.\n",
    "- `Static method` is a general utility method that performs a task in isolation. This method doesn’t have access to the instance and class variable.\n",
    "\n",
    "<img src='Class_method_vs_static_method_vs_instance_method.png'>  \n",
    "  \n",
    "**Table of contents**  \n",
    "- Difference #1: Primary Use\n",
    "- Difference #2: Method Defination\n",
    "- Difference #3: Method Call\n",
    "- Difference #4: Attribute Access\n",
    "- Difference #5: Class Bound and Instance Bound  \n",
    "\n",
    "**Difference #1: Primary Use**  \n",
    "- `Class method` Used to access or modify the `class` state. It can modify the class state by changing the value of a `class variable` that would apply across all the class objects.\n",
    "- The instance method acts on an object’s attributes. It can modify the object state by changing the value of `instance variables`.\n",
    "- `Static methods` have limited use because they don’t have access to the attributes of an object (instance variables) and class attributes (class variables). However, they can be helpful in utility such as conversion form one type to another.  \n",
    "  \n",
    "  \n",
    "Class methods are used as a factory method. Factory methods are those methods that return a class object for different use cases. For example, you need to do some pre-processing on the provided data before creating an object.  \n",
    "  \n",
    "Read our separate tutorial on  \n",
    "- <a href=\"https://pynative.com/python-instance-methods/\">Instance methods in Python</a>\n",
    "- <a href=\"https://pynative.com/python-class-method/\">Class method in Python</a>\n",
    "- <a href=\"https://pynative.com/python-static-method/\">Static method in Python</a>  \n",
    "\n",
    "**Difference #2: Method Defination**    \n",
    "Let’s learn how to define instance method, class method, and static method in a class. All three methods are defined in different ways.  \n",
    "  \n",
    "- All three methods are defined inside a class, and it is pretty similar to defining a regular function.\n",
    "- Any method we create in a class will automatically be created as an instance method. We must explicitly tell Python that it is a class method or static method.\n",
    "- Use the `@classmethod` decorator or the `classmethod()` function to define the class method\n",
    "- Use the `@staticmethod` decorator or the `staticmethod()` function to define a static method.  \n",
    "  \n",
    "**Example:**  \n",
    "- Use `self` as the first parameter in the instance method when defining it. The `self` parameter refers to the current object.\n",
    "- On the other hand, Use `cls` as the first parameter in the class method when defining it. The `cls` refers to the class.\n",
    "- A static method doesn’t take instance or class as a parameter because they don’t have access to the instance variables and class variables.\n"
   ]
  },
  {
   "cell_type": "code",
   "execution_count": 29,
   "metadata": {},
   "outputs": [],
   "source": [
    "class Student:\n",
    "    # class variables\n",
    "    school_name = 'ABC School'\n",
    "\n",
    "    # constructor\n",
    "    def __init__(self, name, age):\n",
    "        # instance variables\n",
    "        self.name = name\n",
    "        self.age = age\n",
    "\n",
    "    # instance variables\n",
    "    def show(self):\n",
    "        print(self.name, self.age, Student.school_name)\n",
    "\n",
    "    @classmethod\n",
    "    def change_School(cls, name):\n",
    "        cls.school_name = name\n",
    "\n",
    "    @staticmethod\n",
    "    def find_notes(subject_name):\n",
    "        return ['chapter 1', 'chapter 2', 'chapter 3']"
   ]
  },
  {
   "cell_type": "markdown",
   "metadata": {},
   "source": [
    "As you can see in the example, in the instance\n",
    "\n",
    "**Difference #3: Method Call**  \n",
    "- Class methods and static methods can be called using ClassName or by using a class object.\n",
    "- The Instance method can be called only using the object of the class.  \n",
    "\n",
    "**Example:**  "
   ]
  },
  {
   "cell_type": "code",
   "execution_count": 28,
   "metadata": {},
   "outputs": [
    {
     "ename": "TypeError",
     "evalue": "__init__() missing 1 required positional argument: 'age'",
     "output_type": "error",
     "traceback": [
      "\u001b[1;31m---------------------------------------------------------------------------\u001b[0m",
      "\u001b[1;31mTypeError\u001b[0m                                 Traceback (most recent call last)",
      "\u001b[1;32mC:\\Users\\DEEPAK~1.R\\AppData\\Local\\Temp/ipykernel_16940/3303529309.py\u001b[0m in \u001b[0;36m<module>\u001b[1;34m\u001b[0m\n\u001b[0;32m      1\u001b[0m \u001b[1;31m# create object\u001b[0m\u001b[1;33m\u001b[0m\u001b[1;33m\u001b[0m\u001b[1;33m\u001b[0m\u001b[0m\n\u001b[1;32m----> 2\u001b[1;33m \u001b[0mjessa\u001b[0m \u001b[1;33m=\u001b[0m \u001b[0mStudent\u001b[0m\u001b[1;33m(\u001b[0m\u001b[1;34m'Jessa'\u001b[0m\u001b[1;33m,\u001b[0m \u001b[1;36m12\u001b[0m\u001b[1;33m)\u001b[0m\u001b[1;33m\u001b[0m\u001b[1;33m\u001b[0m\u001b[0m\n\u001b[0m\u001b[0;32m      3\u001b[0m \u001b[1;31m# call instance method\u001b[0m\u001b[1;33m\u001b[0m\u001b[1;33m\u001b[0m\u001b[1;33m\u001b[0m\u001b[0m\n\u001b[0;32m      4\u001b[0m \u001b[0mjessa\u001b[0m\u001b[1;33m.\u001b[0m\u001b[0mshow\u001b[0m\u001b[1;33m(\u001b[0m\u001b[1;33m)\u001b[0m\u001b[1;33m\u001b[0m\u001b[1;33m\u001b[0m\u001b[0m\n\u001b[0;32m      5\u001b[0m \u001b[1;33m\u001b[0m\u001b[0m\n",
      "\u001b[1;31mTypeError\u001b[0m: __init__() missing 1 required positional argument: 'age'"
     ]
    }
   ],
   "source": [
    "# create object\n",
    "jessa = Student('Jessa', 12)\n",
    "# call instance method\n",
    "jessa.show()\n",
    "\n",
    "# call class method using the class\n",
    "Student.change_School('XYZ School')\n",
    "# call class method using the object\n",
    "jessa.change_School('PQR School')\n",
    "\n",
    "# call static method using the class\n",
    "Student.find_notes('Math')\n",
    "# call class method using the object\n",
    "jessa.find_notes('Math')"
   ]
  },
  {
   "cell_type": "markdown",
   "metadata": {},
   "source": [
    "**Difference #4: Attribute Access**  \n",
    "Both class and object have attributes. Class attributes include class variables, and object attributes include instance variables.\n",
    "- The instance method can access both class level and object attributes. Therefore, It can modify the object state.\n",
    "- Class methods can only access class level attributes. Therefore, It can modify the class state.\n",
    "- A static method doesn’t have access to the class attribute and instance attributes. Therefore, it **cannot** modify the class or object state.  \n",
    "  \n",
    "**Example:**"
   ]
  },
  {
   "cell_type": "code",
   "execution_count": 30,
   "metadata": {},
   "outputs": [
    {
     "name": "stdout",
     "output_type": "stream",
     "text": [
      "Student: Jessa 12\n",
      "School: ABC School\n",
      "Previous School name: ABC School\n",
      "School name changed to XYZ School\n"
     ]
    }
   ],
   "source": [
    "class Student:\n",
    "    # class variables\n",
    "    school_name = 'ABC School'\n",
    "\n",
    "    def __init__(self, name, age):\n",
    "        self.name = name\n",
    "        self.age = age\n",
    "\n",
    "    # instance method\n",
    "    def show(self):\n",
    "        # access instance variables\n",
    "        print('Student:', self.name, self.age)\n",
    "        # access class variables\n",
    "        print('School:', self.school_name)\n",
    "\n",
    "    @classmethod\n",
    "    def change_School(cls, name):\n",
    "        # access class variable\n",
    "        print('Previous School name:', cls.school_name)\n",
    "        cls.school_name = name\n",
    "        print('School name changed to', Student.school_name)\n",
    "\n",
    "    @staticmethod\n",
    "    def find_notes(subject_name):\n",
    "        # can't access instance or class attributes\n",
    "        return ['chapter 1', 'chapter 2', 'chapter 3']\n",
    "\n",
    "# create object\n",
    "jessa = Student('Jessa', 12)\n",
    "# call instance method\n",
    "jessa.show()\n",
    "\n",
    "# call class method\n",
    "Student.change_School('XYZ School')"
   ]
  },
  {
   "cell_type": "markdown",
   "metadata": {},
   "source": [
    "**Difference #5: Class Bound and Instance Bound**  \n",
    "- An instance method is bound to the object, so we can access them using the object of the class.\n",
    "- Class methods and static methods are bound to the class. So we should access them using the class name.  \n",
    "**Example:**"
   ]
  },
  {
   "cell_type": "code",
   "execution_count": 32,
   "metadata": {},
   "outputs": [
    {
     "name": "stdout",
     "output_type": "stream",
     "text": [
      "<bound method Student.show of <__main__.Student object at 0x000002797922A6A0>>\n",
      "<bound method Student.change_school of <class '__main__.Student'>>\n",
      "<function Student.find_notes at 0x0000027979F1F9D0>\n"
     ]
    }
   ],
   "source": [
    "class Student:\n",
    "    def __init__(self, roll_no): self.roll_no = roll_no\n",
    "\n",
    "    # instance method\n",
    "    def show(self):\n",
    "        print('In Instance method')\n",
    "\n",
    "    @classmethod\n",
    "    def change_school(cls, name):\n",
    "        print('In class method')\n",
    "\n",
    "    @staticmethod\n",
    "    def find_notes(subject_name):\n",
    "        print('In Static method')\n",
    "\n",
    "# create two objects\n",
    "jessa = Student(12)\n",
    "\n",
    "# instance method bound to object\n",
    "print(jessa.show)\n",
    "\n",
    "# class method bound to class\n",
    "print(jessa.change_school)\n",
    "\n",
    "# static method bound to class\n",
    "print(jessa.find_notes)\n",
    "# out put is as expected no change in code to be done.\n",
    "# <bound method Student.show of <__main__.Student object at 0x0000027979F1A610>>\n",
    "#<bound method Student.change_school of <class '__main__.Student'>>\n",
    "#<function Student.find_notes at 0x0000027979F1FA60>"
   ]
  },
  {
   "cell_type": "markdown",
   "metadata": {},
   "source": [
    "**Do you know:**  \n",
    "In Python, a separate copy of the instance methods will be created for every object.  \n",
    "  \n",
    "Suppose you create five Student objects, then Python has to create five copies of the show() method (separate for each object). So it will consume more memory. On the other hand, the static method has only one copy per class.  \n",
    "  \n",
    "**Example:**  "
   ]
  },
  {
   "cell_type": "code",
   "execution_count": 36,
   "metadata": {},
   "outputs": [
    {
     "name": "stdout",
     "output_type": "stream",
     "text": [
      "False\n",
      "True\n"
     ]
    }
   ],
   "source": [
    "# create two objects\n",
    "jessa = Student(12)\n",
    "kelly = Student(25)\n",
    "\n",
    "# False because two separate copies\n",
    "print(jessa.show is kelly.show)\n",
    "\n",
    "# True objects share same copies of static methods\n",
    "print(jessa.find_notes is kelly.find_notes)\n",
    "\n",
    "# output is not boolean need to fix code.\n",
    "\n",
    "# output should be as below\n",
    "# Jessa 20 ABC School\n",
    "#Jessa 20 XYZ School\n",
    "#<bound method Student.change_School of <class '__main__.Student'>>"
   ]
  },
  {
   "cell_type": "markdown",
   "metadata": {},
   "source": [
    "As you can see in the output, the `change_School()` method is bound to the class."
   ]
  },
  {
   "cell_type": "markdown",
   "metadata": {},
   "source": [
    "## **Object-Oriented Programming methodologies**  \n",
    "Object-Oriented Programming methodologies deal with the following concepts.  \n",
    "\n",
    "4. Inheritance  \n",
    "5. Polymorphism  \n",
    "6. Abstraction  \n",
    "7. Encapsulation"
   ]
  },
  {
   "cell_type": "markdown",
   "metadata": {},
   "source": [
    "## **4. Inheritance**  \n",
    "\n",
    "Ever heard of this dialogue from relatives “you look exactly like your father/mother” the reason behind this is called ‘inheritance’. From the Programming aspect, It generally means “inheriting or transfer of characteristics from parent to child class without any modification”. The new class is called the derived/child class and the one from which it is derived is called a parent/base class.  \n",
    "\n",
    "Types of Inheritence  \n",
    "4.1.Single Inheritence  \n",
    "4.2 Multilevel Inheritence  \n",
    "4.3 Hierarchical Inheritence  \n",
    "4.4 Multiple Inheritence  \n",
    "4.5 Hybrid Inheritance  \n",
    "\n",
    "<img src='Types_of_Inheritance.jpg' alt='Types_of_Inheritance'>"
   ]
  },
  {
   "cell_type": "markdown",
   "metadata": {},
   "source": [
    "### **4.1.Single Inheritence**  \n",
    "Single level inheritance enables a derived class to inherit characteristics from a single parent class.  \n",
    "\n",
    "In this program, we have a parent class named **Details** and child class named **Employee**, we are inheriting the class __Details__ on the class __Employee__. And, finally creating an object of Employee class and by calling the method __setEmployee()__ – we are assigning the values to the class variables and printing the values using __showEmployee()__ function."
   ]
  },
  {
   "cell_type": "code",
   "execution_count": 35,
   "metadata": {},
   "outputs": [
    {
     "name": "stdout",
     "output_type": "stream",
     "text": [
      "Id\t\t: 101\n",
      "Name\t\t: Prem Sharma\n",
      "Gender\t\t: Male\n",
      "Company\t\t: New Delhi\n",
      "Department\t: 110065\n"
     ]
    }
   ],
   "source": [
    "# Python code to demonstrate example of \n",
    "# single inheritance\n",
    "\n",
    "class Details:\n",
    "    def __init__(self):\n",
    "        self.__id=\"<No Id>\"\n",
    "        self.__name=\"<No Name>\"\n",
    "        self.__gender=\"<No Gender>\"\n",
    "    def setData(self,id,name,gender):\n",
    "        self.__id=id\n",
    "        self.__name=name\n",
    "        self.__gender=gender\n",
    "    def showData(self):\n",
    "        print(\"Id\\t\\t:\",self.__id)\n",
    "        print(\"Name\\t\\t:\", self.__name)\n",
    "        print(\"Gender\\t\\t:\", self.__gender)\n",
    "\n",
    "class Employee(Details): #Inheritance\n",
    "    def __init__(self):\n",
    "        self.__company=\"<No Company>\"\n",
    "        self.__dept=\"<No Dept>\"\n",
    "    def setEmployee(self,id,name,gender,comp,dept):\n",
    "        self.setData(id,name,gender)\n",
    "        self.__company=comp\n",
    "        self.__dept=dept\n",
    "    def showEmployee(self):\n",
    "        self.showData()\n",
    "        print(\"Company\\t\\t:\", self.__company)\n",
    "        print(\"Department\\t:\", self.__dept)\n",
    "\n",
    "\n",
    "def main():\n",
    "    e=Employee()\n",
    "    e.setEmployee(101,\"Prem Sharma\",\"Male\",\"New Delhi\",110065)\n",
    "    e.showEmployee()\n",
    "\n",
    "if __name__==\"__main__\":\n",
    "    main()\n"
   ]
  },
  {
   "cell_type": "markdown",
   "metadata": {},
   "source": [
    "### **Example two for Single Inheritance:**  \n",
    "When a class inherits the properties of another class, it is known as single inheritance.  \n",
    "\n",
    "The class that inherits the properties of another class is known as derived Class.\n",
    "\n",
    "The class whose properties are inherited is known as base Class.\n",
    "\n",
    "**Classes used in the program:**  \n",
    "\n",
    "- Class : Employee  \n",
    "    - Method : getEmployeeInfo() : Gets input of the employee information from the user.  \n",
    "    - Method : printEmployeeInfo() : prints the information of the employee.  \n",
    "    - Method : getSalary() : return the salary of the employee.  \n",
    "- Class Perks :  \n",
    "    - Method: getPerks() : calculates all perks of the employee.  \n",
    "    - Method : putPerks() : prints all perks and employee details of the employee.  \n",
    "\n",
    "\n",
    "**Program to illustrate single inheritance in Python**"
   ]
  },
  {
   "cell_type": "code",
   "execution_count": 37,
   "metadata": {},
   "outputs": [
    {
     "name": "stdout",
     "output_type": "stream",
     "text": [
      "Employee information \n",
      "ID :  100  , name :  deepak , Basic Salary :  25255\n",
      "Total Salary  38387.6\n"
     ]
    }
   ],
   "source": [
    "class Employee:\n",
    " def getEmployeeInfo(self):\n",
    "   self.__id=input(\"Enter Employee Id:\")\n",
    "   self.__name=input(\"Enter Name:\")\n",
    "   self.__salary=int(input(\"Enter Employee Salary:\"))\n",
    "\n",
    " def printEmployeeInfo(self):\n",
    "   print(\"ID : \", self.__id,\" , name : \", self.__name, \", Basic Salary : \", self.__salary)\n",
    "\n",
    " def getSalary(self):\n",
    "     return(self.__salary)\n",
    "\n",
    "class Perks(Employee):\n",
    "    def getPerks(self):\n",
    "        self.getEmployeeInfo()\n",
    "        sal=self.getSalary()\n",
    "        self.__da=sal*35/100\n",
    "        self.__hra = sal * 17 / 100\n",
    "    \n",
    "    def printPerks(self):\n",
    "        self.printEmployeeInfo()\n",
    "        print(\"Total Salary \", (self.getSalary() + self.__da + self.__hra ) )\n",
    "\n",
    "S=Perks()\n",
    "S.getPerks()\n",
    "\n",
    "print(\"Employee information \")\n",
    "S.printPerks()\n"
   ]
  },
  {
   "cell_type": "markdown",
   "metadata": {},
   "source": [
    "#### **Myself created Single Inheritence for better understanding**"
   ]
  },
  {
   "cell_type": "code",
   "execution_count": 36,
   "metadata": {},
   "outputs": [],
   "source": [
    "# Single inheritance \n",
    "class Parent_class: # Base class or Parent class\n",
    "    def __init__(self, Fname, Lname, age, salary):  \n",
    "        self.Fname = Fname\n",
    "        self.Lname = Lname\n",
    "        self.age = age\n",
    "        self.salary = salary\n",
    "    \n",
    "    def fullname(self):\n",
    "        FullName = self.Fname +' '+ self.Lname\n",
    "        return FullName\n",
    "    \n",
    "    def userID(self):\n",
    "        return f'\\n{self.Fname}.{self.Lname}@companyName.com\\n'\n",
    "\n",
    "    def designation(self):\n",
    "        if self.salary > 25000:\n",
    "            return 'Manager'\n",
    "        elif self.salary > 1000:\n",
    "            return 'Sr.Engineer'\n",
    "        else:\n",
    "            return 'Developer'\n",
    " \n",
    "class child_class(Parent_class): #This is a child class\n",
    "    def __init__(self, Fname, Lname, age, salary,id, dept):\n",
    "        self.Fname = Fname\n",
    "        self.Lname = Lname\n",
    "        self.age = age\n",
    "        self.salary = salary\n",
    "        self.id = id\n",
    "        self.dept = dept\n",
    "    \n",
    "    def department(self):\n",
    "        #print(self.dept)\n",
    "        return self.dept\n",
    "\n",
    "\n",
    "employeeOneObject = Parent_class('John', 'doe',22,1000) #calling parent class  \n",
    "employeeTwoObject = child_class('Jack','saw', 28, 23000, 'CID010210', 'Software')\n",
    "employeeThreeObject = child_class('Bruce','Banner', 31, 50000, 'CID010250', 'Hardware')\n",
    " \n",
    "# print(employeeOneObject.fullname())\n",
    "# print(employeeTwoObject.fullname())\n",
    "# print(employeeTwoObject.department())\n",
    "# print(employeeTwoObject.department())\n",
    "# print(employeeTwoObject.userID())\n",
    "# print(employeeThreeObject.fullname())\n",
    "# print(employeeThreeObject.department())\n",
    "# print(employeeThreeObject.designation())\n",
    "# print(employeeThreeObject.userID())\n",
    "#print(employeeTwoObject.id)"
   ]
  },
  {
   "cell_type": "markdown",
   "metadata": {},
   "source": [
    "### **4.2 Multilevel Inheritance**  \n",
    "**Problem Statement:** We will see a program to illustrate the working of multilevel inheritance in Python.\n",
    "\n",
    "**Problem Description:** The program will calculate the final salary of an employee from basic salary using multilevel inheritance.\n",
    "\n",
    "**Multilevel Inheritance in Python:**  \n",
    "\n",
    "Multilevel inheritance in programming (general in object-oriented program). When a base class is derived by a derived class which is derived by another class, then it is called multilevel inheritance.\n",
    "\n",
    "The below diagram will make things clearer,  \n",
    "<img src='Multilevel_inheritance.png' height=450px;>  \n",
    "\n",
    "**All Class used in the program and the methods:**  \n",
    "\n",
    "- **Class:** Employee\n",
    "    - Method: getEmployee() -> gets user input from id, name and salary.\n",
    "    - Method: printEmployeeDetails() -> prints employee detail\n",
    "    - Method: getSalary() -> return the salary of the employee.\n",
    "- **Class:** Perks\n",
    "    - Method: calcPerks() -> calculates all perks using the salaries.\n",
    "    - Method: putPerks() -> prints all perks.\n",
    "    - Method: totalPerks() -> return the sum of all perks.\n",
    "- **Class:** NetSalary:\n",
    "    - Method: getTotal() -> calculates net Salary using perks and base salary.\n",
    "    - Method: showTotal() -> prints total salary.  \n",
    "\n",
    "**Program to illustrate multilevel inheritance in Python**"
   ]
  },
  {
   "cell_type": "code",
   "execution_count": 4,
   "metadata": {},
   "outputs": [
    {
     "name": "stdout",
     "output_type": "stream",
     "text": [
      "101 Emplyeed anme 25000\n",
      "8750.0 4250.0 3000.0\n",
      "Total Salary: 35000.0\n"
     ]
    }
   ],
   "source": [
    "class Employee:\n",
    " def getEmployee(self):\n",
    "   self.__id = input(\"Enter Employee Id: \")\n",
    "   self.__name = input(\"Enter Name: \")\n",
    "   self.__salary = int(input(\"Enter Employees Basic Salary: \"))\n",
    " \n",
    " def printEmployeeDetails(self):\n",
    "   print(self.__id,self.__name,self.__salary)\n",
    " \n",
    " def getSalary(self):\n",
    "     return(self.__salary)\n",
    "\n",
    "class Perks(Employee):\n",
    "    def calcPerks(self):\n",
    "        self.getEmployee()\n",
    "        sal=self.getSalary()\n",
    "        self.__da=sal*35/100\n",
    "        self.__hra = sal * 17 / 100\n",
    "        self.__pf=sal*12/100\n",
    "    def putPerks(self):\n",
    "        self.printEmployeeDetails()\n",
    "        print(self.__da,self.__hra,self.__pf)\n",
    "    def totalPerks(self):\n",
    "        t=self.__da+self.__hra-self.__pf\n",
    "        return (t)\n",
    "        \n",
    "class NetSalary(Perks):\n",
    "    def getTotal(self):\n",
    "       self.calcPerks()\n",
    "       self.__ns=self.getSalary()+self.totalPerks()\n",
    "    def showTotal(self):\n",
    "        self.putPerks()\n",
    "        print(\"Total Salary:\",self.__ns)\n",
    "        \n",
    "empSalary = NetSalary()\n",
    "empSalary.getTotal()\n",
    "empSalary.showTotal()\n"
   ]
  },
  {
   "cell_type": "markdown",
   "metadata": {},
   "source": [
    "#### **Example - 2**  \n",
    "Multilevel inheritance in programming (general in object-oriented program). When a base class is derived by a derived class which is derived by another class, then it is called multilevel inheritance.  \n",
    "  \n",
    "The below diagram will make things clearer,  \n",
    "  \n",
    "**All Classes & methods used in the program:**  \n",
    "  \n",
    "- Class: Student\n",
    "    - Method: getStudentInfo() : gets student's roll number and name from user.\n",
    "    - Method: printStudentInfo() : prints student's roll number and name.\n",
    "- Class: Bsc\n",
    "    - Method: getBsc() : gets student's marks from user.\n",
    "    - Method: putPerks() : prints student's marks.\n",
    "    - Method: calcTotalMarks() : returns the sum of marks.\n",
    "- Class : Result\n",
    "    - Method: getResult() : gets student's information and calculate total marks.\n",
    "    - Method: printResult() : prints prints student information.  \n",
    "\n",
    "**Program to illustrate multilevel inheritance in Python**"
   ]
  },
  {
   "cell_type": "code",
   "execution_count": 1,
   "metadata": {},
   "outputs": [
    {
     "name": "stdout",
     "output_type": "stream",
     "text": [
      "Roll Number :  1212 Name :  Kinlg\n",
      "Marks in different Subjects :  25 12 22\n",
      "Total Marks out of 300 :  59\n"
     ]
    }
   ],
   "source": [
    "class Student:\n",
    "    def getStudentInfo(self):\n",
    "        self.__rollno=input(\"Enter Roll Number: \")\n",
    "        self.__name=input(\"Enter Name: \")\n",
    "\n",
    "    def printStudentInfo(self):\n",
    "        print(\"Roll Number : \", self.__rollno, \"Name : \", self.__name)\n",
    "\n",
    "class Bsc(Student):\n",
    "    def getBsc(self):\n",
    "        self.getStudentInfo()\n",
    "        self.__p = int(input(\"Enter Physics Marks: \"))\n",
    "        self.__c = int(input(\"Enter Chem Marks: \"))\n",
    "        self.__m = int(input(\"Enter Maths Marks: \"))\n",
    "\n",
    "    def printBsc(self):\n",
    "         self.printStudentInfo()\n",
    "         print(\"Marks in different Subjects : \", self.__p,self.__c,self.__m)\n",
    "\n",
    "    def calcTotalMarks (self):\n",
    "        return(self.__p+self.__m+self.__c)\n",
    "\n",
    "class Result(Bsc):\n",
    "    def getResult(self):\n",
    "        self.getBsc()\n",
    "        self.__total=self.calcTotalMarks()\n",
    "\n",
    "    def putResult(self):\n",
    "        self.printBsc()\n",
    "        print(\"Total Marks out of 300 : \", self.__total)\n",
    "\n",
    "student = Result()\n",
    "student.getResult()\n",
    "student.putResult()\n"
   ]
  },
  {
   "cell_type": "markdown",
   "metadata": {},
   "source": [
    "#### **Example - 3**  \n",
    "When we have a child class and grandchild class – it is called **multilevel inheritance** i.e. when a class inherits on second class and second class further inherits on another class.\n",
    "\n",
    "In this program, we have a parent class named **Details1** which is inheriting on class **Details2** and class **Details2** further inheriting on the class **Details3**.   \n",
    "\n",
    "**Python code to demonstrate example of multilevel inheritance**"
   ]
  },
  {
   "cell_type": "code",
   "execution_count": 2,
   "metadata": {},
   "outputs": [
    {
     "name": "stdout",
     "output_type": "stream",
     "text": [
      "Id:  12511\n",
      "Name:  cool\n",
      "Gender:  male\n",
      "Designation:  engineer\n",
      "Department:  software\n"
     ]
    }
   ],
   "source": [
    "# Python code to demonstrate example of \n",
    "# multilevel inheritance \n",
    "\n",
    "class Details1:\n",
    "    def __init__(self):\n",
    "        self.__id=0\n",
    "    def setId(self):\n",
    "        self.__id=int(input(\"Enter Id: \"))\n",
    "    def showId(self):\n",
    "        print(\"Id: \",self.__id)\n",
    "\n",
    "class Details2(Details1):\n",
    "    def __init__(self):\n",
    "        self.__name=\"\"\n",
    "    def setName(self):\n",
    "        self.setId()\n",
    "        self.__name=input(\"Enter Name: \")\n",
    "    def showName(self):\n",
    "        self.showId()\n",
    "        print(\"Name: \",self.__name)\n",
    "\n",
    "class Details3(Details2):\n",
    "    def __init__(self):\n",
    "        self.__gender=\"\"\n",
    "    def setGender(self):\n",
    "        self.setName()\n",
    "        self.__gender=input(\"Enter Gender: \")\n",
    "    def showGender(self):\n",
    "        self.showName()\n",
    "        print(\"Gender: \",self.__gender)\n",
    "\n",
    "\n",
    "class Employee(Details3):\n",
    "    def __init__(self):\n",
    "        self.__desig=\"\"\n",
    "        self.__dept=\"\"\n",
    "    def setEmployee(self):\n",
    "        self.setGender()\n",
    "        self.__desig=input(\"Enter Designation: \")\n",
    "        self.__dept= input(\"Enter Department: \")\n",
    "    def showEmployee(self):\n",
    "        self.showGender()\n",
    "        print(\"Designation: \",self.__desig)\n",
    "        print(\"Department: \",self.__dept)\n",
    "\n",
    "def main():\n",
    "    e = Employee()\n",
    "    e.setEmployee()\n",
    "    e.showEmployee()\n",
    "\n",
    "\n",
    "if __name__==\"__main__\":main()\n"
   ]
  },
  {
   "cell_type": "markdown",
   "metadata": {},
   "source": [
    "### **4.3 Hierarchical Inheritance**  \n",
    "\n",
    "**Program Statement:**\n",
    "\n",
    "We will create a class named student which is inherited by two classes Bsc and Ba. Then we have used the get method to get input of information from the user. And then print the details using the print method\n",
    "\n",
    "<img src='Hierarchical_Inheritance.png' width=450px; height=250px;>  \n",
    "\n",
    "**Classes and members:**  \n",
    "\n",
    "- **Class** - student\n",
    "    - Method - getStudentInfo() : Gets input from user for variables of the class.\n",
    "    - Method - putStudent() : prints student information.\n",
    "    - Variable - rollNo : stores student's roll number.\n",
    "    - Variable - name : stores student's name.\n",
    "- **Class** - Bsc\n",
    "    - Method - getBsc() : Gets input from user for variables of the class.\n",
    "    - Method - putBsc() : prints Bsc information and calls putStudent.\n",
    "    - Variable - p : stores student's physics marks.\n",
    "    - Variable - c : stores student's chemistry marks.\n",
    "    - Variable - m : stores student's maths marks.\n",
    "- **Class** Ba\n",
    "    - Method - getBa() : Gets input from user for variables of the class.\n",
    "    - Method - putBa() : prints Ba information and calls putStudent.\n",
    "    - Variable - h : stores student's history marks.\n",
    "    - Variable - g : stores student's geography marks.\n",
    "    - Variable - e : stores student's economics marks.  \n",
    "\n",
    "**Python program to illustrate Hierarchical Inheritance**  "
   ]
  },
  {
   "cell_type": "code",
   "execution_count": 5,
   "metadata": {},
   "outputs": [
    {
     "name": "stdout",
     "output_type": "stream",
     "text": [
      "Enter Bsc Student's details\n",
      "Roll Number :  201 Name :  alex\n",
      "Marks is Subjects  25 22 24\n",
      "Enter Ba Student's details\n",
      "Roll Number :  202 Name :  jack\n",
      "Marks is Subjects  18 12 5\n"
     ]
    }
   ],
   "source": [
    "class Student:\n",
    "    def getStudentInfo(self):\n",
    "        self.__rollno=input(\"Roll Number: \")\n",
    "        self.__name=input(\"Name: \")\n",
    "\n",
    "    def PutStudent(self):\n",
    "        print(\"Roll Number : \", self.__rollno,\"Name : \", self.__name)\n",
    "\n",
    "class Bsc(Student):\n",
    "    def GetBsc(self):\n",
    "        self.getStudentInfo()\n",
    "        self.__p=int(input(\"Physics Marks: \"))\n",
    "        self.__c = int(input(\"Chemistry Marks: \"))\n",
    "        self.__m = int(input(\"Maths Marks: \"))\n",
    "\n",
    "    def PutBsc(self):\n",
    "         self.PutStudent()\n",
    "         print(\"Marks is Subjects \", self.__p,self.__c,self.__m)\n",
    "\n",
    "class Ba(Student):\n",
    "    def GetBa(self):\n",
    "        self.getStudentInfo()\n",
    "        self.__h = int(input(\"History Marks: \"))\n",
    "        self.__g = int(input(\"Geography Marks: \"))\n",
    "        self.__e = int(input(\"Economic Marks: \"))\n",
    "\n",
    "    def PutBa(self):\n",
    "         self.PutStudent()\n",
    "         print(\"Marks is Subjects \", self.__h,self.__g,self.__e)\n",
    "\n",
    "print(\"Enter Bsc Student's details\")\n",
    "student1=Bsc()\n",
    "student1.GetBsc()\n",
    "student1.PutBsc()\n",
    "\n",
    "print(\"Enter Ba Student's details\")\n",
    "student2=Ba()\n",
    "student2.GetBa()\n",
    "student2.PutBa()\n"
   ]
  },
  {
   "cell_type": "markdown",
   "metadata": {},
   "source": [
    "#### **Example - 2**  \n",
    "**Problem Description:** We will create a class named Media which is inherited by two classes Magazine and Channel. Then we have used the get method to get input of information from the user. And then print the details using the print method.  \n",
    "\n",
    "**Program to illustrate Hierarchical Inheritance in Python**"
   ]
  },
  {
   "cell_type": "code",
   "execution_count": 6,
   "metadata": {},
   "outputs": [
    {
     "name": "stdout",
     "output_type": "stream",
     "text": [
      "Enter Magazine information.\n",
      "Magazine information : \n",
      "title one 250\n",
      "Pages: 452\n",
      "Enter Channel information.\n",
      "Channel information : \n",
      "Title two 500\n",
      "Frequency: 25\n"
     ]
    }
   ],
   "source": [
    "class Media:\n",
    "    def getMediaInfo(self):\n",
    "        self.__title=input(\"Enter Title:\")\n",
    "        self.__price=input(\"Enter Price:\")\n",
    "    def printMediaInfo(self):\n",
    "        print(self.__title,self.__price)\n",
    "class Magazine(Media):\n",
    "    def getMagazineInfo(self):\n",
    "        self.getMediaInfo()\n",
    "        self.__pages=input(\"Enter Pages:\")\n",
    "    def printMagazineInfo(self):\n",
    "        print(\"Magazine information : \")\n",
    "        self.printMediaInfo()\n",
    "        print(\"Pages:\",self.__pages)\n",
    "class Channel(Media):\n",
    "    def GetChannelInfo(self):\n",
    "        self.getMediaInfo()\n",
    "        self.__freq=input(\"Enter Frequency:\")\n",
    "    def printChannelInfo(self):\n",
    "        print(\"Channel information : \")\n",
    "        self.printMediaInfo()\n",
    "        print(\"Frequency:\",self.__freq)\n",
    "\n",
    "print(\"Enter Magazine information.\")\n",
    "magzineInfo = Magazine()\n",
    "magzineInfo.getMagazineInfo()\n",
    "magzineInfo.printMagazineInfo()\n",
    "\n",
    "print(\"Enter Channel information.\")\n",
    "channelInfo = Channel()\n",
    "channelInfo.GetChannelInfo()\n",
    "channelInfo.printChannelInfo()\n"
   ]
  },
  {
   "cell_type": "markdown",
   "metadata": {},
   "source": [
    "#### **Example - 3**  \n",
    "\n",
    "When more than one derived classes are created from a single base – it is called **hierarchical inheritance.**\n",
    "\n",
    "In this program, we have a parent (base) class name **Details** and two child (derived) classes named **Employee** and **Doctor**.\n",
    "\n",
    "__Python code to demonstrate example of hierarchical inheritance__"
   ]
  },
  {
   "cell_type": "code",
   "execution_count": 7,
   "metadata": {},
   "outputs": [
    {
     "name": "stdout",
     "output_type": "stream",
     "text": [
      "Employee Object\n",
      "Id:  1\n",
      "Name:  Prem Sharma\n",
      "Gender:  Male\n",
      "Company:  gmr\n",
      "Department:  excavation\n",
      "\n",
      "Doctor Object\n",
      "Id:  1\n",
      "Name:  pankaj\n",
      "Gender:  male\n",
      "Hospital:  aiims\n",
      "Department:  eyes\n"
     ]
    }
   ],
   "source": [
    "# Python code to demonstrate example of \n",
    "# hierarchical inheritance\n",
    "\n",
    "class Details:\n",
    "    def __init__(self):\n",
    "        self.__id=\"<No Id>\"\n",
    "        self.__name=\"<No Name>\"\n",
    "        self.__gender=\"<No Gender>\"\n",
    "    def setData(self,id,name,gender):\n",
    "        self.__id=id\n",
    "        self.__name=name\n",
    "        self.__gender=gender\n",
    "    def showData(self):\n",
    "        print(\"Id: \",self.__id)\n",
    "        print(\"Name: \", self.__name)\n",
    "        print(\"Gender: \", self.__gender)\n",
    "\n",
    "class Employee(Details): #Inheritance\n",
    "    def __init__(self):\n",
    "        self.__company=\"<No Company>\"\n",
    "        self.__dept=\"<No Dept>\"\n",
    "    def setEmployee(self,id,name,gender,comp,dept):\n",
    "        self.setData(id,name,gender)\n",
    "        self.__company=comp\n",
    "        self.__dept=dept\n",
    "    def showEmployee(self):\n",
    "        self.showData()\n",
    "        print(\"Company: \", self.__company)\n",
    "        print(\"Department: \", self.__dept)\n",
    "\n",
    "class Doctor(Details): #Inheritance\n",
    "    def __init__(self):\n",
    "        self.__hospital=\"<No Hospital>\"\n",
    "        self.__dept=\"<No Dept>\"\n",
    "    def setEmployee(self,id,name,gender,hos,dept):\n",
    "        self.setData(id,name,gender)\n",
    "        self.__hospital=hos\n",
    "        self.__dept=dept\n",
    "    def showEmployee(self):\n",
    "        self.showData()\n",
    "        print(\"Hospital: \", self.__hospital)\n",
    "        print(\"Department: \", self.__dept)\n",
    "\n",
    "def main():\n",
    "    print(\"Employee Object\")\n",
    "    e=Employee()\n",
    "    e.setEmployee(1,\"Prem Sharma\",\"Male\",\"gmr\",\"excavation\")\n",
    "    e.showEmployee()\n",
    "    print(\"\\nDoctor Object\")\n",
    "    d = Doctor()\n",
    "    d.setEmployee(1, \"pankaj\", \"male\", \"aiims\", \"eyes\")\n",
    "    d.showEmployee()\n",
    "\n",
    "if __name__==\"__main__\":\n",
    "    main()\n"
   ]
  },
  {
   "cell_type": "markdown",
   "metadata": {},
   "source": [
    "### **4.4 Multiple Inheritance**  \n",
    "\n",
    "**Problem Statement:** We will see a program to illustrate the working of multiple inheritance in Python using profit/ loss example.\n",
    "\n",
    "**Problem Description:** The program will calculate the net income based on the profits and losses to the person using multiple inheritance.\n",
    "\n",
    "**Multiple Inheritance in Python:**\n",
    "\n",
    "When a single class inherits properties from two different base classes, it is known as multiple inheritance.\n",
    "\n",
    "The below diagram will make things clearer,  \n",
    "<img src='Multiple_Inheritance.png' width=550px; height=350px;>  \n",
    "\n",
    "**All Class and Methods used in the program:**\n",
    "\n",
    "- Class : Profit\n",
    "    - Method : getProfit() -> get input of profit from user.\n",
    "    - Method : printProfit() -> prints profit on screen\n",
    "- Class : Loss\n",
    "    - Method : getLoss() -> get input of loss from user.\n",
    "    - Method : printLoss() -> prints loss on screen.\n",
    "- Class : Balance\n",
    "    - Method : getBalance() -> call the getProfit() and getLoss() methods.\n",
    "    - Method : printBalance() -> calls printProfit() and printLoss() methods and calculates balance from profit and loss.  \n",
    "\n",
    "**Program to illustrate the Multiple Inheritance in Python**"
   ]
  },
  {
   "cell_type": "code",
   "execution_count": 1,
   "metadata": {},
   "outputs": [
    {
     "name": "stdout",
     "output_type": "stream",
     "text": [
      "Profit: 2532\n",
      "Loss: 1112\n",
      "Balance: 1420\n"
     ]
    }
   ],
   "source": [
    "class Profit:\n",
    "    def getProfit(self):\n",
    "        self._profit=int(input(\"Enter Profit: \"))\n",
    "    def printProfit(self):\n",
    "        print(\"Profit:\",self._profit)\n",
    "\n",
    "class Loss:\n",
    "    def getLoss(self):\n",
    "        self._loss=int(input(\"Enter Loss: \"))\n",
    "    def printLoss(self):\n",
    "        print(\"Loss:\",self._loss)\n",
    "        \n",
    "class Balance(Profit,Loss):\n",
    "    def getBalance(self):\n",
    "        self.getProfit()\n",
    "        self.getLoss()\n",
    "        self.__balance=self._profit-self._loss\n",
    "    def printBalance(self):\n",
    "        self.printProfit()\n",
    "        self.printLoss()\n",
    "        print(\"Balance:\",self.__balance)\n",
    "        \n",
    "user1 = Balance()\n",
    "user1.getBalance()\n",
    "user1.printBalance()\n"
   ]
  },
  {
   "cell_type": "markdown",
   "metadata": {},
   "source": [
    "#### **Example - 2**  \n",
    "When we have one child class and more than one parent classes then it is called __multiple inheritance__ i.e. when a child class inherits from more than one parent class.\n",
    "\n",
    "In this program, we have two parent classes `Personel` and `Educational` and one child class named Student and implementing __multiple inheritance__.\n",
    "\n",
    "Python code to demonstrate example of __multiple inheritance__"
   ]
  },
  {
   "cell_type": "code",
   "execution_count": 2,
   "metadata": {},
   "outputs": [
    {
     "name": "stdout",
     "output_type": "stream",
     "text": [
      "Id:  1231\n",
      "Name:  Deepak\n",
      "Gender:  Male\n",
      "Address:  #9, old tank road, India.\n",
      "Contact:  \n",
      "Stream:  \n",
      "Year:  \n"
     ]
    }
   ],
   "source": [
    "# Python code to demonstrate example of \n",
    "# multiple inheritance \n",
    "\n",
    "class Personel:\n",
    "    def __init__(self):\n",
    "        self.__id=0\n",
    "        self.__name=\"\"\n",
    "        self.__gender=\"\"\n",
    "    def setPersonel(self):\n",
    "        self.__id=int(input(\"Enter Id: \"))\n",
    "        self.__name = input(\"Enter Name: \")\n",
    "        self.__gender = input(\"Enter Gender: \")\n",
    "    def showPersonel(self):\n",
    "        print(\"Id: \",self.__id)\n",
    "        print(\"Name: \",self.__name)\n",
    "        print(\"Gender: \",self.__gender)\n",
    "\n",
    "class Educational:\n",
    "    def __init__(self):\n",
    "        self.__stream=\"\"\n",
    "        self.__year=\"\"\n",
    "    def setEducational(self):\n",
    "        self.__stream=input(\"Enter Stream: \")\n",
    "        self.__year = input(\"Enter Year: \")\n",
    "    def showEducational(self):\n",
    "        print(\"Stream: \",self.__stream)\n",
    "        print(\"Year: \",self.__year)\n",
    "\n",
    "class Student(Personel,Educational):\n",
    "    def __init__(self):\n",
    "        self.__address = \"\"\n",
    "        self.__contact = \"\"\n",
    "    def setStudent(self):\n",
    "        self.setPersonel()\n",
    "        self.__address = input(\"Enter Address: \")\n",
    "        self.__contact = input(\"Enter Contact: \")\n",
    "        self.setEducational()\n",
    "\n",
    "    def showStudent(self):\n",
    "        self.showPersonel()\n",
    "        print(\"Address: \",self.__address)\n",
    "        print(\"Contact: \",self.__contact)\n",
    "        self.showEducational()\n",
    "\n",
    "def main():\n",
    "    s=Student()\n",
    "    s.setStudent()\n",
    "    s.showStudent()\n",
    "if __name__==\"__main__\":main()\n"
   ]
  },
  {
   "cell_type": "markdown",
   "metadata": {},
   "source": [
    "## **4.5 Hybrid Inheritance**  \n",
    "Hybrid inheritance satisfies more than one form of inheritance ie. It may be consists of all types of inheritance that we have done above. It is not wrong if we say __Hybrid Inheritance__ is the combinations of simple, multiple, multilevel and hierarchical inheritance. This type of inheritance is very helpful if we want to use concepts of inheritance without any limitations according to our requirements.\n",
    "\n",
    "**Flow Diagram of Hybrid Inheritance in Python Programming**  \n",
    "<img src='hybrid_inheritance.jpg'>"
   ]
  },
  {
   "cell_type": "markdown",
   "metadata": {},
   "source": [
    "**Syntax of Hybrid Inheritance:**  \n",
    "\n",
    "\n",
    "Note: There is no sequence in Hybrid inheritance that which class will inherit which particular class. You can use it according to your requirements.  \n",
    "\n",
    "#### **Example - 1**"
   ]
  },
  {
   "cell_type": "code",
   "execution_count": 4,
   "metadata": {},
   "outputs": [
    {
     "name": "stdout",
     "output_type": "stream",
     "text": [
      "This is Student class inheriting from Mouse and Laptop class\n",
      "This is Mouse class inheriting Laptop class\n"
     ]
    }
   ],
   "source": [
    "#Example for Hybrid Inheritance.\n",
    "class PC:\n",
    "    def fun1(self):\n",
    "        print(\"This is PC class\")\n",
    "\n",
    "class Laptop(PC):\n",
    "    def fun2(self):\n",
    "        print(\"This is Laptop class inheriting PC class\")\n",
    "\n",
    "class Mouse(Laptop):\n",
    "    def fun3(self):\n",
    "        print(\"This is Mouse class inheriting Laptop class\")\n",
    "\n",
    "class Student(Mouse, Laptop):\n",
    "    def fun4(self):\n",
    "        print(\"This is Student class inheriting from Mouse and Laptop class\")\n",
    "\n",
    "#Driver's code\n",
    "obj = Student()\n",
    "obj1 = Mouse()\n",
    "obj.fun4()\n",
    "obj.fun3()"
   ]
  },
  {
   "cell_type": "markdown",
   "metadata": {},
   "source": [
    "## **5. Polymorphism**  \n",
    "`Object-Oriented Programming (OOP)` has four essential characteristics: abstraction, encapsulation, inheritance, and polymorphism.  \n",
    "  \n",
    "This lesson will cover what polymorphism is and how to implement them in Python. Also, you’ll learn how to implement polymorphism using function overloading, method overriding, and operator overloading.  \n",
    "  \n",
    "**Table of contents**  \n",
    "- What is Polymorphism in Python?\n",
    "    - Polymorphism in Built-in function len()\n",
    "- Polymorphism With Inheritance\n",
    "    - Example: Method Overriding\n",
    "    - Overrride Built-in Functions\n",
    "- Polymorphism In Class methods\n",
    "    - Polymorphism with Function and Objects\n",
    "- Polymorphism In Built-in Methods\n",
    "- Method Overloading\n",
    "- Operator Overloading in Python\n",
    "    - Overloading + operator for custom objects\n",
    "    - Overloading the * Operator\n",
    "    - Magic Methods  \n",
    "  \n",
    "\n",
    "**What is Polymorphism in Python?**  \n",
    "Polymorphism in Python is the ability of an object to take many forms. In simple words, polymorphism allows us to perform the same action in many different ways.  \n",
    "\n",
    "For example, Jessa acts as an employee when she is at the office. However, when she is at home, she acts like a wife. Also, she represents herself differently in different places. Therefore, the same person takes different forms as per the situation.  \n",
    "\n",
    "<img src='polymorphism_person_takes_differet_forms.jpg'>  \n",
    "\n",
    "In polymorphism, a method can **process objects differently depending on the class type or data type**. Let’s see simple examples to understand it better.  \n",
    "\n",
    "**Polymorphism in Built-in function: `len()`**  \n",
    "The built-in function `len()` calculates the length of an object depending upon its type. If an object is a string, it returns the count of characters, and If an object is a list, it returns the count of items in a list.\n",
    "\n",
    "The len() method treats an object as per its class type.\n",
    "\n",
    "**Example:**  "
   ]
  },
  {
   "cell_type": "code",
   "execution_count": 5,
   "metadata": {},
   "outputs": [
    {
     "name": "stdout",
     "output_type": "stream",
     "text": [
      "3\n",
      "10\n"
     ]
    }
   ],
   "source": [
    "students = ['Emma', 'Jessa', 'Kelly']\n",
    "school = 'ABC School'\n",
    "\n",
    "# calculate count\n",
    "print(len(students))\n",
    "print(len(school))"
   ]
  },
  {
   "cell_type": "markdown",
   "metadata": {},
   "source": [
    "<img src='Polymorphism_len_function.png'>"
   ]
  },
  {
   "cell_type": "markdown",
   "metadata": {},
   "source": [
    "**Polymorphism With Inheritance**  \n",
    "Polymorphism is mainly used with `inheritance`. In inheritance, child class inherits the attributes and methods of a parent class. The existing class is called a base class or parent class, and the new class is called a subclass or child class or derived class.\n",
    "\n",
    "Using **method overriding polymorphism** allows us to defines methods in the child class that have the same name as the methods in the parent class. This **process of re-implementing the inherited method in the child class** is known as Method Overriding.\n",
    "\n",
    "**Advantage of method overriding**  \n",
    "- It is effective when we want to extend the functionality by altering the inherited method. Or the method inherited from the parent class doesn’t fulfill the need of a child class, so we need to re-implement the same method in the child class in a different way.\n",
    "- Method overriding is useful when a parent class has multiple child classes, and one of that child class wants to redefine the method. The other child classes can use the parent class method. Due to this, we don’t need to modification the parent class code  \n",
    "\n",
    "\n",
    "In polymorphism, **Python first checks the object’s class type and executes the appropriate method** when we call the method. For example, If you create the Car object, then Python calls the `speed()` method from a Car class.\n",
    "\n",
    "Let’s see how it works with the help of an example.\n",
    "\n",
    "**Example: Method Overriding**  \n",
    "In this example, we have a vehicle class as a parent and a ‘Car’ and ‘Truck’ as its sub-class. But each vehicle can have a different seating capacity, speed, etc., so we can have the same instance method name in each class but with a different implementation. Using this code can be extended and easily maintained over time.\n",
    "\n",
    "<img src='Polymorphism_Method_Overriding.jpg'>"
   ]
  },
  {
   "cell_type": "code",
   "execution_count": 6,
   "metadata": {},
   "outputs": [
    {
     "name": "stdout",
     "output_type": "stream",
     "text": [
      "Details: Car x1 Red 20000\n",
      "Car max speed is 240\n",
      "Car change 7 gear\n",
      "Details: Truck x1 white 75000\n",
      "Vehicle max speed is 150\n",
      "Vehicle change 6 gear\n"
     ]
    }
   ],
   "source": [
    "class Vehicle:\n",
    "\n",
    "    def __init__(self, name, color, price):\n",
    "        self.name = name\n",
    "        self.color = color\n",
    "        self.price = price\n",
    "\n",
    "    def show(self):\n",
    "        print('Details:', self.name, self.color, self.price)\n",
    "\n",
    "    def max_speed(self):\n",
    "        print('Vehicle max speed is 150')\n",
    "\n",
    "    def change_gear(self):\n",
    "        print('Vehicle change 6 gear')\n",
    "\n",
    "\n",
    "# inherit from vehicle class\n",
    "class Car(Vehicle):\n",
    "    def max_speed(self):\n",
    "        print('Car max speed is 240')\n",
    "\n",
    "    def change_gear(self):\n",
    "        print('Car change 7 gear')\n",
    "\n",
    "\n",
    "# Car Object\n",
    "car = Car('Car x1', 'Red', 20000)\n",
    "car.show()\n",
    "# calls methods from Car class\n",
    "car.max_speed()\n",
    "car.change_gear()\n",
    "\n",
    "# Vehicle Object\n",
    "vehicle = Vehicle('Truck x1', 'white', 75000)\n",
    "vehicle.show()\n",
    "# calls method from a Vehicle class\n",
    "vehicle.max_speed()\n",
    "vehicle.change_gear()"
   ]
  },
  {
   "cell_type": "markdown",
   "metadata": {},
   "source": [
    "As you can see, due to polymorphism, the Python interpreter recognizes that the `max_speed()` and `change_gear()` methods are overridden for the car object. So, it uses the one defined in the child class (Car)\n",
    "\n",
    "On the other hand, the `show()` method isn’t overridden in the Car class, so it is used from the Vehicle class.\n",
    "\n",
    "**Overrride Built-in Functions**  \n",
    "In Python, we can change the default behavior of the built-in functions. For example, we can change or extend the built-in functions such as len(), abs(), or divmod() by redefining them in our class. Let’s see the example.\n",
    "\n",
    "**Example**\n",
    "\n",
    "In this example, we will redefine the function `len()`"
   ]
  },
  {
   "cell_type": "code",
   "execution_count": 7,
   "metadata": {},
   "outputs": [
    {
     "name": "stdout",
     "output_type": "stream",
     "text": [
      "Redefine length\n",
      "4\n"
     ]
    }
   ],
   "source": [
    "class Shopping:\n",
    "    def __init__(self, basket, buyer):\n",
    "        self.basket = list(basket)\n",
    "        self.buyer = buyer\n",
    "\n",
    "    def __len__(self):\n",
    "        print('Redefine length')\n",
    "        count = len(self.basket)\n",
    "        # count total items in a different way\n",
    "        # pair of shoes and shir+pant\n",
    "        return count * 2\n",
    "\n",
    "shopping = Shopping(['Shoes', 'dress'], 'Jessa')\n",
    "print(len(shopping))"
   ]
  },
  {
   "cell_type": "markdown",
   "metadata": {},
   "source": [
    "**Polymorphism In Class methods**  \n",
    "Polymorphism with class methods is useful when we group different objects having the same method. we can add them to a list or a tuple, and we don’t need to check the object type before calling their methods. Instead, Python will check object type at runtime and call the correct method. Thus, we can call the methods without being concerned about which class type each object is. We assume that these methods exist in each class.  \n",
    "  \n",
    "**Python allows different classes to have methods with the same name.**  \n",
    "  \n",
    "- Let’s design a different class in the same way by adding the same methods in two or more classes.\n",
    "- Next, create an object of each class\n",
    "- Next, add all objects in a tuple.\n",
    "- In the end, iterate the tuple using a for loop and call methods of a object without checking its class.  \n",
    "\n",
    "**Example**  \n",
    "In the below example, `fuel_type()` and `max_speed()` are the instance methods created in both classes."
   ]
  },
  {
   "cell_type": "code",
   "execution_count": 8,
   "metadata": {},
   "outputs": [
    {
     "name": "stdout",
     "output_type": "stream",
     "text": [
      "Petrol\n",
      "Max speed 350\n",
      "Diesel\n",
      "Max speed is 240\n"
     ]
    }
   ],
   "source": [
    "class Ferrari:\n",
    "    def fuel_type(self):\n",
    "        print(\"Petrol\")\n",
    "\n",
    "    def max_speed(self):\n",
    "        print(\"Max speed 350\")\n",
    "\n",
    "class BMW:\n",
    "    def fuel_type(self):\n",
    "        print(\"Diesel\")\n",
    "\n",
    "    def max_speed(self):\n",
    "        print(\"Max speed is 240\")\n",
    "\n",
    "ferrari = Ferrari()\n",
    "bmw = BMW()\n",
    "\n",
    "# iterate objects of same type\n",
    "for car in (ferrari, bmw):\n",
    "    # call methods without checking class of object\n",
    "    car.fuel_type()\n",
    "    car.max_speed()"
   ]
  },
  {
   "cell_type": "markdown",
   "metadata": {},
   "source": [
    "As you can see, we have created two classes Ferrari and BMW. They have the same instance method names `fuel_type()` and `max_speed()`. However, we have not linked both the classes nor have we used inheritance.\n",
    "\n",
    "We packed two different objects into a __tuple__ and iterate through it using a car variable. It is possible due to polymorphism because we have added the same method in both classes Python first checks the object’s class type and executes the method present in its class.  \n",
    "  \n",
    "**Polymorphism with Function and Objects**  \n",
    "We can create polymorphism with a function that can take any object as a parameter and execute its method without checking its class type. Using this, we can call object actions using the same function instead of repeating method calls.  \n",
    "  \n",
    "**Example**"
   ]
  },
  {
   "cell_type": "code",
   "execution_count": 9,
   "metadata": {},
   "outputs": [
    {
     "name": "stdout",
     "output_type": "stream",
     "text": [
      "Petrol\n",
      "Max speed 350\n",
      "Diesel\n",
      "Max speed is 240\n"
     ]
    }
   ],
   "source": [
    "class Ferrari:\n",
    "    def fuel_type(self):\n",
    "        print(\"Petrol\")\n",
    "\n",
    "    def max_speed(self):\n",
    "        print(\"Max speed 350\")\n",
    "\n",
    "class BMW:\n",
    "    def fuel_type(self):\n",
    "        print(\"Diesel\")\n",
    "\n",
    "    def max_speed(self):\n",
    "        print(\"Max speed is 240\")\n",
    "\n",
    "# normal function\n",
    "def car_details(obj):\n",
    "    obj.fuel_type()\n",
    "    obj.max_speed()\n",
    "\n",
    "ferrari = Ferrari()\n",
    "bmw = BMW()\n",
    "\n",
    "car_details(ferrari)\n",
    "car_details(bmw)"
   ]
  },
  {
   "cell_type": "markdown",
   "metadata": {},
   "source": [
    "### **Polymorphism In Built-in Methods**  \n",
    "The word polymorphism is taken from the Greek words poly (many) and morphism (forms). It means a **method can process objects differently depending on the class type or data type.**  \n",
    "  \n",
    "The built-in function `reversed(obj)` returns the iterable by reversing the given object. For example, if you pass a string to it, it will reverse it. But if you pass a list of strings to it, it will return the iterable by reversing the order of elements (it will not reverse the individual string).  \n",
    "  \n",
    "Let us see how a built-in method process objects having different data types.  \n",
    "  \n",
    "**Example:**  "
   ]
  },
  {
   "cell_type": "code",
   "execution_count": 10,
   "metadata": {},
   "outputs": [
    {
     "name": "stdout",
     "output_type": "stream",
     "text": [
      "Reverse string\n",
      "e v i t a n Y P \n",
      "Reverse list\n",
      "Kelly Jessa Emma "
     ]
    }
   ],
   "source": [
    "students = ['Emma', 'Jessa', 'Kelly']\n",
    "school = 'ABC School'\n",
    "\n",
    "print('Reverse string')\n",
    "for i in reversed('PYnative'):\n",
    "    print(i, end=' ')\n",
    "\n",
    "print('\\nReverse list')\n",
    "for i in reversed(['Emma', 'Jessa', 'Kelly']):\n",
    "    print(i, end=' ')"
   ]
  },
  {
   "cell_type": "markdown",
   "metadata": {},
   "source": [
    "### **Method Overloading**  \n",
    "The process of calling the same method with different parameters is known as method overloading. Python does not support method overloading. Python considers only the latest defined method even if you overload the method. Python will raise a TypeError if you overload the method.  \n",
    "\n",
    "**Example**  "
   ]
  },
  {
   "cell_type": "code",
   "execution_count": 11,
   "metadata": {},
   "outputs": [
    {
     "name": "stdout",
     "output_type": "stream",
     "text": [
      "15\n"
     ]
    }
   ],
   "source": [
    "def addition(a, b):\n",
    "    c = a + b\n",
    "    print(c)\n",
    "\n",
    "\n",
    "def addition(a, b, c):\n",
    "    d = a + b + c\n",
    "    print(d)\n",
    "\n",
    "\n",
    "# the below line shows an error\n",
    "# addition(4, 5)\n",
    "\n",
    "# This line will call the second product method\n",
    "addition(3, 7, 5)"
   ]
  },
  {
   "cell_type": "markdown",
   "metadata": {},
   "source": [
    "To overcome the above problem, we can use different ways to achieve the method overloading. In Python, to overload the class method, we need to write the method’s logic so that different code executes inside the function depending on the parameter passes.  \n",
    "  \n",
    "For example, the built-in function `range()` takes three parameters and produce different result depending upon the number of parameters passed to it.  \n",
    "  \n",
    "**Example:**  "
   ]
  },
  {
   "cell_type": "code",
   "execution_count": 12,
   "metadata": {},
   "outputs": [
    {
     "name": "stdout",
     "output_type": "stream",
     "text": [
      "0, 1, 2, 3, 4, \n",
      "5, 6, 7, 8, 9, \n",
      "2, 4, 6, 8, 10, "
     ]
    }
   ],
   "source": [
    "for i in range(5): print(i, end=', ')\n",
    "print()\n",
    "for i in range(5, 10): print(i, end=', ')\n",
    "print()\n",
    "for i in range(2, 12, 2): print(i, end=', ')"
   ]
  },
  {
   "cell_type": "markdown",
   "metadata": {},
   "source": [
    "Let’s assume we have an `area()` method to calculate the area of a square and rectangle. The method will calculate the area depending upon the number of parameters passed to it.  \n",
    "  \n",
    "- If one parameter is passed, then the area of a square is calculated\n",
    "- If two parameters are passed, then the area of a rectangle is calculated.  \n",
    "\n",
    "**Example:** User-defined polymorphic method.  "
   ]
  },
  {
   "cell_type": "code",
   "execution_count": 13,
   "metadata": {},
   "outputs": [
    {
     "name": "stdout",
     "output_type": "stream",
     "text": [
      "Area of Square is: 25\n",
      "Area of Rectangle is: 15\n"
     ]
    }
   ],
   "source": [
    "class Shape:\n",
    "    # function with two default parameters\n",
    "    def area(self, a, b=0):\n",
    "        if b > 0:\n",
    "            print('Area of Rectangle is:', a * b)\n",
    "        else:\n",
    "            print('Area of Square is:', a ** 2)\n",
    "\n",
    "square = Shape()\n",
    "square.area(5)\n",
    "\n",
    "rectangle = Shape()\n",
    "rectangle.area(5, 3)"
   ]
  },
  {
   "cell_type": "markdown",
   "metadata": {},
   "source": [
    "### **Operator Overloading in Python**  \n",
    "Operator overloading means changing the default behavior of an `operator` depending on the operands (values) that we use. In other words, we can use the same operator for multiple purposes.  \n",
    "  \n",
    "For example, the + operator will perform an arithmetic addition operation when used with numbers. Likewise, it will perform concatenation when used with strings.  \n",
    "  \n",
    "The operator **+** is used to carry out different operations for distinct data types. This is one of the most simple occurrences of polymorphism in Python.  \n",
    "  \n",
    "**Example:**  "
   ]
  },
  {
   "cell_type": "code",
   "execution_count": 14,
   "metadata": {},
   "outputs": [
    {
     "name": "stdout",
     "output_type": "stream",
     "text": [
      "300\n",
      "JessRoy\n",
      "[10, 20, 30, 'jessa', 'emma', 'kelly']\n"
     ]
    }
   ],
   "source": [
    "# add 2 numbers\n",
    "print(100 + 200)\n",
    "\n",
    "# concatenate two strings\n",
    "print('Jess' + 'Roy')\n",
    "\n",
    "# merger two list\n",
    "print([10, 20, 30] + ['jessa', 'emma', 'kelly'])"
   ]
  },
  {
   "cell_type": "markdown",
   "metadata": {},
   "source": [
    "### **Overloading + operator for custom objects**  \n",
    "Suppose we have two objects, and we want to add these two objects with a binary **+** operator. However, it will throw an error if we perform addition because the compiler doesn’t add two objects. See the following example for more details.\n",
    "\n",
    "**Example:**  "
   ]
  },
  {
   "cell_type": "code",
   "execution_count": 16,
   "metadata": {},
   "outputs": [
    {
     "ename": "TypeError",
     "evalue": "unsupported operand type(s) for +: 'Book' and 'Book'",
     "output_type": "error",
     "traceback": [
      "\u001b[1;31m---------------------------------------------------------------------------\u001b[0m",
      "\u001b[1;31mTypeError\u001b[0m                                 Traceback (most recent call last)",
      "\u001b[1;32mC:\\Users\\DEEPAK~1.R\\AppData\\Local\\Temp/ipykernel_16940/50216799.py\u001b[0m in \u001b[0;36m<module>\u001b[1;34m\u001b[0m\n\u001b[0;32m      8\u001b[0m \u001b[1;33m\u001b[0m\u001b[0m\n\u001b[0;32m      9\u001b[0m \u001b[1;31m# add two objects\u001b[0m\u001b[1;33m\u001b[0m\u001b[1;33m\u001b[0m\u001b[1;33m\u001b[0m\u001b[0m\n\u001b[1;32m---> 10\u001b[1;33m \u001b[0mprint\u001b[0m\u001b[1;33m(\u001b[0m\u001b[0mb1\u001b[0m \u001b[1;33m+\u001b[0m \u001b[0mb2\u001b[0m\u001b[1;33m)\u001b[0m\u001b[1;33m\u001b[0m\u001b[1;33m\u001b[0m\u001b[0m\n\u001b[0m\u001b[0;32m     11\u001b[0m \u001b[1;31m# TypeError:  unsupported operand type(s) for +: 'Book' and 'Book'\u001b[0m\u001b[1;33m\u001b[0m\u001b[1;33m\u001b[0m\u001b[1;33m\u001b[0m\u001b[0m\n\u001b[0;32m     12\u001b[0m \u001b[1;31m# is expected one not to change any code.\u001b[0m\u001b[1;33m\u001b[0m\u001b[1;33m\u001b[0m\u001b[1;33m\u001b[0m\u001b[0m\n",
      "\u001b[1;31mTypeError\u001b[0m: unsupported operand type(s) for +: 'Book' and 'Book'"
     ]
    }
   ],
   "source": [
    "class Book:\n",
    "    def __init__(self, pages):\n",
    "        self.pages = pages\n",
    "\n",
    "# creating two objects\n",
    "b1 = Book(400)\n",
    "b2 = Book(300)\n",
    "\n",
    "# add two objects\n",
    "print(b1 + b2)\n",
    "# TypeError:  unsupported operand type(s) for +: 'Book' and 'Book'\n",
    "# is expected one not to change any code."
   ]
  },
  {
   "cell_type": "markdown",
   "metadata": {},
   "source": [
    "We can overload `+` operator to work with custom objects also. Python provides some special or magic function that is automatically invoked when associated with that particular operator.  \n",
    "  \n",
    "For example, when we use the `+` operator, the magic method `__add__()` is automatically invoked. Internally + operator is implemented by using `__add__()` method. We have to override this method in our class if you want to add two custom objects.\n",
    "\n",
    "__Example:__  "
   ]
  },
  {
   "cell_type": "code",
   "execution_count": 17,
   "metadata": {},
   "outputs": [
    {
     "name": "stdout",
     "output_type": "stream",
     "text": [
      "Total number of pages:  700\n"
     ]
    }
   ],
   "source": [
    "class Book:\n",
    "    def __init__(self, pages):\n",
    "        self.pages = pages\n",
    "\n",
    "    # Overloading + operator with magic method\n",
    "    def __add__(self, other):\n",
    "        return self.pages + other.pages\n",
    "\n",
    "b1 = Book(400)\n",
    "b2 = Book(300)\n",
    "print(\"Total number of pages: \", b1 + b2)"
   ]
  },
  {
   "cell_type": "markdown",
   "metadata": {},
   "source": [
    "### **Overloading the * Operator**  \n",
    "The `*` operator is used to perform the multiplication. Let’s see how to overload it to calculate the salary of an employee for a specific period. Internally __*__ operator is implemented by using the `__mul__()` method.\n",
    "\n",
    "**Example:**"
   ]
  },
  {
   "cell_type": "code",
   "execution_count": 18,
   "metadata": {},
   "outputs": [
    {
     "name": "stdout",
     "output_type": "stream",
     "text": [
      "Worked for 50 days\n",
      "salary is:  40000\n"
     ]
    }
   ],
   "source": [
    "class Employee:\n",
    "    def __init__(self, name, salary):\n",
    "        self.name = name\n",
    "        self.salary = salary\n",
    "\n",
    "    def __mul__(self, timesheet):\n",
    "        print('Worked for', timesheet.days, 'days')\n",
    "        # calculate salary\n",
    "        return self.salary * timesheet.days\n",
    "\n",
    "\n",
    "class TimeSheet:\n",
    "    def __init__(self, name, days):\n",
    "        self.name = name\n",
    "        self.days = days\n",
    "\n",
    "\n",
    "emp = Employee(\"Jessa\", 800)\n",
    "timesheet = TimeSheet(\"Jessa\", 50)\n",
    "print(\"salary is: \", emp * timesheet)"
   ]
  },
  {
   "cell_type": "markdown",
   "metadata": {},
   "source": [
    "### **Magic Methods**  \n",
    "In Python, there are different magic methods available to perform overloading operations. The below table shows the magic methods names to overload the mathematical operator, assignment operator, and relational operators in Python.  \n",
    "\n",
    "|Operator Name|\tSymbol|\tMagic method|  \n",
    "|---|---|---|\n",
    "|Addition|\t+|\t__add __(self, other)|\n",
    "|Subtraction|\t-|\t__sub __(self, other)|\n",
    "|Multiplication|\t*|\t__mul __(self, other)|\n",
    "|Division|\t/|\t__div __(self, other)|\n",
    "|Floor Division|\t//|\t__floordiv __(self,other)|\n",
    "|Modulus|\t%|\t__mod __(self, other)|\n",
    "|Power|\t**|\t__pow __(self, other)|\n",
    "|Increment|\t+=|\t__iadd __(self, other)|\n",
    "|Decrement|\t-=|\t__isub __(self, other)|\n",
    "|Product|\t*=|\t__imul __(self, other)|\n",
    "|Division|\t/+|\t__idiv __(self, other)|\n",
    "|Modulus|\t%=|\t__imod __(self, other)|\n",
    "|Power|\t**=|\t__ipow __(self, other)|\n",
    "|Less than|\t<|\t__lt __(self, other)|\n",
    "|Greater than|\t>|\t__gt __(self, other)|\n",
    "|Less than or equal to|\t<=|\t__le __(self, other)|\n",
    "|Greater than or equal to|\t>=|\t__ge __(self, other)|\n",
    "|Equal to|\t==|\t__eq __(self, other)|\n",
    "|Not equal|\t!=\t|__ne __(self, other)|"
   ]
  },
  {
   "cell_type": "markdown",
   "metadata": {},
   "source": [
    "## **6. Data Abstraction**  \n",
    "Abstraction in OOP is a process of hiding the real implementation of the method by only showing a method signature. In Python, we can achieve abstraction using ABC (abstraction class) or abstract method.  \n",
    "- `ABC` is a class from the `abc` module in Python. If we extend any class with `ABC` and include any abstraction methods, then the classes inherited from this class will have to mandatorily implement those abstract methods.\n",
    "- When we annotate any method with an `abstractmethod` keyword, then it is an abstract method in Python (it won’t have any method implementation). If the parent class has `abstractmethod` and not inherited from an abstract class, then it is optional to implement the `abstractmethod`."
   ]
  },
  {
   "cell_type": "code",
   "execution_count": 37,
   "metadata": {},
   "outputs": [],
   "source": [
    "from abc import abstractmethod, ABC\n",
    "\n",
    "class Vehicle(ABC):\n",
    "    def __init__(self, speed, year):\n",
    "        self.speed = speed\n",
    "        self.year = year\n",
    "\n",
    "    def start(self):\n",
    "        print(\"Starting engine\")\n",
    "\n",
    "    def stop(self):\n",
    "        print(\"Stopping engine\")\n",
    "\n",
    "    @abstractmethod\n",
    "    def drive(self):\n",
    "        pass\n",
    "\n",
    "\n",
    "class Car(Vehicle):\n",
    "    def __init__(self, canClimbMountains, speed, year):\n",
    "        Vehicle.__init__(self, speed, year)\n",
    "        self.canClimbMountains = canClimbMountains\n",
    "\n",
    "    def drive(self):\n",
    "        print(\"Car is in drive mode\")"
   ]
  },
  {
   "cell_type": "markdown",
   "metadata": {},
   "source": [
    "Here, `Vehicle` is a parent inherited from `ABC` class. It has an abstraction method `drive`. `Car` is another class that is inherited from `Vehicle`, so it had to implement the `drive` method."
   ]
  },
  {
   "cell_type": "markdown",
   "metadata": {},
   "source": [
    "**Introduction**  \n",
    "We use television to watch shows, news or movies, etc. We use the TV remote to switch the TV ON or OFF, switch to different channels, and raise or lower the volume. The TV user only knows he/she may use the buttons on the remote to do it. What they don’t know is how all this is happening internally, for example how the TV sensor is capturing signals from the TV remote and then how it is processing the received signals to perform the required action of changing the channel, etc. All the internal functionality is hidden, as for the user it might not be necessary for them to know how that is happening.  \n",
    "  \n",
    "The example we saw above is one of the examples of abstraction in real life. In object-oriented programming, we shall call it ‘Data Abstraction’. Let us define data abstraction:  \n",
    "  \n",
    "**The process by which data and functions are defined in such a way that only essential details can be seen and unnecessary implementations are hidden is called Data Abstraction.**\n",
    "  \n",
    "The main focus of data abstraction is to separate the interface and the implementation of the program.  \n",
    "  \n",
    "**Data Abstraction in OOP**  \n",
    "Abstraction is really powerful for making complex tasks and codes simpler when used in `Object-Oriented Programming`. It reduces the complexity for the user by making the relevant part accessible and usable leaving the unnecessary code hidden. Also, there are times when we do not want to give out sensitive parts of our code implementation and this is where data abstraction can also prove to be very functional.  \n",
    "  \n",
    "From a programmer’s perspective, if we think about data abstraction, there is more to it than just hiding unnecessary information. One other way to think of abstraction is as synonymous with generalization. If, for instance, you wanted to create a program to multiply eight times seven, you wouldn't build an application to only multiply those two numbers.  \n",
    "  \n",
    "Instead, you'd create a program capable of multiplying any two numbers. To put it another way, abstraction is a way of thinking about a function's specific use as separate from its more generalized purpose. Thinking this way lets you create flexible, scalable, and adaptable functions and programs. You’ll get a better understanding of data abstraction and it’s purposes by the end of this article.  \n",
    "  \n",
    "**Data Abstraction in Python**  \n",
    "Data Abstraction in Python can be achieved through creating `abstract classes` and inheriting them later. Before discussing what abstract classes are, let us have a brief introduction of inheritance.  \n",
    "  \n",
    "`Inheritance in OOP` is a way through which one class inherits the attributes and methods of another class. The class whose properties and methods are inherited is known as the Parent class. And the class that inherits the properties from the parent class is the Child class/subclass.  \n",
    "  \n",
    "The basic syntax to implement inheritance in Python is:  "
   ]
  },
  {
   "cell_type": "markdown",
   "metadata": {},
   "source": [
    "> class parent_class:  \n",
    "> ...body of parent class\n",
    "_______\n",
    "> class child_class( parent_class):  \n",
    "> ...body of child class  \n"
   ]
  },
  {
   "cell_type": "markdown",
   "metadata": {},
   "source": [
    "Let us now talk about abstract classes in python:\n",
    "\n",
    "### **Abstract Classes in Python**  \n",
    "**Abstract Class**: The classes that cannot be instantiated. This means that we cannot create objects of an abstract class and these are only meant to be inherited. Then an object of the derived class is used to access the features of the base class. These are specifically defined to lay a foundation of other classes that exhibit common behavior or characteristics.  \n",
    "  \n",
    "The abstract class is an interface. Interfaces in OOP enable a class to inherit data and functions from a base class by extending it. In Python, we use the NotImplementedError to restrict the instantiation of a class. Any class having this error inside method definitions cannot be instantiated.  \n",
    "  \n",
    "We can understand that an abstract class just serves as a template for other classes by defining a list of methods that the classes must implement. To use such a class, we must derive them keeping in mind that we would either be using or overriding the features specified in that class.  \n",
    "  \n",
    "Consider an example where we create an abstract class Fruit. We derive two classes Mango and Orange from the Fruit class that implement the methods defined in this class. Here the Fruit class is the parent abstract class and the classes Mango and Apple become the sub/child classes. We won’t be able to access the methods of the Fruit class by simply creating an object, we will have to create the objects of the derived classes: Mango and Apple to access the methods.  \n",
    "<img src='Abstract_classes.png'>  \n",
    "  \n",
    "**Why use Abstract Base Class?**  \n",
    "Defining an Abstract Base Class lets us create a common Application Programming Interface (API) for multiple subclasses. It is useful while working in large teams and code-bases so that all of the classes need not be remembered and also be provided as library by third parties.  \n",
    "  \n",
    "**Working of Abstract Class**  \n",
    "Unlike other high-level programming languages, Python does not provide the abstract class itself. To achieve that, we use the abc module of Python, which provides the base and necessary tools for defining Abstract Base Classes (ABC). ABCs give the feature of virtual subclasses, which are classes that don’t inherit from a class and can still be recognized by  \n",
    "\n",
    "**isinstance()**  \n",
    "  \n",
    "or  \n",
    "  \n",
    "**issubclass()**  \n",
    "  \n",
    "\n",
    "We can create our own ABCs with this module.  \n",
    "\n",
    "> from abc import ABC  \n",
    ">class MyABC(ABC):  \n",
    ">\tpass  \n",
    "\n",
    "The abc module provides the metaclass ABCMeta for defining ABCs and a helper class ABC to alternatively define ABCs through inheritance. The abc module also provides the @abstractmethod decorator for indicating abstract methods.  \n",
    "  \n",
    "ABC is defined in a way that the abstract methods in the base class are created by decorating with the @abstractmethod keyword and the concrete methods are registered as implementations of the base class.  \n",
    "  \n",
    "**Concrete Methods in Abstract Base Class in Python**  \n",
    "We now know that we use abstract classes as a template for other similarly characterized classes. Using this, we can define a structure, but do not need to provide complete implementation for every method, such as:\n"
   ]
  },
  {
   "cell_type": "code",
   "execution_count": 39,
   "metadata": {},
   "outputs": [],
   "source": [
    "from abc import ABC, abstractmethod\n",
    "class MyClass(ABC):\n",
    " @abstractmethod\n",
    " def mymethod(self):\n",
    "  #empty body\n",
    "  pass\n"
   ]
  },
  {
   "cell_type": "markdown",
   "metadata": {},
   "source": [
    "The methods where the implementation may vary for any other subclass are defined as abstract methods and need to be given an implementation in the subclass definition.  \n",
    "  \n",
    "On the other hand, there are methods that have the same implementation for all subclasses as well. There are characteristics that exhibit the properties of the abstract class and so, must be implemented in the abstract class itself. Otherwise, it will lead to repetitive code in all the inherited classes. These methods are called **concrete methods**.  \n",
    "\n",
    "Concrete Methods in Abstract Base Classes : \n",
    "Concrete classes contain only concrete (normal)methods whereas abstract classes may contain both concrete methods and abstract methods. The concrete class provides an implementation of abstract methods, the abstract base class can also provide an implementation by invoking the methods via super(). "
   ]
  },
  {
   "cell_type": "code",
   "execution_count": 46,
   "metadata": {},
   "outputs": [],
   "source": [
    "from abc import ABC, abstractmethod\n",
    "\n",
    "class Parent(ABC):\n",
    "  #common function\n",
    "  def common_fn(self):\n",
    "    print('In the common method of Parent') \n",
    "\n",
    "    @abstractmethod\n",
    "    def abs_fn(self): #is supposed to have different implementation in child classes \n",
    "        pass\n",
    "\n",
    "class Child1(Parent):\n",
    "  def abs_fn(self):\n",
    "    print('In the abstract method of Child1')\n",
    "\n",
    "class Child2(Parent):\n",
    "  def abs_fn(self):\n",
    "    print('In the abstract method of Child2')\n"
   ]
  },
  {
   "cell_type": "markdown",
   "metadata": {},
   "source": [
    "An abstract class can have both abstract methods and concrete methods.  \n",
    "  \n",
    "We can now access the concrete method of the abstract class by instantiating an object of the child class. We can also access the abstract methods of the child classes with it. Interesting points to keep in mind are:  \n",
    "- We always need to provide an implementation of the abstract method in the child class even when implementation is given in the abstract class.  \n",
    "- A subclass must implement all abstract methods that are defined in the parent class otherwise it results in an error.  \n",
    "  \n",
    "**Examples of Data Abstraction**  \n",
    "Let us take some examples to understand the working of abstract classes in Python. Consider the `Animal` parent class and other child classes derived from it.  \n",
    "<img src='Abstract_classes_animal.png'>"
   ]
  },
  {
   "cell_type": "code",
   "execution_count": 51,
   "metadata": {},
   "outputs": [],
   "source": [
    "from abc import ABC,abstractmethod\n",
    " \n",
    "class Animal(ABC):\n",
    " \n",
    "    #concrete method\n",
    "    def sleep(self):\n",
    "        print(\"I am going to sleep in a while\")\n",
    " \n",
    "    @abstractmethod\n",
    "    def sound(self):\n",
    "\t    print(\"This function is for defining the sound by any animal\")\n",
    "        #pass\n",
    " \n",
    "class Snake(Animal):\n",
    "    def sound(self):\n",
    "        print(\"I can hiss\")\n",
    " \n",
    "class Dog(Animal):\n",
    "    def sound(self):\n",
    "        print(\"I can bark\")\n",
    " \n",
    "class Lion(Animal):\n",
    "    def sound(self):\n",
    "        print(\"I can roar\")\n",
    "       \n",
    "class Cat(Animal):\n",
    "    def sound(self):\n",
    "        print(\"I can meow\")\n"
   ]
  },
  {
   "cell_type": "markdown",
   "metadata": {},
   "source": [
    "Our abstract base class has a concrete method sleep() that will be the same for all the child classes. So, we do not define it as an abstract method, thus saving us from code repetition. On the other hand, the sounds that animals make are all different. For that purpose, we defined the `sound()` method as an abstract method. We then implement it in all child classes.  \n",
    "  \n",
    "Now, when we instantiate the child class object, we can access both the concrete and the abstract methods."
   ]
  },
  {
   "cell_type": "code",
   "execution_count": 52,
   "metadata": {},
   "outputs": [
    {
     "name": "stdout",
     "output_type": "stream",
     "text": [
      "I am going to sleep in a while\n",
      "I can meow\n",
      "I can hiss\n"
     ]
    }
   ],
   "source": [
    "c = Cat()\n",
    "c.sleep()\n",
    "c.sound()\n",
    " \n",
    "c = Snake()\n",
    "c.sound()\n"
   ]
  },
  {
   "cell_type": "markdown",
   "metadata": {},
   "source": [
    "Now, if we want to access the `sound()` function of the base class itself, we can use the object of the child class, but we will have to invoke it through `super()`."
   ]
  },
  {
   "cell_type": "code",
   "execution_count": 53,
   "metadata": {},
   "outputs": [
    {
     "name": "stdout",
     "output_type": "stream",
     "text": [
      "This function is for defining the sound by any animal\n",
      "I can squeak\n"
     ]
    }
   ],
   "source": [
    "class Rabbit(Animal):\n",
    "    def sound(self):\n",
    "        super().sound()\n",
    "        print(\"I can squeak\")\n",
    " \n",
    "c = Rabbit()\n",
    "c.sound()\n"
   ]
  },
  {
   "cell_type": "markdown",
   "metadata": {},
   "source": [
    "If we do not provide any implementation of an abstract method in the derived child class, an error is produced. Notice, even when we have given implementation of the `sound()` method in the base class, not providing an implementation in the child class will produce an error."
   ]
  },
  {
   "cell_type": "code",
   "execution_count": 54,
   "metadata": {},
   "outputs": [
    {
     "name": "stdout",
     "output_type": "stream",
     "text": [
      "I am going to sleep in a while\n"
     ]
    }
   ],
   "source": [
    "class Deer(Animal):\n",
    "    def sound(self):\n",
    "        pass\n",
    " \n",
    "c = Deer()\n",
    "c.sound()\n",
    "c.sleep()\n"
   ]
  },
  {
   "cell_type": "markdown",
   "metadata": {},
   "source": [
    "**NOTE:** Had there been more than one abstract method in the base class, all of them are required to be implemented in the child classes, otherwise, an error is produced.  \n",
    "  \n",
    "**Why Data Abstraction is Important?**  \n",
    "Now that we know what **Data Abstraction in Python** is, we can also conclude how it is important.  \n",
    "  \n",
    "Data Abstraction firstly saves a lot of our time as we do not have to repeat the code that may be the same for all the classes. Moreover, if there are any additional features, they can be easily added, thus improving flexibility. Not to mention, working in large teams becomes easier as one won’t have to remember every function and the basic structure can be inherited without any confusions.  \n",
    "\n",
    "### **Conclusion**  \n",
    "Now that we have learned about Data Abstraction in Python, recall and tryto answer some questions for your better understanding:  \n",
    "- Try thinking of an example of ‘abstraction’ in your everyday life.\n",
    "- Why do you think Data Abstraction can be useful?\n",
    "- How can abstraction be achieved in Python?\n",
    "- What are the few things to keep in mind about abstract and concrete methods while working with abstract classes?"
   ]
  },
  {
   "cell_type": "markdown",
   "metadata": {},
   "source": [
    "## **7. Encapsulation**  \n",
    "  \n",
    "Encapsulation is one of the fundamental concepts in `object-oriented programming (OOP)`, including abstraction, inheritance, and polymorphism. This lesson will cover what encapsulation is and how to implement it in Python.  \n",
    "  \n",
    "**After reading this article, you will learn:**  \n",
    "- Encapsulation in Python\n",
    "- Need for Encapsulation\n",
    "- Data Hiding using public, protected, and private members\n",
    "- Data Hiding vs. Encapsulation\n",
    "- Getter and Setter Methods\n",
    "- Benefits of Encapsulation  \n",
    "\n",
    "**Table of contents**  \n",
    "- What is Encapsulation in Python?\n",
    "- Access Modifiers in Python\n",
    "- Public Member\n",
    "- Private Member\n",
    "    - Public method to access private members\n",
    "    - Name Mangling to access private members\n",
    "- Protected Member\n",
    "- Getters and Setters in Python\n",
    "- Advantages of Encapsulation  \n",
    "\n",
    "**What is Encapsulation in Python?**  \n",
    "`Encapsulation` in Python describes the concept of **bundling data and methods within a single unit**. So, for example, when you create a `class`, it means you are implementing encapsulation. A class is an example of encapsulation as it binds all the data members `(instance variables)` and methods into a single unit.  \n",
    "<img src='encapsulation.jpg'>  \n",
    "\n",
    "**Example:**  \n",
    "In this example, we create an Employee class by defining employee attributes such as name and salary as an instance variable and implementing behavior using `work()` and `show()` instance methods."
   ]
  },
  {
   "cell_type": "code",
   "execution_count": 19,
   "metadata": {},
   "outputs": [
    {
     "name": "stdout",
     "output_type": "stream",
     "text": [
      "Name:  Jessa Salary: 8000\n",
      "Jessa is working on NLP\n"
     ]
    }
   ],
   "source": [
    "class Employee:\n",
    "    # constructor\n",
    "    def __init__(self, name, salary, project):\n",
    "        # data members\n",
    "        self.name = name\n",
    "        self.salary = salary\n",
    "        self.project = project\n",
    "\n",
    "    # method\n",
    "    # to display employee's details\n",
    "    def show(self):\n",
    "        # accessing public data member\n",
    "        print(\"Name: \", self.name, 'Salary:', self.salary)\n",
    "\n",
    "    # method\n",
    "    def work(self):\n",
    "        print(self.name, 'is working on', self.project)\n",
    "\n",
    "# creating object of a class\n",
    "emp = Employee('Jessa', 8000, 'NLP')\n",
    "\n",
    "# calling public method of the class\n",
    "emp.show()\n",
    "emp.work()"
   ]
  },
  {
   "cell_type": "markdown",
   "metadata": {},
   "source": [
    "Using encapsulation, we can hide an object’s internal representation from the outside. This is called information hiding.  \n",
    "  \n",
    "Also, encapsulation allows us to restrict accessing variables and methods directly and prevent accidental data modification by creating private data members and methods within a class.  \n",
    "  \n",
    "`Encapsulation` is a way to can restrict access to methods and variables from outside of class. Whenever we are working with the class and dealing with sensitive data, providing access to all variables used within the class is not a good choice.  \n",
    "  \n",
    "**For example**, Suppose you have an attribute that is not visible from the outside of an object and bundle it with methods that provide read or write access. In that case, you can hide specific information and control access to the object’s internal state. Encapsulation offers a way for us to access the required variable without providing the program full-fledged access to all variables of a class. This mechanism is used to protect the data of an object from other objects.  \n",
    "  \n",
    "**Access Modifiers in Python**  \n",
    "Encapsulation can be achieved by declaring the data members and methods of a class either as private or protected. But In Python, we don’t have direct access modifiers like public, private, and protected. We can achieve this by using single **underscore** and **double underscores**.  \n",
    "  \n",
    "Access modifiers limit access to the variables and methods of a class. Python provides three types of access modifiers private, public, and protected.  \n",
    "  \n",
    "- **Public Member**: Accessible anywhere from otside oclass.\n",
    "- **Private Member**: Accessible within the class\n",
    "- **Protected Member**: Accessible within the class and its sub-classes  \n",
    "\n",
    "<img src='encapsulation_data_hiding.jpg'>  \n",
    "\n",
    "**Public Member**  \n",
    "Public data members are accessible within and outside of a class. All member variables of the class are by default public.\n",
    "\n",
    "**Example:**  "
   ]
  },
  {
   "cell_type": "code",
   "execution_count": 20,
   "metadata": {},
   "outputs": [
    {
     "name": "stdout",
     "output_type": "stream",
     "text": [
      "Name:  Jessa Salary: 10000\n",
      "Name:  Jessa Salary: 10000\n"
     ]
    }
   ],
   "source": [
    "class Employee:\n",
    "    # constructor\n",
    "    def __init__(self, name, salary):\n",
    "        # public data members\n",
    "        self.name = name\n",
    "        self.salary = salary\n",
    "\n",
    "    # public instance methods\n",
    "    def show(self):\n",
    "        # accessing public data member\n",
    "        print(\"Name: \", self.name, 'Salary:', self.salary)\n",
    "\n",
    "# creating object of a class\n",
    "emp = Employee('Jessa', 10000)\n",
    "\n",
    "# accessing public data members\n",
    "print(\"Name: \", emp.name, 'Salary:', emp.salary)\n",
    "\n",
    "# calling public method of the class\n",
    "emp.show()"
   ]
  },
  {
   "cell_type": "markdown",
   "metadata": {},
   "source": [
    "**Private Member**  \n",
    "We can protect variables in the class by marking them private. To define a private variable add two underscores as a prefix at the start of a variable name.  \n",
    "  \n",
    "Private members are accessible only within the class, and we can’t access them directly from the class objects.  \n",
    "  \n",
    "**Example:**  "
   ]
  },
  {
   "cell_type": "code",
   "execution_count": 22,
   "metadata": {},
   "outputs": [
    {
     "ename": "AttributeError",
     "evalue": "'Employee' object has no attribute '__salary'",
     "output_type": "error",
     "traceback": [
      "\u001b[1;31m---------------------------------------------------------------------------\u001b[0m",
      "\u001b[1;31mAttributeError\u001b[0m                            Traceback (most recent call last)",
      "\u001b[1;32mC:\\Users\\DEEPAK~1.R\\AppData\\Local\\Temp/ipykernel_16940/3586610350.py\u001b[0m in \u001b[0;36m<module>\u001b[1;34m\u001b[0m\n\u001b[0;32m     11\u001b[0m \u001b[1;33m\u001b[0m\u001b[0m\n\u001b[0;32m     12\u001b[0m \u001b[1;31m# accessing private data members\u001b[0m\u001b[1;33m\u001b[0m\u001b[1;33m\u001b[0m\u001b[1;33m\u001b[0m\u001b[0m\n\u001b[1;32m---> 13\u001b[1;33m \u001b[0mprint\u001b[0m\u001b[1;33m(\u001b[0m\u001b[1;34m'Salary:'\u001b[0m\u001b[1;33m,\u001b[0m \u001b[0memp\u001b[0m\u001b[1;33m.\u001b[0m\u001b[0m__salary\u001b[0m\u001b[1;33m)\u001b[0m\u001b[1;33m\u001b[0m\u001b[1;33m\u001b[0m\u001b[0m\n\u001b[0m\u001b[0;32m     14\u001b[0m \u001b[1;31m# Output will be error no code to change\u001b[0m\u001b[1;33m\u001b[0m\u001b[1;33m\u001b[0m\u001b[1;33m\u001b[0m\u001b[0m\n\u001b[0;32m     15\u001b[0m \u001b[1;31m# AttributeError: 'Employee' object has no attribute '__salary'\u001b[0m\u001b[1;33m\u001b[0m\u001b[1;33m\u001b[0m\u001b[1;33m\u001b[0m\u001b[0m\n",
      "\u001b[1;31mAttributeError\u001b[0m: 'Employee' object has no attribute '__salary'"
     ]
    }
   ],
   "source": [
    "class Employee:\n",
    "    # constructor\n",
    "    def __init__(self, name, salary):\n",
    "        # public data member\n",
    "        self.name = name\n",
    "        # private member\n",
    "        self.__salary = salary\n",
    "\n",
    "# creating object of a class\n",
    "emp = Employee('Jessa', 10000)\n",
    "\n",
    "# accessing private data members\n",
    "print('Salary:', emp.__salary)\n",
    "# Output will be error no code to change\n",
    "# AttributeError: 'Employee' object has no attribute '__salary'"
   ]
  },
  {
   "cell_type": "markdown",
   "metadata": {},
   "source": [
    "In the above example, the salary is a private variable. As you know, we can’t access the private variable from the outside of that class.  \n",
    "  \n",
    "We can access private members from outside of a class using the following two approaches  \n",
    "- Create public method to access private members\n",
    "- Use name mangling  \n",
    "\n",
    "Let’s see each one by one  \n",
    "  \n",
    "**Public method to access private members**  \n",
    "**Example**: Access Private member outside of a class using an instance method  "
   ]
  },
  {
   "cell_type": "code",
   "execution_count": 23,
   "metadata": {},
   "outputs": [
    {
     "name": "stdout",
     "output_type": "stream",
     "text": [
      "Name:  Jessa Salary: 10000\n"
     ]
    }
   ],
   "source": [
    "class Employee:\n",
    "    # constructor\n",
    "    def __init__(self, name, salary):\n",
    "        # public data member\n",
    "        self.name = name\n",
    "        # private member\n",
    "        self.__salary = salary\n",
    "\n",
    "    # public instance methods\n",
    "    def show(self):\n",
    "        # private members are accessible from a class\n",
    "        print(\"Name: \", self.name, 'Salary:', self.__salary)\n",
    "\n",
    "# creating object of a class\n",
    "emp = Employee('Jessa', 10000)\n",
    "\n",
    "# calling public method of the class\n",
    "emp.show()"
   ]
  },
  {
   "cell_type": "markdown",
   "metadata": {},
   "source": [
    "**Name Mangling to access private members**  \n",
    "We can directly access private and protected variables from outside of a class through name mangling. The name mangling is created on an identifier by adding two leading underscores and one trailing underscore, like this `_classname__dataMember`, where `classname` is the current class, and data member is the private variable name.  \n",
    "  \n",
    "**Example**: Access private member  "
   ]
  },
  {
   "cell_type": "code",
   "execution_count": 24,
   "metadata": {},
   "outputs": [
    {
     "name": "stdout",
     "output_type": "stream",
     "text": [
      "Name: Jessa\n",
      "Salary: 10000\n"
     ]
    }
   ],
   "source": [
    "class Employee:\n",
    "    # constructor\n",
    "    def __init__(self, name, salary):\n",
    "        # public data member\n",
    "        self.name = name\n",
    "        # private member\n",
    "        self.__salary = salary\n",
    "\n",
    "# creating object of a class\n",
    "emp = Employee('Jessa', 10000)\n",
    "\n",
    "print('Name:', emp.name)\n",
    "# direct access to private member using name mangling\n",
    "print('Salary:', emp._Employee__salary)"
   ]
  },
  {
   "cell_type": "markdown",
   "metadata": {},
   "source": [
    "**Protected Member**  \n",
    "Protected members are accessible within the class and also available to its sub-classes. To define a protected member, prefix the member name with a single underscore **_**.  \n",
    "  \n",
    "Protected data members are used when you implement `inheritance` and want to allow data members access to only child classes.  \n",
    "  \n",
    "**Example**: Proctecd member in inheritance."
   ]
  },
  {
   "cell_type": "code",
   "execution_count": 25,
   "metadata": {},
   "outputs": [
    {
     "name": "stdout",
     "output_type": "stream",
     "text": [
      "Employee name : Jessa\n",
      "Working on project : NLP\n",
      "Project: NLP\n"
     ]
    }
   ],
   "source": [
    "# base class\n",
    "class Company:\n",
    "    def __init__(self):\n",
    "        # Protected member\n",
    "        self._project = \"NLP\"\n",
    "\n",
    "# child class\n",
    "class Employee(Company):\n",
    "    def __init__(self, name):\n",
    "        self.name = name\n",
    "        Company.__init__(self)\n",
    "\n",
    "    def show(self):\n",
    "        print(\"Employee name :\", self.name)\n",
    "        # Accessing protected member in child class\n",
    "        print(\"Working on project :\", self._project)\n",
    "\n",
    "c = Employee(\"Jessa\")\n",
    "c.show()\n",
    "\n",
    "# Direct access protected data member\n",
    "print('Project:', c._project)"
   ]
  },
  {
   "cell_type": "markdown",
   "metadata": {},
   "source": [
    "**Getters and Setters in Python**  \n",
    "To implement proper encapsulation in Python, we need to use setters and getters. The primary purpose of using getters and setters in object-oriented programs is to ensure data encapsulation. Use the getter method to access data members and the setter methods to modify the data members.  \n",
    "  \n",
    "In Python, private variables are not hidden fields like in other programming languages. The getters and setters methods are often used when:  \n",
    "- When we want to avoid direct access to private variables\n",
    "- To add validation logic for setting a value  \n",
    "  \n",
    "**Example**  "
   ]
  },
  {
   "cell_type": "code",
   "execution_count": 26,
   "metadata": {},
   "outputs": [
    {
     "name": "stdout",
     "output_type": "stream",
     "text": [
      "Name: Jessa 14\n",
      "Name: Jessa 16\n"
     ]
    }
   ],
   "source": [
    "class Student:\n",
    "    def __init__(self, name, age):\n",
    "        # private member\n",
    "        self.name = name\n",
    "        self.__age = age\n",
    "\n",
    "    # getter method\n",
    "    def get_age(self):\n",
    "        return self.__age\n",
    "\n",
    "    # setter method\n",
    "    def set_age(self, age):\n",
    "        self.__age = age\n",
    "\n",
    "stud = Student('Jessa', 14)\n",
    "\n",
    "# retrieving age using getter\n",
    "print('Name:', stud.name, stud.get_age())\n",
    "\n",
    "# changing age using setter\n",
    "stud.set_age(16)\n",
    "\n",
    "# retrieving age using getter\n",
    "print('Name:', stud.name, stud.get_age())"
   ]
  },
  {
   "cell_type": "markdown",
   "metadata": {},
   "source": [
    "Let’s take another example that shows how to use encapsulation to implement information hiding and apply additional validation before changing the values of your object attributes (data member).\n",
    "\n",
    "**Example**: Information Hiding and conditional logic for setting an object attributes"
   ]
  },
  {
   "cell_type": "code",
   "execution_count": 27,
   "metadata": {},
   "outputs": [
    {
     "name": "stdout",
     "output_type": "stream",
     "text": [
      "Student Details: Jessa 10\n",
      "Invalid roll no. Please set correct roll number\n",
      "Student Details: Jessa 25\n"
     ]
    }
   ],
   "source": [
    "class Student:\n",
    "    def __init__(self, name, roll_no, age):\n",
    "        # private member\n",
    "        self.name = name\n",
    "        # private members to restrict access\n",
    "        # avoid direct data modification\n",
    "        self.__roll_no = roll_no\n",
    "        self.__age = age\n",
    "\n",
    "    def show(self):\n",
    "        print('Student Details:', self.name, self.__roll_no)\n",
    "\n",
    "    # getter methods\n",
    "    def get_roll_no(self):\n",
    "        return self.__roll_no\n",
    "\n",
    "    # setter method to modify data member\n",
    "    # condition to allow data modification with rules\n",
    "    def set_roll_no(self, number):\n",
    "        if number > 50:\n",
    "            print('Invalid roll no. Please set correct roll number')\n",
    "        else:\n",
    "            self.__roll_no = number\n",
    "\n",
    "jessa = Student('Jessa', 10, 15)\n",
    "\n",
    "# before Modify\n",
    "jessa.show()\n",
    "# changing roll number using setter\n",
    "jessa.set_roll_no(120)\n",
    "\n",
    "\n",
    "jessa.set_roll_no(25)\n",
    "jessa.show()"
   ]
  },
  {
   "cell_type": "markdown",
   "metadata": {},
   "source": [
    "**Advantages of Encapsulation**  \n",
    "- **Security**: The main advantage of using encapsulation is the security of the data. Encapsulation protects an object from unauthorized access. It allows private and protected access levels to prevent accidental data modification.\n",
    "- **Data Hiding**: The user would not be knowing what is going on behind the scene. They would only be knowing that to modify a data member, call the setter method. To read a data member, call the getter method. What these setter and getter methods are doing is hidden from them.\n",
    "- **Simplicity**: It simplifies the maintenance of the application by keeping classes separated and preventing them from tightly coupling with each other.\n",
    "- **Aesthetics**: Bundling data and methods within a class makes code more readable and maintainable"
   ]
  },
  {
   "cell_type": "code",
   "execution_count": null,
   "metadata": {},
   "outputs": [],
   "source": []
  }
 ],
 "metadata": {
  "interpreter": {
   "hash": "4cda9959e67a3991815d4c3f8f8b89c33aa308d72b1e839cef19e7e841945cd6"
  },
  "kernelspec": {
   "display_name": "Python 3",
   "language": "python",
   "name": "python3"
  },
  "language_info": {
   "codemirror_mode": {
    "name": "ipython",
    "version": 3
   },
   "file_extension": ".py",
   "mimetype": "text/x-python",
   "name": "python",
   "nbconvert_exporter": "python",
   "pygments_lexer": "ipython3",
   "version": "3.8.8"
  }
 },
 "nbformat": 4,
 "nbformat_minor": 2
}
